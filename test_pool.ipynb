{
 "cells": [
  {
   "cell_type": "code",
   "execution_count": null,
   "id": "b4dabc3a",
   "metadata": {},
   "outputs": [
    {
     "name": "stderr",
     "output_type": "stream",
     "text": [
      "Processing in parallel:   0%|          | 0/1000 [00:00<?, ?it/s]"
     ]
    }
   ],
   "source": [
    "from importlib import reload ,import_module\n",
    "import module.utilize as utilize\n",
    "import module.multiVariant as multiVariant\n",
    "import module.singleVariant as singleVariant\n",
    "import module.multiHistogramBase as multiHistogramBase\n",
    "import numpy as np\n",
    "from numba import njit,jit, float32\n",
    "import module.singleVariantCopulaBase as CopulaBase\n",
    "from tqdm import tqdm\n",
    "import time\n",
    "from multiprocessing import Pool\n",
    "reload(utilize)\n",
    "reload(multiVariant)\n",
    "reload(singleVariant)\n",
    "reload(multiHistogramBase)\n",
    "reload(CopulaBase)\n",
    "\n",
    "startTime=time.time()\n",
    "\n",
    "attribute_names=np.array([\"phi_grav\",\"particle_mass_density\",\"xmom\"])\n",
    "incremental_number=300\n",
    "all_ensamble_data=np.empty([0,incremental_number,64,64,64])\n",
    "\"\"\"\n",
    "for name in attribute_names:\n",
    "    data=utilize.readFiles(name,incremental_number)\n",
    "    data=data.reshape(1,incremental_number,64,64,64)\n",
    "    all_ensamble_data=np.append(all_ensamble_data,data,axis=0)\n",
    "\"\"\"\n",
    "oursModel=multiVariant.multiDistCopula3D.load(f\"Nyx_{attribute_names.shape[0]}varaibles_{incremental_number}members_128Bins_dBlock5_cBlock5_new\")\n",
    "sizeZ=10\n",
    "sizeY=10\n",
    "sizeX=10\n",
    "def compute_Error(args):\n",
    "    idx, oursModel=args\n",
    "    z = idx // (sizeY * sizeX)\n",
    "    y = (idx // sizeX) % sizeY\n",
    "    x = idx % sizeX\n",
    "    samples=oursModel.sampleByPos(z,y,x)\n",
    "    mean=samples.mean()\n",
    "    return mean\n",
    "\n",
    "args_list = [(i, oursModel)\n",
    "             for i in range(sizeZ*sizeY*sizeX)]\n",
    "\n",
    "with Pool(4) as pool:\n",
    "    results = list(\n",
    "        tqdm(\n",
    "            pool.imap(compute_Error, args_list),  # 或 pool.imap_unordered\n",
    "            total=len(args_list),\n",
    "            desc=\"Processing in parallel\"\n",
    "        )\n",
    "    )\n"
   ]
  }
 ],
 "metadata": {
  "kernelspec": {
   "display_name": "Python 3",
   "language": "python",
   "name": "python3"
  },
  "language_info": {
   "codemirror_mode": {
    "name": "ipython",
    "version": 3
   },
   "file_extension": ".py",
   "mimetype": "text/x-python",
   "name": "python",
   "nbconvert_exporter": "python",
   "pygments_lexer": "ipython3",
   "version": "3.13.5"
  }
 },
 "nbformat": 4,
 "nbformat_minor": 5
}
