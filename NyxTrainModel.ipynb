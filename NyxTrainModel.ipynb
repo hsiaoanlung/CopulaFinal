{
 "cells": [
  {
   "cell_type": "code",
   "execution_count": null,
   "id": "4c7b0bf7",
   "metadata": {},
   "outputs": [
    {
     "name": "stderr",
     "output_type": "stream",
     "text": [
      "總進度: 100%|██████████| 4/4 [00:57<00:00, 14.45s/it]\n"
     ]
    }
   ],
   "source": [
    "from importlib import reload ,import_module\n",
    "import module.utilize as utilize\n",
    "import module.multiVariant as multiVariant\n",
    "import module.singleVariant as singleVariant\n",
    "import numpy as np\n",
    "from numba import njit,jit, float32\n",
    "from tqdm import tqdm\n",
    "reload(utilize)\n",
    "reload(multiVariant)\n",
    "reload(singleVariant)\n",
    "\n",
    "\n",
    "attribute_names=np.array([\"phi_grav\",\"particle_mass_density\",\"zmom\",\"ymom\",\"xmom\"])\n",
    "incremental_number=100\n",
    "all_ensamble_data=np.empty([0,incremental_number,64,64,64])\n",
    "\n",
    "for name in attribute_names:\n",
    "    data=utilize.readFiles(name,incremental_number)\n",
    "    data=data.reshape(1,incremental_number,64,64,64)\n",
    "    all_ensamble_data=np.append(all_ensamble_data,data,axis=0)\n",
    "\n",
    "#print(all_ensamble_data.shape)\n",
    "#print(all_ensamble_data[0].shape)\n",
    "covBlockSize=5\n",
    "dataBlockSize=5\n",
    "binsNumber=128\n",
    "sizeZ=15\n",
    "sizeY=15\n",
    "sizeX=15\n",
    "minMaxBlockSize=2\n",
    "isMinMax=False\n",
    "\n",
    "with tqdm(total=4, desc=\"總進度\") as pbar:\n",
    "    for i in range(2,6):\n",
    "        data=all_ensamble_data[0:i, :, :, :, :]\n",
    "        \n",
    "        copulaModel=multiVariant.multiDistCopula3D(data,dataBlockSize,covBlockSize,binsNumber,[sizeZ,sizeY,sizeX],minMaxBlockSize,isMinMax)\n",
    "        copulaModel.fit()\n",
    "        copulaModel.saveInfoToFile(f\"Nyx_{i}varaibles_{incremental_number}members_{binsNumber}Bins_dBlock{dataBlockSize}_cBlock{covBlockSize}\")\n",
    "        copulaModel.saveModel(f\"Nyx_{i}varaibles_{incremental_number}members_{binsNumber}Bins_dBlock{dataBlockSize}_cBlock{covBlockSize}\")\n",
    "\n",
    "        pbar.update(1)\n"
   ]
  }
 ],
 "metadata": {
  "kernelspec": {
   "display_name": "Python 3",
   "language": "python",
   "name": "python3"
  },
  "language_info": {
   "codemirror_mode": {
    "name": "ipython",
    "version": 3
   },
   "file_extension": ".py",
   "mimetype": "text/x-python",
   "name": "python",
   "nbconvert_exporter": "python",
   "pygments_lexer": "ipython3",
   "version": "3.13.5"
  }
 },
 "nbformat": 4,
 "nbformat_minor": 5
}
