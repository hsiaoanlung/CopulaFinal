{
 "cells": [
  {
   "cell_type": "code",
   "execution_count": 11,
   "id": "863ca670",
   "metadata": {},
   "outputs": [
    {
     "name": "stderr",
     "output_type": "stream",
     "text": [
      "總進度: 100%|██████████| 8000/8000 [01:01<00:00, 130.59it/s]\n"
     ]
    }
   ],
   "source": [
    "from importlib import reload ,import_module\n",
    "import module.utilize as utilize\n",
    "import module.multiVariant as multiVariant\n",
    "import module.singleVariant as singleVariant\n",
    "import module.multiHistogramBase as multiHistogramBase\n",
    "import numpy as np\n",
    "from numba import njit,jit, float32\n",
    "import module.singleVariantCopulaBase as CopulaBase\n",
    "from tqdm import tqdm\n",
    "import time\n",
    "from multiprocessing import Pool\n",
    "from sklearn.metrics import root_mean_squared_error\n",
    "import cupy as cp\n",
    "import module.multiHistogramSparse as multiHistogramSparse\n",
    "reload(utilize)\n",
    "reload(multiVariant)\n",
    "reload(singleVariant)\n",
    "reload(multiHistogramBase)\n",
    "reload(CopulaBase)\n",
    "reload(multiHistogramSparse)\n",
    "import module.ananlysisFuncion as analysisFunction\n",
    "\n",
    "\n",
    "startTime=time.time()\n",
    "\n",
    "#attribute_names=np.array([\"phi_grav\",\"particle_mass_density\",\"zmom\",\"ymom\"])\n",
    "attribute_names=np.array([\"phi_grav\",\"particle_mass_density\"])\n",
    "incremental_number=300\n",
    "all_ensamble_data=np.empty([0,incremental_number,64,64,64])\n",
    "\n",
    "for name in attribute_names:\n",
    "    data=utilize.readFiles(name,incremental_number)\n",
    "    data=data.reshape(1,incremental_number,64,64,64)\n",
    "    all_ensamble_data=np.append(all_ensamble_data,data,axis=0)\n",
    "\n",
    "#print(all_ensamble_data.shape)\n",
    "#print(all_ensamble_data[0].shape)\n",
    "covBlockSize=5\n",
    "dataBlockSize=5\n",
    "binsNumber=128\n",
    "sizeZ=20\n",
    "sizeY=20\n",
    "sizeX=20\n",
    "minMaxBlockSize=2\n",
    "isMinMax=False\n",
    "\n",
    "conditions=np.array([[0,1e5],[3e10,5e10]])\n",
    "\n",
    "gtModel=multiHistogramSparse.multiHistogramSpaseModel(all_ensamble_data,blockSize=1,binsNumber=binsNumber)\n",
    "gtModel.fit()\n",
    "\n",
    "result=np.zeros([sizeZ,sizeY,sizeX],dtype=np.float32)\n",
    "oursResult=np.zeros([sizeZ,sizeY,sizeX],dtype=np.float32)\n",
    "oursModel=multiVariant.multiDistCopula3D.load(f\"Nyx_{attribute_names.shape[0]}varaibles_{incremental_number}members_128Bins_dBlock5_cBlock2_new\")\n",
    "with tqdm(total=sizeZ*sizeY*sizeX, desc=\"總進度\") as pbar:\n",
    "    for idx in range(sizeZ * sizeY * sizeX):\n",
    "        \n",
    "        z = idx // (sizeY * sizeX)\n",
    "        y = (idx // sizeX) % sizeY\n",
    "        x = idx % sizeX      \n",
    "\n",
    "        samples=gtModel.sampleByPos(z,y,x)\n",
    "        \n",
    "        prob=analysisFunction.probability_in_range_numba(samples,conditions)\n",
    "\n",
    "        result[z,y,x]=prob\n",
    "\n",
    "        \n",
    "        samples=oursModel.sampleByPos(z,y,x)\n",
    "\n",
    "        prob=analysisFunction.probability_in_range_numba(samples,conditions)\n",
    "\n",
    "        oursResult[z,y,x]=prob\n",
    "        pbar.update(1)\n",
    "\n",
    "result.tofile(\"newProb.bin\")\n",
    "oursResult.tofile(\"ous.bin\")"
   ]
  },
  {
   "cell_type": "code",
   "execution_count": 6,
   "id": "263eea86",
   "metadata": {},
   "outputs": [
    {
     "name": "stdout",
     "output_type": "stream",
     "text": [
      "[[3 4 5]\n",
      " [6 7 8]]\n",
      "[[3 6]\n",
      " [4 7]\n",
      " [5 8]]\n"
     ]
    }
   ],
   "source": [
    "import numpy as np\n",
    "\n",
    "a=np.array([[3,4,5],[6,7,8]])\n",
    "b=a.T\n",
    "print(a)\n",
    "print(b)"
   ]
  }
 ],
 "metadata": {
  "kernelspec": {
   "display_name": "Python 3",
   "language": "python",
   "name": "python3"
  },
  "language_info": {
   "codemirror_mode": {
    "name": "ipython",
    "version": 3
   },
   "file_extension": ".py",
   "mimetype": "text/x-python",
   "name": "python",
   "nbconvert_exporter": "python",
   "pygments_lexer": "ipython3",
   "version": "3.13.5"
  }
 },
 "nbformat": 4,
 "nbformat_minor": 5
}
