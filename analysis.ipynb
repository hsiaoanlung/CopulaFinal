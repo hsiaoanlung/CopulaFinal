{
 "cells": [
  {
   "cell_type": "code",
   "execution_count": null,
   "id": "9da1a364",
   "metadata": {},
   "outputs": [
    {
     "name": "stdout",
     "output_type": "stream",
     "text": [
      "start fit model\n"
     ]
    },
    {
     "name": "stderr",
     "output_type": "stream",
     "text": [
      "Model fitting:  25%|██▌       | 1/4 [00:00<00:00,  8.46it/s]"
     ]
    },
    {
     "name": "stdout",
     "output_type": "stream",
     "text": [
      "ours complete fit\n"
     ]
    },
    {
     "name": "stderr",
     "output_type": "stream",
     "text": [
      "Model fitting:  50%|█████     | 2/4 [01:18<01:31, 45.93s/it]"
     ]
    },
    {
     "name": "stdout",
     "output_type": "stream",
     "text": [
      "copula complete fit\n"
     ]
    },
    {
     "name": "stderr",
     "output_type": "stream",
     "text": [
      "Model fitting:  75%|███████▌  | 3/4 [01:22<00:27, 27.14s/it]"
     ]
    },
    {
     "name": "stdout",
     "output_type": "stream",
     "text": [
      "multi-hist complete fit\n"
     ]
    },
    {
     "name": "stderr",
     "output_type": "stream",
     "text": [
      "Model fitting: 100%|██████████| 4/4 [01:25<00:00, 21.35s/it]\n"
     ]
    },
    {
     "name": "stdout",
     "output_type": "stream",
     "text": [
      "complete fit\n"
     ]
    },
    {
     "name": "stderr",
     "output_type": "stream",
     "text": [
      "總進度:   0%|          | 1/1000 [00:00<02:35,  6.43it/s]"
     ]
    },
    {
     "name": "stdout",
     "output_type": "stream",
     "text": [
      "multi hist hist 執行時間:0.057183265686035156\n",
      "multi hist RMSE 執行時間:0.00020503997802734375\n",
      "multi hist 執行時間:0.057656288146972656\n"
     ]
    },
    {
     "name": "stderr",
     "output_type": "stream",
     "text": [
      "總進度:   0%|          | 3/1000 [00:00<01:31, 10.88it/s]"
     ]
    },
    {
     "name": "stdout",
     "output_type": "stream",
     "text": [
      "multi hist hist 執行時間:0.016759872436523438\n",
      "multi hist RMSE 執行時間:0.0001652240753173828\n",
      "multi hist 執行時間:0.017181396484375\n",
      "multi hist hist 執行時間:0.016285419464111328\n",
      "multi hist RMSE 執行時間:0.00010514259338378906\n",
      "multi hist 執行時間:0.016456127166748047\n",
      "multi hist hist 執行時間:0.018148183822631836\n",
      "multi hist RMSE 執行時間:0.00011968612670898438\n",
      "multi hist 執行時間:0.018339872360229492\n"
     ]
    },
    {
     "name": "stderr",
     "output_type": "stream",
     "text": [
      "總進度:   0%|          | 5/1000 [00:00<01:15, 13.26it/s]"
     ]
    },
    {
     "name": "stdout",
     "output_type": "stream",
     "text": [
      "multi hist hist 執行時間:0.01522374153137207\n",
      "multi hist RMSE 執行時間:0.00043511390686035156\n",
      "multi hist 執行時間:0.01581573486328125\n"
     ]
    },
    {
     "name": "stderr",
     "output_type": "stream",
     "text": [
      "總進度:   1%|          | 7/1000 [00:00<01:05, 15.05it/s]"
     ]
    },
    {
     "name": "stdout",
     "output_type": "stream",
     "text": [
      "multi hist hist 執行時間:0.015569686889648438\n",
      "multi hist RMSE 執行時間:0.0001518726348876953\n",
      "multi hist 執行時間:0.015997886657714844\n",
      "multi hist hist 執行時間:0.014802217483520508\n",
      "multi hist RMSE 執行時間:9.608268737792969e-05\n",
      "multi hist 執行時間:0.014960527420043945\n",
      "multi hist hist 執行時間:0.015210866928100586\n",
      "multi hist RMSE 執行時間:0.0001475811004638672\n",
      "multi hist 執行時間:0.015522241592407227\n"
     ]
    },
    {
     "name": "stderr",
     "output_type": "stream",
     "text": [
      "總進度:   1%|          | 9/1000 [00:00<01:01, 16.05it/s]"
     ]
    },
    {
     "name": "stdout",
     "output_type": "stream",
     "text": [
      "multi hist hist 執行時間:0.014954566955566406\n",
      "multi hist RMSE 執行時間:0.0001316070556640625\n",
      "multi hist 執行時間:0.015316247940063477\n"
     ]
    },
    {
     "name": "stderr",
     "output_type": "stream",
     "text": [
      "總進度:   1%|          | 11/1000 [00:00<01:00, 16.44it/s]"
     ]
    },
    {
     "name": "stdout",
     "output_type": "stream",
     "text": [
      "multi hist hist 執行時間:0.015759944915771484\n",
      "multi hist RMSE 執行時間:0.0001556873321533203\n",
      "multi hist 執行時間:0.0162045955657959\n",
      "multi hist hist 執行時間:0.01628398895263672\n",
      "multi hist RMSE 執行時間:0.00010251998901367188\n",
      "multi hist 執行時間:0.016455650329589844\n",
      "multi hist hist 執行時間:0.015465259552001953\n",
      "multi hist RMSE 執行時間:0.00010848045349121094\n",
      "multi hist 執行時間:0.015642404556274414\n"
     ]
    },
    {
     "name": "stderr",
     "output_type": "stream",
     "text": [
      "總進度:   1%|▏         | 13/1000 [00:00<00:58, 16.98it/s]"
     ]
    },
    {
     "name": "stdout",
     "output_type": "stream",
     "text": [
      "multi hist hist 執行時間:0.014545440673828125\n",
      "multi hist RMSE 執行時間:0.0001926422119140625\n",
      "multi hist 執行時間:0.014992475509643555\n"
     ]
    },
    {
     "name": "stderr",
     "output_type": "stream",
     "text": [
      "總進度:   2%|▏         | 15/1000 [00:00<00:57, 17.02it/s]"
     ]
    },
    {
     "name": "stdout",
     "output_type": "stream",
     "text": [
      "multi hist hist 執行時間:0.015446901321411133\n",
      "multi hist RMSE 執行時間:0.00022077560424804688\n",
      "multi hist 執行時間:0.016040802001953125\n",
      "multi hist hist 執行時間:0.01648688316345215\n",
      "multi hist RMSE 執行時間:0.00011515617370605469\n",
      "multi hist 執行時間:0.01667618751525879\n",
      "multi hist hist 執行時間:0.016092300415039062\n",
      "multi hist RMSE 執行時間:0.00011038780212402344\n",
      "multi hist 執行時間:0.016278982162475586\n"
     ]
    },
    {
     "name": "stderr",
     "output_type": "stream",
     "text": [
      "總進度:   2%|▏         | 17/1000 [00:01<00:56, 17.31it/s]"
     ]
    },
    {
     "name": "stdout",
     "output_type": "stream",
     "text": [
      "multi hist hist 執行時間:0.014922380447387695\n",
      "multi hist RMSE 執行時間:0.00028324127197265625\n",
      "multi hist 執行時間:0.015321969985961914\n"
     ]
    },
    {
     "name": "stderr",
     "output_type": "stream",
     "text": [
      "總進度:   2%|▏         | 19/1000 [00:01<00:55, 17.54it/s]"
     ]
    },
    {
     "name": "stdout",
     "output_type": "stream",
     "text": [
      "multi hist hist 執行時間:0.014357566833496094\n",
      "multi hist RMSE 執行時間:0.0001914501190185547\n",
      "multi hist 執行時間:0.014830827713012695\n",
      "multi hist hist 執行時間:0.01613926887512207\n",
      "multi hist RMSE 執行時間:9.918212890625e-05\n",
      "multi hist 執行時間:0.016303300857543945\n",
      "multi hist hist 執行時間:0.01514577865600586\n",
      "multi hist RMSE 執行時間:0.00010609626770019531\n",
      "multi hist 執行時間:0.015321493148803711\n"
     ]
    },
    {
     "name": "stderr",
     "output_type": "stream",
     "text": [
      "總進度:   2%|▏         | 21/1000 [00:01<00:55, 17.77it/s]"
     ]
    },
    {
     "name": "stdout",
     "output_type": "stream",
     "text": [
      "multi hist hist 執行時間:0.015155315399169922\n",
      "multi hist RMSE 執行時間:0.00013136863708496094\n",
      "multi hist 執行時間:0.015489578247070312\n"
     ]
    },
    {
     "name": "stderr",
     "output_type": "stream",
     "text": [
      "總進度:   2%|▏         | 23/1000 [00:01<00:54, 17.78it/s]"
     ]
    },
    {
     "name": "stdout",
     "output_type": "stream",
     "text": [
      "multi hist hist 執行時間:0.015578269958496094\n",
      "multi hist RMSE 執行時間:0.0001392364501953125\n",
      "multi hist 執行時間:0.015979290008544922\n",
      "multi hist hist 執行時間:0.015623092651367188\n",
      "multi hist RMSE 執行時間:0.00011110305786132812\n",
      "multi hist 執行時間:0.015802621841430664\n",
      "multi hist hist 執行時間:0.015252828598022461\n",
      "multi hist RMSE 執行時間:0.00010895729064941406\n",
      "multi hist 執行時間:0.015428781509399414\n"
     ]
    },
    {
     "name": "stderr",
     "output_type": "stream",
     "text": [
      "總進度:   2%|▎         | 25/1000 [00:01<00:54, 17.87it/s]"
     ]
    },
    {
     "name": "stdout",
     "output_type": "stream",
     "text": [
      "multi hist hist 執行時間:0.014106035232543945\n",
      "multi hist RMSE 執行時間:0.0001697540283203125\n",
      "multi hist 執行時間:0.014458179473876953\n"
     ]
    },
    {
     "name": "stderr",
     "output_type": "stream",
     "text": [
      "總進度:   3%|▎         | 27/1000 [00:01<00:53, 18.06it/s]"
     ]
    },
    {
     "name": "stdout",
     "output_type": "stream",
     "text": [
      "multi hist hist 執行時間:0.015270233154296875\n",
      "multi hist RMSE 執行時間:0.00015473365783691406\n",
      "multi hist 執行時間:0.01565694808959961\n",
      "multi hist hist 執行時間:0.014238595962524414\n",
      "multi hist RMSE 執行時間:9.226799011230469e-05\n",
      "multi hist 執行時間:0.014393091201782227\n",
      "multi hist hist 執行時間:0.01688218116760254\n",
      "multi hist RMSE 執行時間:0.0001327991485595703\n",
      "multi hist 執行時間:0.017096996307373047\n"
     ]
    },
    {
     "name": "stderr",
     "output_type": "stream",
     "text": [
      "總進度:   3%|▎         | 29/1000 [00:01<00:55, 17.56it/s]"
     ]
    },
    {
     "name": "stdout",
     "output_type": "stream",
     "text": [
      "multi hist hist 執行時間:0.01704096794128418\n",
      "multi hist RMSE 執行時間:0.00044727325439453125\n",
      "multi hist 執行時間:0.017868995666503906\n"
     ]
    },
    {
     "name": "stderr",
     "output_type": "stream",
     "text": [
      "總進度:   3%|▎         | 31/1000 [00:01<00:55, 17.51it/s]"
     ]
    },
    {
     "name": "stdout",
     "output_type": "stream",
     "text": [
      "multi hist hist 執行時間:0.016658544540405273\n",
      "multi hist RMSE 執行時間:0.0001533031463623047\n",
      "multi hist 執行時間:0.017094135284423828\n",
      "multi hist hist 執行時間:0.014799833297729492\n",
      "multi hist RMSE 執行時間:0.0001010894775390625\n",
      "multi hist 執行時間:0.014965534210205078\n",
      "multi hist hist 執行時間:0.014365196228027344\n",
      "multi hist RMSE 執行時間:0.000110626220703125\n",
      "multi hist 執行時間:0.014550924301147461\n"
     ]
    },
    {
     "name": "stderr",
     "output_type": "stream",
     "text": [
      "總進度:   3%|▎         | 33/1000 [00:01<00:54, 17.61it/s]"
     ]
    },
    {
     "name": "stdout",
     "output_type": "stream",
     "text": [
      "multi hist hist 執行時間:0.01643848419189453\n",
      "multi hist RMSE 執行時間:0.00037980079650878906\n",
      "multi hist 執行時間:0.016936063766479492\n"
     ]
    },
    {
     "name": "stderr",
     "output_type": "stream",
     "text": [
      "總進度:   4%|▎         | 35/1000 [00:02<00:54, 17.74it/s]"
     ]
    },
    {
     "name": "stdout",
     "output_type": "stream",
     "text": [
      "multi hist hist 執行時間:0.014113903045654297\n",
      "multi hist RMSE 執行時間:0.00017261505126953125\n",
      "multi hist 執行時間:0.014510393142700195\n",
      "multi hist hist 執行時間:0.015118837356567383\n",
      "multi hist RMSE 執行時間:0.00010418891906738281\n",
      "multi hist 執行時間:0.015288114547729492\n",
      "multi hist hist 執行時間:0.015150785446166992\n",
      "multi hist RMSE 執行時間:0.00010013580322265625\n",
      "multi hist 執行時間:0.015319585800170898\n"
     ]
    },
    {
     "name": "stderr",
     "output_type": "stream",
     "text": [
      "總進度:   4%|▎         | 37/1000 [00:02<00:53, 17.87it/s]"
     ]
    },
    {
     "name": "stdout",
     "output_type": "stream",
     "text": [
      "multi hist hist 執行時間:0.01516103744506836\n",
      "multi hist RMSE 執行時間:0.00013136863708496094\n",
      "multi hist 執行時間:0.015537261962890625\n"
     ]
    },
    {
     "name": "stderr",
     "output_type": "stream",
     "text": [
      "總進度:   4%|▍         | 39/1000 [00:02<00:53, 17.92it/s]"
     ]
    },
    {
     "name": "stdout",
     "output_type": "stream",
     "text": [
      "multi hist hist 執行時間:0.014992237091064453\n",
      "multi hist RMSE 執行時間:0.00018262863159179688\n",
      "multi hist 執行時間:0.015409231185913086\n",
      "multi hist hist 執行時間:0.01519012451171875\n",
      "multi hist RMSE 執行時間:0.00010561943054199219\n",
      "multi hist 執行時間:0.01536250114440918\n",
      "multi hist hist 執行時間:0.015118598937988281\n",
      "multi hist RMSE 執行時間:0.00010180473327636719\n",
      "multi hist 執行時間:0.015289545059204102\n"
     ]
    },
    {
     "name": "stderr",
     "output_type": "stream",
     "text": [
      "總進度:   4%|▍         | 41/1000 [00:02<00:53, 17.99it/s]"
     ]
    },
    {
     "name": "stdout",
     "output_type": "stream",
     "text": [
      "multi hist hist 執行時間:0.01459646224975586\n",
      "multi hist RMSE 執行時間:0.00017118453979492188\n",
      "multi hist 執行時間:0.014994382858276367\n"
     ]
    },
    {
     "name": "stderr",
     "output_type": "stream",
     "text": [
      "總進度:   4%|▍         | 43/1000 [00:02<00:53, 17.98it/s]"
     ]
    },
    {
     "name": "stdout",
     "output_type": "stream",
     "text": [
      "multi hist hist 執行時間:0.015369415283203125\n",
      "multi hist RMSE 執行時間:0.00013709068298339844\n",
      "multi hist 執行時間:0.015751361846923828\n",
      "multi hist hist 執行時間:0.014578104019165039\n",
      "multi hist RMSE 執行時間:0.00010061264038085938\n",
      "multi hist 執行時間:0.014741659164428711\n",
      "multi hist hist 執行時間:0.01481771469116211\n",
      "multi hist RMSE 執行時間:0.00010561943054199219\n",
      "multi hist 執行時間:0.014991998672485352\n"
     ]
    },
    {
     "name": "stderr",
     "output_type": "stream",
     "text": [
      "總進度:   4%|▍         | 45/1000 [00:02<00:53, 17.99it/s]"
     ]
    },
    {
     "name": "stdout",
     "output_type": "stream",
     "text": [
      "multi hist hist 執行時間:0.015185832977294922\n",
      "multi hist RMSE 執行時間:0.00012373924255371094\n",
      "multi hist 執行時間:0.015500783920288086\n"
     ]
    },
    {
     "name": "stderr",
     "output_type": "stream",
     "text": [
      "總進度:   5%|▍         | 47/1000 [00:02<00:53, 17.72it/s]"
     ]
    },
    {
     "name": "stdout",
     "output_type": "stream",
     "text": [
      "multi hist hist 執行時間:0.015303611755371094\n",
      "multi hist RMSE 執行時間:0.00020599365234375\n",
      "multi hist 執行時間:0.015839576721191406\n",
      "multi hist hist 執行時間:0.015222787857055664\n",
      "multi hist RMSE 執行時間:0.00012564659118652344\n",
      "multi hist 執行時間:0.015427112579345703\n",
      "multi hist hist 執行時間:0.015044927597045898\n",
      "multi hist RMSE 執行時間:0.00013589859008789062\n",
      "multi hist 執行時間:0.01525735855102539\n"
     ]
    },
    {
     "name": "stderr",
     "output_type": "stream",
     "text": [
      "總進度:   5%|▍         | 49/1000 [00:02<00:54, 17.53it/s]"
     ]
    },
    {
     "name": "stdout",
     "output_type": "stream",
     "text": [
      "multi hist hist 執行時間:0.01622462272644043\n",
      "multi hist RMSE 執行時間:0.0001456737518310547\n",
      "multi hist 執行時間:0.016635417938232422\n"
     ]
    },
    {
     "name": "stderr",
     "output_type": "stream",
     "text": [
      "總進度:   5%|▌         | 51/1000 [00:02<00:53, 17.69it/s]"
     ]
    },
    {
     "name": "stdout",
     "output_type": "stream",
     "text": [
      "multi hist hist 執行時間:0.014591217041015625\n",
      "multi hist RMSE 執行時間:0.0002155303955078125\n",
      "multi hist 執行時間:0.015092611312866211\n",
      "multi hist hist 執行時間:0.014741659164428711\n",
      "multi hist RMSE 執行時間:0.00011849403381347656\n",
      "multi hist 執行時間:0.014934062957763672\n",
      "multi hist hist 執行時間:0.015163660049438477\n",
      "multi hist RMSE 執行時間:0.00010347366333007812\n",
      "multi hist 執行時間:0.015336990356445312\n"
     ]
    },
    {
     "name": "stderr",
     "output_type": "stream",
     "text": [
      "總進度:   5%|▌         | 53/1000 [00:03<00:53, 17.64it/s]"
     ]
    },
    {
     "name": "stdout",
     "output_type": "stream",
     "text": [
      "multi hist hist 執行時間:0.015305280685424805\n",
      "multi hist RMSE 執行時間:0.00020432472229003906\n",
      "multi hist 執行時間:0.015798568725585938\n"
     ]
    },
    {
     "name": "stderr",
     "output_type": "stream",
     "text": [
      "總進度:   6%|▌         | 55/1000 [00:03<00:53, 17.57it/s]"
     ]
    },
    {
     "name": "stdout",
     "output_type": "stream",
     "text": [
      "multi hist hist 執行時間:0.01631474494934082\n",
      "multi hist RMSE 執行時間:0.0002856254577636719\n",
      "multi hist 執行時間:0.01674818992614746\n",
      "multi hist hist 執行時間:0.016404151916503906\n",
      "multi hist RMSE 執行時間:0.00011992454528808594\n",
      "multi hist 執行時間:0.016598939895629883\n",
      "multi hist hist 執行時間:0.01514291763305664\n",
      "multi hist RMSE 執行時間:0.0001010894775390625\n",
      "multi hist 執行時間:0.01531529426574707\n"
     ]
    },
    {
     "name": "stderr",
     "output_type": "stream",
     "text": [
      "總進度:   6%|▌         | 57/1000 [00:03<00:53, 17.77it/s]"
     ]
    },
    {
     "name": "stdout",
     "output_type": "stream",
     "text": [
      "multi hist hist 執行時間:0.014322042465209961\n",
      "multi hist RMSE 執行時間:0.00013828277587890625\n",
      "multi hist 執行時間:0.01470327377319336\n"
     ]
    },
    {
     "name": "stderr",
     "output_type": "stream",
     "text": [
      "總進度:   6%|▌         | 59/1000 [00:03<00:53, 17.75it/s]"
     ]
    },
    {
     "name": "stdout",
     "output_type": "stream",
     "text": [
      "multi hist hist 執行時間:0.015108823776245117\n",
      "multi hist RMSE 執行時間:0.0001361370086669922\n",
      "multi hist 執行時間:0.015485525131225586\n",
      "multi hist hist 執行時間:0.014710664749145508\n",
      "multi hist RMSE 執行時間:0.00010395050048828125\n",
      "multi hist 執行時間:0.014881134033203125\n",
      "multi hist hist 執行時間:0.015065431594848633\n",
      "multi hist RMSE 執行時間:0.00011801719665527344\n",
      "multi hist 執行時間:0.015259265899658203\n"
     ]
    },
    {
     "name": "stderr",
     "output_type": "stream",
     "text": [
      "總進度:   6%|▌         | 61/1000 [00:03<00:52, 17.80it/s]"
     ]
    },
    {
     "name": "stdout",
     "output_type": "stream",
     "text": [
      "multi hist hist 執行時間:0.015109777450561523\n",
      "multi hist RMSE 執行時間:0.0001647472381591797\n",
      "multi hist 執行時間:0.015512704849243164\n"
     ]
    },
    {
     "name": "stderr",
     "output_type": "stream",
     "text": [
      "總進度:   6%|▋         | 63/1000 [00:03<00:52, 17.84it/s]"
     ]
    },
    {
     "name": "stdout",
     "output_type": "stream",
     "text": [
      "multi hist hist 執行時間:0.014517068862915039\n",
      "multi hist RMSE 執行時間:0.00032258033752441406\n",
      "multi hist 執行時間:0.015320062637329102\n",
      "multi hist hist 執行時間:0.015082359313964844\n",
      "multi hist RMSE 執行時間:9.655952453613281e-05\n",
      "multi hist 執行時間:0.015245437622070312\n",
      "multi hist hist 執行時間:0.014978170394897461\n",
      "multi hist RMSE 執行時間:0.00011014938354492188\n",
      "multi hist 執行時間:0.015162467956542969\n"
     ]
    },
    {
     "name": "stderr",
     "output_type": "stream",
     "text": [
      "總進度:   6%|▋         | 65/1000 [00:03<00:52, 17.94it/s]"
     ]
    },
    {
     "name": "stdout",
     "output_type": "stream",
     "text": [
      "multi hist hist 執行時間:0.014946699142456055\n",
      "multi hist RMSE 執行時間:0.0002803802490234375\n",
      "multi hist 執行時間:0.015341043472290039\n"
     ]
    },
    {
     "name": "stderr",
     "output_type": "stream",
     "text": [
      "總進度:   7%|▋         | 67/1000 [00:03<00:54, 17.27it/s]"
     ]
    },
    {
     "name": "stdout",
     "output_type": "stream",
     "text": [
      "multi hist hist 執行時間:0.015385150909423828\n",
      "multi hist RMSE 執行時間:0.0004241466522216797\n",
      "multi hist 執行時間:0.015993118286132812\n",
      "multi hist hist 執行時間:0.016309738159179688\n",
      "multi hist RMSE 執行時間:0.00010657310485839844\n",
      "multi hist 執行時間:0.016488075256347656\n",
      "multi hist hist 執行時間:0.015069246292114258\n",
      "multi hist RMSE 執行時間:0.00010442733764648438\n",
      "multi hist 執行時間:0.015246152877807617\n"
     ]
    },
    {
     "name": "stderr",
     "output_type": "stream",
     "text": [
      "總進度:   7%|▋         | 69/1000 [00:04<00:53, 17.48it/s]"
     ]
    },
    {
     "name": "stdout",
     "output_type": "stream",
     "text": [
      "multi hist hist 執行時間:0.015291452407836914\n",
      "multi hist RMSE 執行時間:0.00019049644470214844\n",
      "multi hist 執行時間:0.015748977661132812\n"
     ]
    },
    {
     "name": "stderr",
     "output_type": "stream",
     "text": [
      "總進度:   7%|▋         | 71/1000 [00:04<00:53, 17.46it/s]"
     ]
    },
    {
     "name": "stdout",
     "output_type": "stream",
     "text": [
      "multi hist hist 執行時間:0.01542210578918457\n",
      "multi hist RMSE 執行時間:0.000186920166015625\n",
      "multi hist 執行時間:0.015851497650146484\n",
      "multi hist hist 執行時間:0.014984369277954102\n",
      "multi hist RMSE 執行時間:0.00019288063049316406\n",
      "multi hist 執行時間:0.015260934829711914\n",
      "multi hist hist 執行時間:0.01530313491821289\n",
      "multi hist RMSE 執行時間:0.00010061264038085938\n",
      "multi hist 執行時間:0.01547098159790039\n"
     ]
    },
    {
     "name": "stderr",
     "output_type": "stream",
     "text": [
      "總進度:   7%|▋         | 73/1000 [00:04<00:52, 17.68it/s]"
     ]
    },
    {
     "name": "stdout",
     "output_type": "stream",
     "text": [
      "multi hist hist 執行時間:0.01528310775756836\n",
      "multi hist RMSE 執行時間:0.0001289844512939453\n",
      "multi hist 執行時間:0.015537738800048828\n"
     ]
    },
    {
     "name": "stderr",
     "output_type": "stream",
     "text": [
      "總進度:   8%|▊         | 75/1000 [00:04<00:52, 17.63it/s]"
     ]
    },
    {
     "name": "stdout",
     "output_type": "stream",
     "text": [
      "multi hist hist 執行時間:0.01752018928527832\n",
      "multi hist RMSE 執行時間:0.00043582916259765625\n",
      "multi hist 執行時間:0.018425941467285156\n",
      "multi hist hist 執行時間:0.015104532241821289\n",
      "multi hist RMSE 執行時間:0.00011920928955078125\n",
      "multi hist 執行時間:0.01529383659362793\n",
      "multi hist hist 執行時間:0.016397714614868164\n",
      "multi hist RMSE 執行時間:0.00011587142944335938\n",
      "multi hist 執行時間:0.016585826873779297\n"
     ]
    },
    {
     "name": "stderr",
     "output_type": "stream",
     "text": [
      "總進度:   8%|▊         | 77/1000 [00:04<00:52, 17.69it/s]"
     ]
    },
    {
     "name": "stdout",
     "output_type": "stream",
     "text": [
      "multi hist hist 執行時間:0.014808416366577148\n",
      "multi hist RMSE 執行時間:0.00018310546875\n",
      "multi hist 執行時間:0.015208721160888672\n"
     ]
    },
    {
     "name": "stderr",
     "output_type": "stream",
     "text": [
      "總進度:   8%|▊         | 79/1000 [00:04<00:52, 17.67it/s]"
     ]
    },
    {
     "name": "stdout",
     "output_type": "stream",
     "text": [
      "multi hist hist 執行時間:0.016343116760253906\n",
      "multi hist RMSE 執行時間:0.0002219676971435547\n",
      "multi hist 執行時間:0.016920804977416992\n",
      "multi hist hist 執行時間:0.014875411987304688\n",
      "multi hist RMSE 執行時間:0.00010371208190917969\n",
      "multi hist 執行時間:0.015045881271362305\n",
      "multi hist hist 執行時間:0.015064716339111328\n",
      "multi hist RMSE 執行時間:0.00010156631469726562\n",
      "multi hist 執行時間:0.015233755111694336\n"
     ]
    },
    {
     "name": "stderr",
     "output_type": "stream",
     "text": [
      "總進度:   8%|▊         | 81/1000 [00:04<00:51, 17.77it/s]"
     ]
    },
    {
     "name": "stdout",
     "output_type": "stream",
     "text": [
      "multi hist hist 執行時間:0.015169143676757812\n",
      "multi hist RMSE 執行時間:0.00014662742614746094\n",
      "multi hist 執行時間:0.015531778335571289\n"
     ]
    },
    {
     "name": "stderr",
     "output_type": "stream",
     "text": [
      "總進度:   8%|▊         | 83/1000 [00:04<00:51, 17.81it/s]"
     ]
    },
    {
     "name": "stdout",
     "output_type": "stream",
     "text": [
      "multi hist hist 執行時間:0.015108585357666016\n",
      "multi hist RMSE 執行時間:0.000232696533203125\n",
      "multi hist 執行時間:0.015658140182495117\n",
      "multi hist hist 執行時間:0.016022920608520508\n",
      "multi hist RMSE 執行時間:0.00010180473327636719\n",
      "multi hist 執行時間:0.01619100570678711\n",
      "multi hist hist 執行時間:0.014986276626586914\n",
      "multi hist RMSE 執行時間:0.00010514259338378906\n",
      "multi hist 執行時間:0.01515960693359375\n"
     ]
    },
    {
     "name": "stderr",
     "output_type": "stream",
     "text": [
      "總進度:   8%|▊         | 85/1000 [00:04<00:51, 17.69it/s]"
     ]
    },
    {
     "name": "stdout",
     "output_type": "stream",
     "text": [
      "multi hist hist 執行時間:0.018037796020507812\n",
      "multi hist RMSE 執行時間:0.00020623207092285156\n",
      "multi hist 執行時間:0.018538475036621094\n"
     ]
    },
    {
     "name": "stderr",
     "output_type": "stream",
     "text": [
      "總進度:   9%|▊         | 87/1000 [00:05<00:54, 16.78it/s]"
     ]
    },
    {
     "name": "stdout",
     "output_type": "stream",
     "text": [
      "multi hist hist 執行時間:0.015807390213012695\n",
      "multi hist RMSE 執行時間:0.000614166259765625\n",
      "multi hist 執行時間:0.01666426658630371\n",
      "multi hist hist 執行時間:0.015280008316040039\n",
      "multi hist RMSE 執行時間:0.00011205673217773438\n",
      "multi hist 執行時間:0.015472888946533203\n",
      "multi hist hist 執行時間:0.015277624130249023\n",
      "multi hist RMSE 執行時間:0.00010013580322265625\n",
      "multi hist 執行時間:0.015446186065673828\n"
     ]
    },
    {
     "name": "stderr",
     "output_type": "stream",
     "text": [
      "總進度:   9%|▉         | 89/1000 [00:05<00:53, 17.02it/s]"
     ]
    },
    {
     "name": "stdout",
     "output_type": "stream",
     "text": [
      "multi hist hist 執行時間:0.015244722366333008\n",
      "multi hist RMSE 執行時間:0.0003161430358886719\n",
      "multi hist 執行時間:0.015719890594482422\n"
     ]
    },
    {
     "name": "stderr",
     "output_type": "stream",
     "text": [
      "總進度:   9%|▉         | 91/1000 [00:05<00:52, 17.27it/s]"
     ]
    },
    {
     "name": "stdout",
     "output_type": "stream",
     "text": [
      "multi hist hist 執行時間:0.015545845031738281\n",
      "multi hist RMSE 執行時間:0.0001480579376220703\n",
      "multi hist 執行時間:0.015963077545166016\n",
      "multi hist hist 執行時間:0.016192197799682617\n",
      "multi hist RMSE 執行時間:0.00010609626770019531\n",
      "multi hist 執行時間:0.016370296478271484\n",
      "multi hist hist 執行時間:0.015319108963012695\n",
      "multi hist RMSE 執行時間:0.00010657310485839844\n",
      "multi hist 執行時間:0.015496253967285156\n"
     ]
    },
    {
     "name": "stderr",
     "output_type": "stream",
     "text": [
      "總進度:   9%|▉         | 93/1000 [00:05<00:52, 17.41it/s]"
     ]
    },
    {
     "name": "stdout",
     "output_type": "stream",
     "text": [
      "multi hist hist 執行時間:0.01632380485534668\n",
      "multi hist RMSE 執行時間:0.00024390220642089844\n",
      "multi hist 執行時間:0.016697406768798828\n"
     ]
    },
    {
     "name": "stderr",
     "output_type": "stream",
     "text": [
      "總進度:  10%|▉         | 95/1000 [00:05<00:51, 17.52it/s]"
     ]
    },
    {
     "name": "stdout",
     "output_type": "stream",
     "text": [
      "multi hist hist 執行時間:0.013911008834838867\n",
      "multi hist RMSE 執行時間:0.00032448768615722656\n",
      "multi hist 執行時間:0.014373302459716797\n",
      "multi hist hist 執行時間:0.016629457473754883\n",
      "multi hist RMSE 執行時間:0.00011658668518066406\n",
      "multi hist 執行時間:0.016819477081298828\n",
      "multi hist hist 執行時間:0.014999628067016602\n",
      "multi hist RMSE 執行時間:0.00010633468627929688\n",
      "multi hist 執行時間:0.015174627304077148\n"
     ]
    },
    {
     "name": "stderr",
     "output_type": "stream",
     "text": [
      "總進度:  10%|▉         | 97/1000 [00:05<00:51, 17.48it/s]"
     ]
    },
    {
     "name": "stdout",
     "output_type": "stream",
     "text": [
      "multi hist hist 執行時間:0.015308618545532227\n",
      "multi hist RMSE 執行時間:0.00017404556274414062\n",
      "multi hist 執行時間:0.01575160026550293\n"
     ]
    },
    {
     "name": "stderr",
     "output_type": "stream",
     "text": [
      "總進度:  10%|▉         | 99/1000 [00:05<00:51, 17.64it/s]"
     ]
    },
    {
     "name": "stdout",
     "output_type": "stream",
     "text": [
      "multi hist hist 執行時間:0.01578664779663086\n",
      "multi hist RMSE 執行時間:0.000186920166015625\n",
      "multi hist 執行時間:0.016245603561401367\n",
      "multi hist hist 執行時間:0.01450490951538086\n",
      "multi hist RMSE 執行時間:0.00011992454528808594\n",
      "multi hist 執行時間:0.014694690704345703\n",
      "multi hist hist 執行時間:0.014981746673583984\n",
      "multi hist RMSE 執行時間:0.00010919570922851562\n",
      "multi hist 執行時間:0.01517033576965332\n"
     ]
    },
    {
     "name": "stderr",
     "output_type": "stream",
     "text": [
      "總進度:  10%|█         | 101/1000 [00:05<00:50, 17.69it/s]"
     ]
    },
    {
     "name": "stdout",
     "output_type": "stream",
     "text": [
      "multi hist hist 執行時間:0.016646623611450195\n",
      "multi hist RMSE 執行時間:0.0001964569091796875\n",
      "multi hist 執行時間:0.017122507095336914\n"
     ]
    },
    {
     "name": "stderr",
     "output_type": "stream",
     "text": [
      "總進度:  10%|█         | 103/1000 [00:05<00:50, 17.80it/s]"
     ]
    },
    {
     "name": "stdout",
     "output_type": "stream",
     "text": [
      "multi hist hist 執行時間:0.014813899993896484\n",
      "multi hist RMSE 執行時間:0.00018668174743652344\n",
      "multi hist 執行時間:0.015269994735717773\n",
      "multi hist hist 執行時間:0.015264272689819336\n",
      "multi hist RMSE 執行時間:0.00012135505676269531\n",
      "multi hist 執行時間:0.015457868576049805\n",
      "multi hist hist 執行時間:0.01499795913696289\n",
      "multi hist RMSE 執行時間:0.00012612342834472656\n",
      "multi hist 執行時間:0.015206098556518555\n"
     ]
    },
    {
     "name": "stderr",
     "output_type": "stream",
     "text": [
      "總進度:  10%|█         | 105/1000 [00:06<00:51, 17.50it/s]"
     ]
    },
    {
     "name": "stdout",
     "output_type": "stream",
     "text": [
      "multi hist hist 執行時間:0.01537942886352539\n",
      "multi hist RMSE 執行時間:0.00015354156494140625\n",
      "multi hist 執行時間:0.01580667495727539\n"
     ]
    },
    {
     "name": "stderr",
     "output_type": "stream",
     "text": [
      "總進度:  11%|█         | 107/1000 [00:06<00:50, 17.78it/s]"
     ]
    },
    {
     "name": "stdout",
     "output_type": "stream",
     "text": [
      "multi hist hist 執行時間:0.015108346939086914\n",
      "multi hist RMSE 執行時間:0.00021219253540039062\n",
      "multi hist 執行時間:0.015594005584716797\n",
      "multi hist hist 執行時間:0.01431727409362793\n",
      "multi hist RMSE 執行時間:9.250640869140625e-05\n",
      "multi hist 執行時間:0.014475584030151367\n",
      "multi hist hist 執行時間:0.015323877334594727\n",
      "multi hist RMSE 執行時間:0.00010728836059570312\n",
      "multi hist 執行時間:0.015502691268920898\n"
     ]
    },
    {
     "name": "stderr",
     "output_type": "stream",
     "text": [
      "總進度:  11%|█         | 109/1000 [00:06<00:49, 17.83it/s]"
     ]
    },
    {
     "name": "stdout",
     "output_type": "stream",
     "text": [
      "multi hist hist 執行時間:0.014961719512939453\n",
      "multi hist RMSE 執行時間:0.00013446807861328125\n",
      "multi hist 執行時間:0.015326738357543945\n"
     ]
    },
    {
     "name": "stderr",
     "output_type": "stream",
     "text": [
      "總進度:  11%|█         | 111/1000 [00:06<00:50, 17.74it/s]"
     ]
    },
    {
     "name": "stdout",
     "output_type": "stream",
     "text": [
      "multi hist hist 執行時間:0.014610767364501953\n",
      "multi hist RMSE 執行時間:0.0001857280731201172\n",
      "multi hist 執行時間:0.014999628067016602\n",
      "multi hist hist 執行時間:0.015031814575195312\n",
      "multi hist RMSE 執行時間:0.00010752677917480469\n",
      "multi hist 執行時間:0.015222311019897461\n",
      "multi hist hist 執行時間:0.015140771865844727\n",
      "multi hist RMSE 執行時間:0.00010347366333007812\n",
      "multi hist 執行時間:0.015315055847167969\n"
     ]
    },
    {
     "name": "stderr",
     "output_type": "stream",
     "text": [
      "總進度:  11%|█▏        | 113/1000 [00:06<00:49, 17.85it/s]"
     ]
    },
    {
     "name": "stdout",
     "output_type": "stream",
     "text": [
      "multi hist hist 執行時間:0.015550613403320312\n",
      "multi hist RMSE 執行時間:0.00019788742065429688\n",
      "multi hist 執行時間:0.016030311584472656\n"
     ]
    },
    {
     "name": "stderr",
     "output_type": "stream",
     "text": [
      "總進度:  12%|█▏        | 115/1000 [00:06<00:49, 17.87it/s]"
     ]
    },
    {
     "name": "stdout",
     "output_type": "stream",
     "text": [
      "multi hist hist 執行時間:0.015468120574951172\n",
      "multi hist RMSE 執行時間:0.00014519691467285156\n",
      "multi hist 執行時間:0.015890836715698242\n",
      "multi hist hist 執行時間:0.015116691589355469\n",
      "multi hist RMSE 執行時間:0.00010776519775390625\n",
      "multi hist 執行時間:0.015295982360839844\n",
      "multi hist hist 執行時間:0.01491546630859375\n",
      "multi hist RMSE 執行時間:0.00011444091796875\n",
      "multi hist 執行時間:0.015114307403564453\n"
     ]
    },
    {
     "name": "stderr",
     "output_type": "stream",
     "text": [
      "總進度:  12%|█▏        | 117/1000 [00:06<00:49, 17.95it/s]"
     ]
    },
    {
     "name": "stdout",
     "output_type": "stream",
     "text": [
      "multi hist hist 執行時間:0.014984369277954102\n",
      "multi hist RMSE 執行時間:0.00012683868408203125\n",
      "multi hist 執行時間:0.015302419662475586\n"
     ]
    },
    {
     "name": "stderr",
     "output_type": "stream",
     "text": [
      "總進度:  12%|█▏        | 119/1000 [00:06<00:48, 18.03it/s]"
     ]
    },
    {
     "name": "stdout",
     "output_type": "stream",
     "text": [
      "multi hist hist 執行時間:0.015167951583862305\n",
      "multi hist RMSE 執行時間:0.0003132820129394531\n",
      "multi hist 執行時間:0.015610694885253906\n",
      "multi hist hist 執行時間:0.015030860900878906\n",
      "multi hist RMSE 執行時間:0.00011610984802246094\n",
      "multi hist 執行時間:0.015224695205688477\n",
      "multi hist hist 執行時間:0.015292882919311523\n",
      "multi hist RMSE 執行時間:0.00011992454528808594\n",
      "multi hist 執行時間:0.015486717224121094\n"
     ]
    },
    {
     "name": "stderr",
     "output_type": "stream",
     "text": [
      "總進度:  12%|█▏        | 121/1000 [00:06<00:49, 17.66it/s]"
     ]
    },
    {
     "name": "stdout",
     "output_type": "stream",
     "text": [
      "multi hist hist 執行時間:0.015712976455688477\n",
      "multi hist RMSE 執行時間:0.0003345012664794922\n",
      "multi hist 執行時間:0.016481637954711914\n"
     ]
    },
    {
     "name": "stderr",
     "output_type": "stream",
     "text": [
      "總進度:  12%|█▏        | 123/1000 [00:07<00:51, 17.14it/s]"
     ]
    },
    {
     "name": "stdout",
     "output_type": "stream",
     "text": [
      "multi hist hist 執行時間:0.01637864112854004\n",
      "multi hist RMSE 執行時間:0.0005986690521240234\n",
      "multi hist 執行時間:0.01723790168762207\n",
      "multi hist hist 執行時間:0.016415834426879883\n",
      "multi hist RMSE 執行時間:0.00010371208190917969\n",
      "multi hist 執行時間:0.01658773422241211\n",
      "multi hist hist 執行時間:0.014991998672485352\n",
      "multi hist RMSE 執行時間:0.00010085105895996094\n",
      "multi hist 執行時間:0.015159845352172852\n"
     ]
    },
    {
     "name": "stderr",
     "output_type": "stream",
     "text": [
      "總進度:  12%|█▎        | 125/1000 [00:07<00:50, 17.35it/s]"
     ]
    },
    {
     "name": "stdout",
     "output_type": "stream",
     "text": [
      "multi hist hist 執行時間:0.01581430435180664\n",
      "multi hist RMSE 執行時間:0.00018167495727539062\n",
      "multi hist 執行時間:0.01626729965209961\n"
     ]
    },
    {
     "name": "stderr",
     "output_type": "stream",
     "text": [
      "總進度:  13%|█▎        | 127/1000 [00:07<00:49, 17.58it/s]"
     ]
    },
    {
     "name": "stdout",
     "output_type": "stream",
     "text": [
      "multi hist hist 執行時間:0.015549182891845703\n",
      "multi hist RMSE 執行時間:0.0001304149627685547\n",
      "multi hist 執行時間:0.015927553176879883\n",
      "multi hist hist 執行時間:0.015092849731445312\n",
      "multi hist RMSE 執行時間:0.00010704994201660156\n",
      "multi hist 執行時間:0.015267372131347656\n",
      "multi hist hist 執行時間:0.014707565307617188\n",
      "multi hist RMSE 執行時間:0.00010061264038085938\n",
      "multi hist 執行時間:0.014878034591674805\n"
     ]
    },
    {
     "name": "stderr",
     "output_type": "stream",
     "text": [
      "總進度:  13%|█▎        | 129/1000 [00:07<00:48, 17.81it/s]"
     ]
    },
    {
     "name": "stdout",
     "output_type": "stream",
     "text": [
      "multi hist hist 執行時間:0.015156984329223633\n",
      "multi hist RMSE 執行時間:0.0002593994140625\n",
      "multi hist 執行時間:0.01553034782409668\n"
     ]
    },
    {
     "name": "stderr",
     "output_type": "stream",
     "text": [
      "總進度:  13%|█▎        | 131/1000 [00:07<00:48, 17.84it/s]"
     ]
    },
    {
     "name": "stdout",
     "output_type": "stream",
     "text": [
      "multi hist hist 執行時間:0.015115499496459961\n",
      "multi hist RMSE 執行時間:0.0001308917999267578\n",
      "multi hist 執行時間:0.015438556671142578\n",
      "multi hist hist 執行時間:0.015090703964233398\n",
      "multi hist RMSE 執行時間:0.000102996826171875\n",
      "multi hist 執行時間:0.015260457992553711\n",
      "multi hist hist 執行時間:0.015359640121459961\n",
      "multi hist RMSE 執行時間:0.00010275840759277344\n",
      "multi hist 執行時間:0.015535116195678711\n"
     ]
    },
    {
     "name": "stderr",
     "output_type": "stream",
     "text": [
      "總進度:  13%|█▎        | 133/1000 [00:07<00:48, 17.88it/s]"
     ]
    },
    {
     "name": "stdout",
     "output_type": "stream",
     "text": [
      "multi hist hist 執行時間:0.015001296997070312\n",
      "multi hist RMSE 執行時間:0.00018715858459472656\n",
      "multi hist 執行時間:0.015440940856933594\n"
     ]
    },
    {
     "name": "stderr",
     "output_type": "stream",
     "text": [
      "總進度:  14%|█▎        | 135/1000 [00:07<00:48, 17.91it/s]"
     ]
    },
    {
     "name": "stdout",
     "output_type": "stream",
     "text": [
      "multi hist hist 執行時間:0.015022754669189453\n",
      "multi hist RMSE 執行時間:0.00021266937255859375\n",
      "multi hist 執行時間:0.015561819076538086\n",
      "multi hist hist 執行時間:0.01524662971496582\n",
      "multi hist RMSE 執行時間:0.00010132789611816406\n",
      "multi hist 執行時間:0.015414714813232422\n",
      "multi hist hist 執行時間:0.015200376510620117\n",
      "multi hist RMSE 執行時間:0.00010251998901367188\n",
      "multi hist 執行時間:0.015372514724731445\n"
     ]
    },
    {
     "name": "stderr",
     "output_type": "stream",
     "text": [
      "總進度:  14%|█▎        | 137/1000 [00:07<00:48, 17.71it/s]"
     ]
    },
    {
     "name": "stdout",
     "output_type": "stream",
     "text": [
      "multi hist hist 執行時間:0.01488637924194336\n",
      "multi hist RMSE 執行時間:0.00036215782165527344\n",
      "multi hist 執行時間:0.015400171279907227\n"
     ]
    },
    {
     "name": "stderr",
     "output_type": "stream",
     "text": [
      "總進度:  14%|█▍        | 139/1000 [00:07<00:49, 17.25it/s]"
     ]
    },
    {
     "name": "stdout",
     "output_type": "stream",
     "text": [
      "multi hist hist 執行時間:0.015177011489868164\n",
      "multi hist RMSE 執行時間:0.00016832351684570312\n",
      "multi hist 執行時間:0.015628576278686523\n",
      "multi hist hist 執行時間:0.015113592147827148\n",
      "multi hist RMSE 執行時間:0.00011539459228515625\n",
      "multi hist 執行時間:0.015300750732421875\n",
      "multi hist hist 執行時間:0.017041444778442383\n",
      "multi hist RMSE 執行時間:0.00013136863708496094\n",
      "multi hist 執行時間:0.01726555824279785\n"
     ]
    },
    {
     "name": "stderr",
     "output_type": "stream",
     "text": [
      "總進度:  14%|█▍        | 141/1000 [00:08<00:50, 17.13it/s]"
     ]
    },
    {
     "name": "stdout",
     "output_type": "stream",
     "text": [
      "multi hist hist 執行時間:0.015542030334472656\n",
      "multi hist RMSE 執行時間:0.0004763603210449219\n",
      "multi hist 執行時間:0.016191959381103516\n"
     ]
    },
    {
     "name": "stderr",
     "output_type": "stream",
     "text": [
      "總進度:  14%|█▍        | 143/1000 [00:08<00:49, 17.20it/s]"
     ]
    },
    {
     "name": "stdout",
     "output_type": "stream",
     "text": [
      "multi hist hist 執行時間:0.015543460845947266\n",
      "multi hist RMSE 執行時間:0.00026535987854003906\n",
      "multi hist 執行時間:0.01611804962158203\n",
      "multi hist hist 執行時間:0.016077041625976562\n",
      "multi hist RMSE 執行時間:9.298324584960938e-05\n",
      "multi hist 執行時間:0.016241073608398438\n",
      "multi hist hist 執行時間:0.014597892761230469\n",
      "multi hist RMSE 執行時間:9.870529174804688e-05\n",
      "multi hist 執行時間:0.014781475067138672\n"
     ]
    },
    {
     "name": "stderr",
     "output_type": "stream",
     "text": [
      "總進度:  14%|█▍        | 145/1000 [00:08<00:49, 17.41it/s]"
     ]
    },
    {
     "name": "stdout",
     "output_type": "stream",
     "text": [
      "multi hist hist 執行時間:0.015547990798950195\n",
      "multi hist RMSE 執行時間:0.00019121170043945312\n",
      "multi hist 執行時間:0.016013145446777344\n"
     ]
    },
    {
     "name": "stderr",
     "output_type": "stream",
     "text": [
      "總進度:  15%|█▍        | 147/1000 [00:08<00:48, 17.63it/s]"
     ]
    },
    {
     "name": "stdout",
     "output_type": "stream",
     "text": [
      "multi hist hist 執行時間:0.015082597732543945\n",
      "multi hist RMSE 執行時間:0.0002224445343017578\n",
      "multi hist 執行時間:0.015611886978149414\n",
      "multi hist hist 執行時間:0.015224218368530273\n",
      "multi hist RMSE 執行時間:0.00011086463928222656\n",
      "multi hist 執行時間:0.01540374755859375\n",
      "multi hist hist 執行時間:0.015580415725708008\n",
      "multi hist RMSE 執行時間:0.00010633468627929688\n",
      "multi hist 執行時間:0.015763521194458008\n"
     ]
    },
    {
     "name": "stderr",
     "output_type": "stream",
     "text": [
      "總進度:  15%|█▍        | 149/1000 [00:08<00:47, 17.82it/s]"
     ]
    },
    {
     "name": "stdout",
     "output_type": "stream",
     "text": [
      "multi hist hist 執行時間:0.01502227783203125\n",
      "multi hist RMSE 執行時間:0.0001735687255859375\n",
      "multi hist 執行時間:0.015414953231811523\n"
     ]
    },
    {
     "name": "stderr",
     "output_type": "stream",
     "text": [
      "總進度:  15%|█▌        | 151/1000 [00:08<00:47, 17.81it/s]"
     ]
    },
    {
     "name": "stdout",
     "output_type": "stream",
     "text": [
      "multi hist hist 執行時間:0.015197515487670898\n",
      "multi hist RMSE 執行時間:0.00018787384033203125\n",
      "multi hist 執行時間:0.015674829483032227\n",
      "multi hist hist 執行時間:0.014914274215698242\n",
      "multi hist RMSE 執行時間:0.00010132789611816406\n",
      "multi hist 執行時間:0.01507878303527832\n",
      "multi hist hist 執行時間:0.014945030212402344\n",
      "multi hist RMSE 執行時間:0.00011730194091796875\n",
      "multi hist 執行時間:0.015132427215576172\n"
     ]
    },
    {
     "name": "stderr",
     "output_type": "stream",
     "text": [
      "總進度:  15%|█▌        | 153/1000 [00:08<00:47, 17.81it/s]"
     ]
    },
    {
     "name": "stdout",
     "output_type": "stream",
     "text": [
      "multi hist hist 執行時間:0.014895915985107422\n",
      "multi hist RMSE 執行時間:0.00011706352233886719\n",
      "multi hist 執行時間:0.015231132507324219\n"
     ]
    },
    {
     "name": "stderr",
     "output_type": "stream",
     "text": [
      "總進度:  16%|█▌        | 155/1000 [00:08<00:47, 17.77it/s]"
     ]
    },
    {
     "name": "stdout",
     "output_type": "stream",
     "text": [
      "multi hist hist 執行時間:0.01595163345336914\n",
      "multi hist RMSE 執行時間:0.000148773193359375\n",
      "multi hist 執行時間:0.016363143920898438\n",
      "multi hist hist 執行時間:0.014393329620361328\n",
      "multi hist RMSE 執行時間:0.00010013580322265625\n",
      "multi hist 執行時間:0.01456141471862793\n",
      "multi hist hist 執行時間:0.016409635543823242\n",
      "multi hist RMSE 執行時間:0.0001049041748046875\n",
      "multi hist 執行時間:0.016590595245361328\n"
     ]
    },
    {
     "name": "stderr",
     "output_type": "stream",
     "text": [
      "總進度:  16%|█▌        | 157/1000 [00:09<00:47, 17.73it/s]"
     ]
    },
    {
     "name": "stdout",
     "output_type": "stream",
     "text": [
      "multi hist hist 執行時間:0.01470637321472168\n",
      "multi hist RMSE 執行時間:0.00011205673217773438\n",
      "multi hist 執行時間:0.015022993087768555\n"
     ]
    },
    {
     "name": "stderr",
     "output_type": "stream",
     "text": [
      "總進度:  16%|█▌        | 159/1000 [00:09<00:48, 17.32it/s]"
     ]
    },
    {
     "name": "stdout",
     "output_type": "stream",
     "text": [
      "multi hist hist 執行時間:0.015072345733642578\n",
      "multi hist RMSE 執行時間:0.0004761219024658203\n",
      "multi hist 執行時間:0.015754222869873047\n",
      "multi hist hist 執行時間:0.01427316665649414\n",
      "multi hist RMSE 執行時間:0.0002944469451904297\n",
      "multi hist 執行時間:0.014672279357910156\n",
      "multi hist hist 執行時間:0.015548229217529297\n",
      "multi hist RMSE 執行時間:0.00013971328735351562\n",
      "multi hist 執行時間:0.015771865844726562\n"
     ]
    },
    {
     "name": "stderr",
     "output_type": "stream",
     "text": [
      "總進度:  16%|█▌        | 161/1000 [00:09<00:48, 17.48it/s]"
     ]
    },
    {
     "name": "stdout",
     "output_type": "stream",
     "text": [
      "multi hist hist 執行時間:0.016454696655273438\n",
      "multi hist RMSE 執行時間:0.0001842975616455078\n",
      "multi hist 執行時間:0.016919612884521484\n"
     ]
    },
    {
     "name": "stderr",
     "output_type": "stream",
     "text": [
      "總進度:  16%|█▋        | 163/1000 [00:09<00:47, 17.54it/s]"
     ]
    },
    {
     "name": "stdout",
     "output_type": "stream",
     "text": [
      "multi hist hist 執行時間:0.015659093856811523\n",
      "multi hist RMSE 執行時間:0.0001423358917236328\n",
      "multi hist 執行時間:0.0160675048828125\n",
      "multi hist hist 執行時間:0.015418529510498047\n",
      "multi hist RMSE 執行時間:0.00010061264038085938\n",
      "multi hist 執行時間:0.015583038330078125\n",
      "multi hist hist 執行時間:0.015484333038330078\n",
      "multi hist RMSE 執行時間:0.0002620220184326172\n",
      "multi hist 執行時間:0.015843629837036133\n"
     ]
    },
    {
     "name": "stderr",
     "output_type": "stream",
     "text": [
      "總進度:  16%|█▋        | 165/1000 [00:09<00:47, 17.53it/s]"
     ]
    },
    {
     "name": "stdout",
     "output_type": "stream",
     "text": [
      "multi hist hist 執行時間:0.01481771469116211\n",
      "multi hist RMSE 執行時間:0.00016498565673828125\n",
      "multi hist 執行時間:0.015221118927001953\n"
     ]
    },
    {
     "name": "stderr",
     "output_type": "stream",
     "text": [
      "總進度:  17%|█▋        | 167/1000 [00:09<00:47, 17.60it/s]"
     ]
    },
    {
     "name": "stdout",
     "output_type": "stream",
     "text": [
      "multi hist hist 執行時間:0.015411138534545898\n",
      "multi hist RMSE 執行時間:0.00014162063598632812\n",
      "multi hist 執行時間:0.015819072723388672\n",
      "multi hist hist 執行時間:0.015087604522705078\n",
      "multi hist RMSE 執行時間:9.584426879882812e-05\n",
      "multi hist 執行時間:0.015247583389282227\n",
      "multi hist hist 執行時間:0.016480207443237305\n",
      "multi hist RMSE 執行時間:0.00010609626770019531\n",
      "multi hist 執行時間:0.01665949821472168\n"
     ]
    },
    {
     "name": "stderr",
     "output_type": "stream",
     "text": [
      "總進度:  17%|█▋        | 169/1000 [00:09<00:47, 17.58it/s]"
     ]
    },
    {
     "name": "stdout",
     "output_type": "stream",
     "text": [
      "multi hist hist 執行時間:0.014211416244506836\n",
      "multi hist RMSE 執行時間:0.00012445449829101562\n",
      "multi hist 執行時間:0.014554262161254883\n"
     ]
    },
    {
     "name": "stderr",
     "output_type": "stream",
     "text": [
      "總進度:  17%|█▋        | 171/1000 [00:09<00:47, 17.58it/s]"
     ]
    },
    {
     "name": "stdout",
     "output_type": "stream",
     "text": [
      "multi hist hist 執行時間:0.015755891799926758\n",
      "multi hist RMSE 執行時間:0.0002624988555908203\n",
      "multi hist 執行時間:0.016290664672851562\n",
      "multi hist hist 執行時間:0.014892816543579102\n",
      "multi hist RMSE 執行時間:0.00011301040649414062\n",
      "multi hist 執行時間:0.015076160430908203\n",
      "multi hist hist 執行時間:0.015337228775024414\n",
      "multi hist RMSE 執行時間:0.00011539459228515625\n",
      "multi hist 執行時間:0.015528678894042969\n"
     ]
    },
    {
     "name": "stderr",
     "output_type": "stream",
     "text": [
      "總進度:  17%|█▋        | 173/1000 [00:09<00:46, 17.61it/s]"
     ]
    },
    {
     "name": "stdout",
     "output_type": "stream",
     "text": [
      "multi hist hist 執行時間:0.015207052230834961\n",
      "multi hist RMSE 執行時間:0.00020647048950195312\n",
      "multi hist 執行時間:0.015682220458984375\n"
     ]
    },
    {
     "name": "stderr",
     "output_type": "stream",
     "text": [
      "總進度:  18%|█▊        | 175/1000 [00:10<00:47, 17.40it/s]"
     ]
    },
    {
     "name": "stdout",
     "output_type": "stream",
     "text": [
      "multi hist hist 執行時間:0.016232013702392578\n",
      "multi hist RMSE 執行時間:0.000164031982421875\n",
      "multi hist 執行時間:0.016663074493408203\n",
      "multi hist hist 執行時間:0.015466451644897461\n",
      "multi hist RMSE 執行時間:0.00012230873107910156\n",
      "multi hist 執行時間:0.015663623809814453\n",
      "multi hist hist 執行時間:0.016321182250976562\n",
      "multi hist RMSE 執行時間:0.0001201629638671875\n",
      "multi hist 執行時間:0.016521453857421875\n"
     ]
    },
    {
     "name": "stderr",
     "output_type": "stream",
     "text": [
      "總進度:  18%|█▊        | 177/1000 [00:10<00:47, 17.37it/s]"
     ]
    },
    {
     "name": "stdout",
     "output_type": "stream",
     "text": [
      "multi hist hist 執行時間:0.015651226043701172\n",
      "multi hist RMSE 執行時間:0.00017404556274414062\n",
      "multi hist 執行時間:0.01612114906311035\n"
     ]
    },
    {
     "name": "stderr",
     "output_type": "stream",
     "text": [
      "總進度:  18%|█▊        | 179/1000 [00:10<00:47, 17.35it/s]"
     ]
    },
    {
     "name": "stdout",
     "output_type": "stream",
     "text": [
      "multi hist hist 執行時間:0.016465425491333008\n",
      "multi hist RMSE 執行時間:0.00016379356384277344\n",
      "multi hist 執行時間:0.01694631576538086\n",
      "multi hist hist 執行時間:0.015345096588134766\n",
      "multi hist RMSE 執行時間:0.00011563301086425781\n",
      "multi hist 執行時間:0.015533924102783203\n",
      "multi hist hist 執行時間:0.01499176025390625\n",
      "multi hist RMSE 執行時間:0.00011777877807617188\n",
      "multi hist 執行時間:0.015182971954345703\n"
     ]
    },
    {
     "name": "stderr",
     "output_type": "stream",
     "text": [
      "總進度:  18%|█▊        | 181/1000 [00:10<00:47, 17.37it/s]"
     ]
    },
    {
     "name": "stdout",
     "output_type": "stream",
     "text": [
      "multi hist hist 執行時間:0.01576852798461914\n",
      "multi hist RMSE 執行時間:0.00021314620971679688\n",
      "multi hist 執行時間:0.016289710998535156\n"
     ]
    },
    {
     "name": "stderr",
     "output_type": "stream",
     "text": [
      "總進度:  18%|█▊        | 183/1000 [00:10<00:48, 16.91it/s]"
     ]
    },
    {
     "name": "stdout",
     "output_type": "stream",
     "text": [
      "multi hist hist 執行時間:0.015956640243530273\n",
      "multi hist RMSE 執行時間:0.0003085136413574219\n",
      "multi hist 執行時間:0.016435623168945312\n",
      "multi hist hist 執行時間:0.017246484756469727\n",
      "multi hist RMSE 執行時間:0.00013875961303710938\n",
      "multi hist 執行時間:0.017464637756347656\n",
      "multi hist hist 執行時間:0.015329599380493164\n",
      "multi hist RMSE 執行時間:0.00010848045349121094\n",
      "multi hist 執行時間:0.015506505966186523\n"
     ]
    },
    {
     "name": "stderr",
     "output_type": "stream",
     "text": [
      "總進度:  18%|█▊        | 185/1000 [00:10<00:47, 17.13it/s]"
     ]
    },
    {
     "name": "stdout",
     "output_type": "stream",
     "text": [
      "multi hist hist 執行時間:0.015386581420898438\n",
      "multi hist RMSE 執行時間:0.00019049644470214844\n",
      "multi hist 執行時間:0.01585245132446289\n"
     ]
    },
    {
     "name": "stderr",
     "output_type": "stream",
     "text": [
      "總進度:  19%|█▊        | 187/1000 [00:10<00:47, 17.26it/s]"
     ]
    },
    {
     "name": "stdout",
     "output_type": "stream",
     "text": [
      "multi hist hist 執行時間:0.014593362808227539\n",
      "multi hist RMSE 執行時間:0.00014710426330566406\n",
      "multi hist 執行時間:0.015019416809082031\n",
      "multi hist hist 執行時間:0.014791250228881836\n",
      "multi hist RMSE 執行時間:0.00010323524475097656\n",
      "multi hist 執行時間:0.014959573745727539\n",
      "multi hist hist 執行時間:0.014461278915405273\n",
      "multi hist RMSE 執行時間:9.942054748535156e-05\n",
      "multi hist 執行時間:0.014636039733886719\n"
     ]
    },
    {
     "name": "stderr",
     "output_type": "stream",
     "text": [
      "總進度:  19%|█▉        | 189/1000 [00:10<00:46, 17.34it/s]"
     ]
    },
    {
     "name": "stdout",
     "output_type": "stream",
     "text": [
      "multi hist hist 執行時間:0.016341447830200195\n",
      "multi hist RMSE 執行時間:0.00040435791015625\n",
      "multi hist 執行時間:0.016978025436401367\n"
     ]
    },
    {
     "name": "stderr",
     "output_type": "stream",
     "text": [
      "總進度:  19%|█▉        | 191/1000 [00:10<00:46, 17.33it/s]"
     ]
    },
    {
     "name": "stdout",
     "output_type": "stream",
     "text": [
      "multi hist hist 執行時間:0.015225887298583984\n",
      "multi hist RMSE 執行時間:0.00013756752014160156\n",
      "multi hist 執行時間:0.01562643051147461\n",
      "multi hist hist 執行時間:0.015934228897094727\n",
      "multi hist RMSE 執行時間:0.00012350082397460938\n",
      "multi hist 執行時間:0.01613473892211914\n",
      "multi hist hist 執行時間:0.015284538269042969\n",
      "multi hist RMSE 執行時間:0.00010180473327636719\n",
      "multi hist 執行時間:0.015455961227416992\n"
     ]
    },
    {
     "name": "stderr",
     "output_type": "stream",
     "text": [
      "總進度:  19%|█▉        | 193/1000 [00:11<00:46, 17.35it/s]"
     ]
    },
    {
     "name": "stdout",
     "output_type": "stream",
     "text": [
      "multi hist hist 執行時間:0.014826536178588867\n",
      "multi hist RMSE 執行時間:0.000293731689453125\n",
      "multi hist 執行時間:0.015425682067871094\n"
     ]
    },
    {
     "name": "stderr",
     "output_type": "stream",
     "text": [
      "總進度:  20%|█▉        | 195/1000 [00:11<00:46, 17.46it/s]"
     ]
    },
    {
     "name": "stdout",
     "output_type": "stream",
     "text": [
      "multi hist hist 執行時間:0.01523137092590332\n",
      "multi hist RMSE 執行時間:0.00019025802612304688\n",
      "multi hist 執行時間:0.015692710876464844\n",
      "multi hist hist 執行時間:0.016062259674072266\n",
      "multi hist RMSE 執行時間:0.00010561943054199219\n",
      "multi hist 執行時間:0.01623249053955078\n",
      "multi hist hist 執行時間:0.016533851623535156\n",
      "multi hist RMSE 執行時間:0.00012421607971191406\n",
      "multi hist 執行時間:0.016735553741455078\n"
     ]
    },
    {
     "name": "stderr",
     "output_type": "stream",
     "text": [
      "總進度:  20%|█▉        | 197/1000 [00:11<00:46, 17.36it/s]"
     ]
    },
    {
     "name": "stdout",
     "output_type": "stream",
     "text": [
      "multi hist hist 執行時間:0.015332698822021484\n",
      "multi hist RMSE 執行時間:0.00021386146545410156\n",
      "multi hist 執行時間:0.015829086303710938\n"
     ]
    },
    {
     "name": "stderr",
     "output_type": "stream",
     "text": [
      "總進度:  20%|█▉        | 199/1000 [00:11<00:45, 17.42it/s]"
     ]
    },
    {
     "name": "stdout",
     "output_type": "stream",
     "text": [
      "multi hist hist 執行時間:0.016575098037719727\n",
      "multi hist RMSE 執行時間:0.00046753883361816406\n",
      "multi hist 執行時間:0.017200708389282227\n",
      "multi hist hist 執行時間:0.015333414077758789\n",
      "multi hist RMSE 執行時間:0.00011420249938964844\n",
      "multi hist 執行時間:0.015520095825195312\n",
      "multi hist hist 執行時間:0.01550436019897461\n",
      "multi hist RMSE 執行時間:0.00010395050048828125\n",
      "multi hist 執行時間:0.01567983627319336\n"
     ]
    },
    {
     "name": "stderr",
     "output_type": "stream",
     "text": [
      "總進度:  20%|██        | 201/1000 [00:11<00:45, 17.56it/s]"
     ]
    },
    {
     "name": "stdout",
     "output_type": "stream",
     "text": [
      "multi hist hist 執行時間:0.01508641242980957\n",
      "multi hist RMSE 執行時間:0.00032138824462890625\n",
      "multi hist 執行時間:0.015545368194580078\n"
     ]
    },
    {
     "name": "stderr",
     "output_type": "stream",
     "text": [
      "總進度:  20%|██        | 203/1000 [00:11<00:45, 17.70it/s]"
     ]
    },
    {
     "name": "stdout",
     "output_type": "stream",
     "text": [
      "multi hist hist 執行時間:0.01639699935913086\n",
      "multi hist RMSE 執行時間:0.00020003318786621094\n",
      "multi hist 執行時間:0.01686882972717285\n",
      "multi hist hist 執行時間:0.015241384506225586\n",
      "multi hist RMSE 執行時間:0.00010251998901367188\n",
      "multi hist 執行時間:0.015409708023071289\n",
      "multi hist hist 執行時間:0.016682147979736328\n",
      "multi hist RMSE 執行時間:0.00011324882507324219\n",
      "multi hist 執行時間:0.016871213912963867\n"
     ]
    },
    {
     "name": "stderr",
     "output_type": "stream",
     "text": [
      "總進度:  20%|██        | 205/1000 [00:11<00:44, 17.77it/s]"
     ]
    },
    {
     "name": "stdout",
     "output_type": "stream",
     "text": [
      "multi hist hist 執行時間:0.01415395736694336\n",
      "multi hist RMSE 執行時間:0.0003180503845214844\n",
      "multi hist 執行時間:0.014621973037719727\n"
     ]
    },
    {
     "name": "stderr",
     "output_type": "stream",
     "text": [
      "總進度:  21%|██        | 207/1000 [00:11<00:44, 17.75it/s]"
     ]
    },
    {
     "name": "stdout",
     "output_type": "stream",
     "text": [
      "multi hist hist 執行時間:0.01451730728149414\n",
      "multi hist RMSE 執行時間:0.0001468658447265625\n",
      "multi hist 執行時間:0.014937877655029297\n",
      "multi hist hist 執行時間:0.01612067222595215\n",
      "multi hist RMSE 執行時間:0.00013065338134765625\n",
      "multi hist 執行時間:0.016329288482666016\n",
      "multi hist hist 執行時間:0.01531362533569336\n",
      "multi hist RMSE 執行時間:0.0002448558807373047\n",
      "multi hist 執行時間:0.015681028366088867\n"
     ]
    },
    {
     "name": "stderr",
     "output_type": "stream",
     "text": [
      "總進度:  21%|██        | 209/1000 [00:11<00:44, 17.61it/s]"
     ]
    },
    {
     "name": "stdout",
     "output_type": "stream",
     "text": [
      "multi hist hist 執行時間:0.016913652420043945\n",
      "multi hist RMSE 執行時間:0.0004839897155761719\n",
      "multi hist 執行時間:0.017596721649169922\n"
     ]
    },
    {
     "name": "stderr",
     "output_type": "stream",
     "text": [
      "總進度:  21%|██        | 211/1000 [00:12<00:45, 17.53it/s]"
     ]
    },
    {
     "name": "stdout",
     "output_type": "stream",
     "text": [
      "multi hist hist 執行時間:0.014684915542602539\n",
      "multi hist RMSE 執行時間:0.0006177425384521484\n",
      "multi hist 執行時間:0.01570415496826172\n",
      "multi hist hist 執行時間:0.016645431518554688\n",
      "multi hist RMSE 執行時間:0.00010895729064941406\n",
      "multi hist 執行時間:0.016826629638671875\n",
      "multi hist hist 執行時間:0.01646876335144043\n",
      "multi hist RMSE 執行時間:0.00010895729064941406\n",
      "multi hist 執行時間:0.016646623611450195\n"
     ]
    },
    {
     "name": "stderr",
     "output_type": "stream",
     "text": [
      "總進度:  21%|██▏       | 213/1000 [00:12<00:44, 17.60it/s]"
     ]
    },
    {
     "name": "stdout",
     "output_type": "stream",
     "text": [
      "multi hist hist 執行時間:0.015433073043823242\n",
      "multi hist RMSE 執行時間:0.0004546642303466797\n",
      "multi hist 執行時間:0.016109466552734375\n"
     ]
    },
    {
     "name": "stderr",
     "output_type": "stream",
     "text": [
      "總進度:  22%|██▏       | 215/1000 [00:12<00:44, 17.62it/s]"
     ]
    },
    {
     "name": "stdout",
     "output_type": "stream",
     "text": [
      "multi hist hist 執行時間:0.01489400863647461\n",
      "multi hist RMSE 執行時間:0.00048613548278808594\n",
      "multi hist 執行時間:0.015563011169433594\n",
      "multi hist hist 執行時間:0.018808603286743164\n",
      "multi hist RMSE 執行時間:0.00023293495178222656\n",
      "multi hist 執行時間:0.019162654876708984\n",
      "multi hist hist 執行時間:0.014254331588745117\n",
      "multi hist RMSE 執行時間:9.822845458984375e-05\n",
      "multi hist 執行時間:0.0144195556640625\n"
     ]
    },
    {
     "name": "stderr",
     "output_type": "stream",
     "text": [
      "總進度:  22%|██▏       | 217/1000 [00:12<00:43, 17.84it/s]"
     ]
    },
    {
     "name": "stdout",
     "output_type": "stream",
     "text": [
      "multi hist hist 執行時間:0.015545129776000977\n",
      "multi hist RMSE 執行時間:0.0001475811004638672\n",
      "multi hist 執行時間:0.01595926284790039\n"
     ]
    },
    {
     "name": "stderr",
     "output_type": "stream",
     "text": [
      "總進度:  22%|██▏       | 219/1000 [00:12<00:43, 18.00it/s]"
     ]
    },
    {
     "name": "stdout",
     "output_type": "stream",
     "text": [
      "multi hist hist 執行時間:0.0145416259765625\n",
      "multi hist RMSE 執行時間:0.00020360946655273438\n",
      "multi hist 執行時間:0.015060186386108398\n",
      "multi hist hist 執行時間:0.015373706817626953\n",
      "multi hist RMSE 執行時間:0.000385284423828125\n",
      "multi hist 執行時間:0.015855073928833008\n",
      "multi hist hist 執行時間:0.014805793762207031\n",
      "multi hist RMSE 執行時間:0.00010180473327636719\n",
      "multi hist 執行時間:0.014974355697631836\n"
     ]
    },
    {
     "name": "stderr",
     "output_type": "stream",
     "text": [
      "總進度:  22%|██▏       | 221/1000 [00:12<00:42, 18.12it/s]"
     ]
    },
    {
     "name": "stdout",
     "output_type": "stream",
     "text": [
      "multi hist hist 執行時間:0.015133380889892578\n",
      "multi hist RMSE 執行時間:0.0001289844512939453\n",
      "multi hist 執行時間:0.015492439270019531\n"
     ]
    },
    {
     "name": "stderr",
     "output_type": "stream",
     "text": [
      "總進度:  22%|██▏       | 223/1000 [00:12<00:43, 18.02it/s]"
     ]
    },
    {
     "name": "stdout",
     "output_type": "stream",
     "text": [
      "multi hist hist 執行時間:0.01567244529724121\n",
      "multi hist RMSE 執行時間:0.0001952648162841797\n",
      "multi hist 執行時間:0.016158103942871094\n",
      "multi hist hist 執行時間:0.015369415283203125\n",
      "multi hist RMSE 執行時間:0.00011444091796875\n",
      "multi hist 執行時間:0.015554189682006836\n",
      "multi hist hist 執行時間:0.015383720397949219\n",
      "multi hist RMSE 執行時間:0.00010538101196289062\n",
      "multi hist 執行時間:0.015564203262329102\n"
     ]
    },
    {
     "name": "stderr",
     "output_type": "stream",
     "text": [
      "總進度:  22%|██▎       | 225/1000 [00:12<00:43, 18.01it/s]"
     ]
    },
    {
     "name": "stdout",
     "output_type": "stream",
     "text": [
      "multi hist hist 執行時間:0.016173362731933594\n",
      "multi hist RMSE 執行時間:0.0002472400665283203\n",
      "multi hist 執行時間:0.0165712833404541\n"
     ]
    },
    {
     "name": "stderr",
     "output_type": "stream",
     "text": [
      "總進度:  23%|██▎       | 227/1000 [00:13<00:43, 17.59it/s]"
     ]
    },
    {
     "name": "stdout",
     "output_type": "stream",
     "text": [
      "multi hist hist 執行時間:0.01623821258544922\n",
      "multi hist RMSE 執行時間:0.000385284423828125\n",
      "multi hist 執行時間:0.01679253578186035\n",
      "multi hist hist 執行時間:0.014460325241088867\n",
      "multi hist RMSE 執行時間:0.00013113021850585938\n",
      "multi hist 執行時間:0.014672994613647461\n",
      "multi hist hist 執行時間:0.01640915870666504\n",
      "multi hist RMSE 執行時間:0.00012803077697753906\n",
      "multi hist 執行時間:0.01661992073059082\n"
     ]
    },
    {
     "name": "stderr",
     "output_type": "stream",
     "text": [
      "總進度:  23%|██▎       | 229/1000 [00:13<00:43, 17.56it/s]"
     ]
    },
    {
     "name": "stdout",
     "output_type": "stream",
     "text": [
      "multi hist hist 執行時間:0.015126466751098633\n",
      "multi hist RMSE 執行時間:0.0004277229309082031\n",
      "multi hist 執行時間:0.015716075897216797\n"
     ]
    },
    {
     "name": "stderr",
     "output_type": "stream",
     "text": [
      "總進度:  23%|██▎       | 231/1000 [00:13<00:43, 17.68it/s]"
     ]
    },
    {
     "name": "stdout",
     "output_type": "stream",
     "text": [
      "multi hist hist 執行時間:0.015107870101928711\n",
      "multi hist RMSE 執行時間:0.0001971721649169922\n",
      "multi hist 執行時間:0.015553712844848633\n",
      "multi hist hist 執行時間:0.015459775924682617\n",
      "multi hist RMSE 執行時間:0.00012421607971191406\n",
      "multi hist 執行時間:0.015668153762817383\n",
      "multi hist hist 執行時間:0.015183687210083008\n",
      "multi hist RMSE 執行時間:0.00011181831359863281\n",
      "multi hist 執行時間:0.015387773513793945\n"
     ]
    },
    {
     "name": "stderr",
     "output_type": "stream",
     "text": [
      "總進度:  23%|██▎       | 233/1000 [00:13<00:43, 17.71it/s]"
     ]
    },
    {
     "name": "stdout",
     "output_type": "stream",
     "text": [
      "multi hist hist 執行時間:0.015750408172607422\n",
      "multi hist RMSE 執行時間:0.00021648406982421875\n",
      "multi hist 執行時間:0.016206026077270508\n"
     ]
    },
    {
     "name": "stderr",
     "output_type": "stream",
     "text": [
      "總進度:  24%|██▎       | 235/1000 [00:13<00:42, 17.88it/s]"
     ]
    },
    {
     "name": "stdout",
     "output_type": "stream",
     "text": [
      "multi hist hist 執行時間:0.014345169067382812\n",
      "multi hist RMSE 執行時間:0.0001742839813232422\n",
      "multi hist 執行時間:0.014768123626708984\n",
      "multi hist hist 執行時間:0.014905929565429688\n",
      "multi hist RMSE 執行時間:0.000102996826171875\n",
      "multi hist 執行時間:0.015076637268066406\n",
      "multi hist hist 執行時間:0.014302492141723633\n",
      "multi hist RMSE 執行時間:0.00010967254638671875\n",
      "multi hist 執行時間:0.014484167098999023\n"
     ]
    },
    {
     "name": "stderr",
     "output_type": "stream",
     "text": [
      "總進度:  24%|██▎       | 237/1000 [00:13<00:42, 17.91it/s]"
     ]
    },
    {
     "name": "stdout",
     "output_type": "stream",
     "text": [
      "multi hist hist 執行時間:0.015297174453735352\n",
      "multi hist RMSE 執行時間:0.00018358230590820312\n",
      "multi hist 執行時間:0.01572394371032715\n"
     ]
    },
    {
     "name": "stderr",
     "output_type": "stream",
     "text": [
      "總進度:  24%|██▍       | 239/1000 [00:13<00:42, 17.79it/s]"
     ]
    },
    {
     "name": "stdout",
     "output_type": "stream",
     "text": [
      "multi hist hist 執行時間:0.015227794647216797\n",
      "multi hist RMSE 執行時間:0.00024318695068359375\n",
      "multi hist 執行時間:0.015587806701660156\n",
      "multi hist hist 執行時間:0.015609979629516602\n",
      "multi hist RMSE 執行時間:0.00011491775512695312\n",
      "multi hist 執行時間:0.015799999237060547\n",
      "multi hist hist 執行時間:0.015459775924682617\n",
      "multi hist RMSE 執行時間:0.00011324882507324219\n",
      "multi hist 執行時間:0.015648365020751953\n"
     ]
    },
    {
     "name": "stderr",
     "output_type": "stream",
     "text": [
      "總進度:  24%|██▍       | 241/1000 [00:13<00:42, 17.85it/s]"
     ]
    },
    {
     "name": "stdout",
     "output_type": "stream",
     "text": [
      "multi hist hist 執行時間:0.014933347702026367\n",
      "multi hist RMSE 執行時間:0.0001518726348876953\n",
      "multi hist 執行時間:0.015347480773925781\n"
     ]
    },
    {
     "name": "stderr",
     "output_type": "stream",
     "text": [
      "總進度:  24%|██▍       | 243/1000 [00:13<00:42, 17.83it/s]"
     ]
    },
    {
     "name": "stdout",
     "output_type": "stream",
     "text": [
      "multi hist hist 執行時間:0.015417337417602539\n",
      "multi hist RMSE 執行時間:0.00020813941955566406\n",
      "multi hist 執行時間:0.01591181755065918\n",
      "multi hist hist 執行時間:0.01524662971496582\n",
      "multi hist RMSE 執行時間:0.0001232624053955078\n",
      "multi hist 執行時間:0.015442132949829102\n",
      "multi hist hist 執行時間:0.015393972396850586\n",
      "multi hist RMSE 執行時間:0.00011873245239257812\n",
      "multi hist 執行時間:0.015589714050292969\n"
     ]
    },
    {
     "name": "stderr",
     "output_type": "stream",
     "text": [
      "總進度:  24%|██▍       | 245/1000 [00:14<00:42, 17.62it/s]"
     ]
    },
    {
     "name": "stdout",
     "output_type": "stream",
     "text": [
      "multi hist hist 執行時間:0.015227079391479492\n",
      "multi hist RMSE 執行時間:0.00034999847412109375\n",
      "multi hist 執行時間:0.015735149383544922\n"
     ]
    },
    {
     "name": "stderr",
     "output_type": "stream",
     "text": [
      "總進度:  25%|██▍       | 247/1000 [00:14<00:42, 17.77it/s]"
     ]
    },
    {
     "name": "stdout",
     "output_type": "stream",
     "text": [
      "multi hist hist 執行時間:0.014826059341430664\n",
      "multi hist RMSE 執行時間:0.00014853477478027344\n",
      "multi hist 執行時間:0.015217781066894531\n",
      "multi hist hist 執行時間:0.015458106994628906\n",
      "multi hist RMSE 執行時間:0.00011277198791503906\n",
      "multi hist 執行時間:0.015640735626220703\n",
      "multi hist hist 執行時間:0.016385793685913086\n",
      "multi hist RMSE 執行時間:0.0001087188720703125\n",
      "multi hist 執行時間:0.016573190689086914\n"
     ]
    },
    {
     "name": "stderr",
     "output_type": "stream",
     "text": [
      "總進度:  25%|██▍       | 249/1000 [00:14<00:42, 17.84it/s]"
     ]
    },
    {
     "name": "stdout",
     "output_type": "stream",
     "text": [
      "multi hist hist 執行時間:0.014929771423339844\n",
      "multi hist RMSE 執行時間:0.00014019012451171875\n",
      "multi hist 執行時間:0.015306234359741211\n"
     ]
    },
    {
     "name": "stderr",
     "output_type": "stream",
     "text": [
      "總進度:  25%|██▌       | 251/1000 [00:14<00:42, 17.83it/s]"
     ]
    },
    {
     "name": "stdout",
     "output_type": "stream",
     "text": [
      "multi hist hist 執行時間:0.015097618103027344\n",
      "multi hist RMSE 執行時間:0.00031876564025878906\n",
      "multi hist 執行時間:0.015558481216430664\n",
      "multi hist hist 執行時間:0.015006065368652344\n",
      "multi hist RMSE 執行時間:0.00013399124145507812\n",
      "multi hist 執行時間:0.015208244323730469\n",
      "multi hist hist 執行時間:0.0147857666015625\n",
      "multi hist RMSE 執行時間:0.0001049041748046875\n",
      "multi hist 執行時間:0.014958620071411133\n"
     ]
    },
    {
     "name": "stderr",
     "output_type": "stream",
     "text": [
      "總進度:  25%|██▌       | 253/1000 [00:14<00:41, 17.96it/s]"
     ]
    },
    {
     "name": "stdout",
     "output_type": "stream",
     "text": [
      "multi hist hist 執行時間:0.014838695526123047\n",
      "multi hist RMSE 執行時間:0.00022912025451660156\n",
      "multi hist 執行時間:0.015176057815551758\n"
     ]
    },
    {
     "name": "stderr",
     "output_type": "stream",
     "text": [
      "總進度:  26%|██▌       | 255/1000 [00:14<00:41, 17.88it/s]"
     ]
    },
    {
     "name": "stdout",
     "output_type": "stream",
     "text": [
      "multi hist hist 執行時間:0.01557016372680664\n",
      "multi hist RMSE 執行時間:0.0002186298370361328\n",
      "multi hist 執行時間:0.016092300415039062\n",
      "multi hist hist 執行時間:0.01575493812561035\n",
      "multi hist RMSE 執行時間:0.00010943412780761719\n",
      "multi hist 執行時間:0.015935182571411133\n",
      "multi hist hist 執行時間:0.015401840209960938\n",
      "multi hist RMSE 執行時間:0.0001270771026611328\n",
      "multi hist 執行時間:0.015605688095092773\n"
     ]
    },
    {
     "name": "stderr",
     "output_type": "stream",
     "text": [
      "總進度:  26%|██▌       | 257/1000 [00:14<00:41, 17.74it/s]"
     ]
    },
    {
     "name": "stdout",
     "output_type": "stream",
     "text": [
      "multi hist hist 執行時間:0.01649332046508789\n",
      "multi hist RMSE 執行時間:0.00018405914306640625\n",
      "multi hist 執行時間:0.016940593719482422\n"
     ]
    },
    {
     "name": "stderr",
     "output_type": "stream",
     "text": [
      "總進度:  26%|██▌       | 259/1000 [00:14<00:42, 17.55it/s]"
     ]
    },
    {
     "name": "stdout",
     "output_type": "stream",
     "text": [
      "multi hist hist 執行時間:0.015321969985961914\n",
      "multi hist RMSE 執行時間:0.00014591217041015625\n",
      "multi hist 執行時間:0.01575326919555664\n",
      "multi hist hist 執行時間:0.014916419982910156\n",
      "multi hist RMSE 執行時間:0.00011014938354492188\n",
      "multi hist 執行時間:0.015097379684448242\n",
      "multi hist hist 執行時間:0.015140056610107422\n",
      "multi hist RMSE 執行時間:0.00011563301086425781\n",
      "multi hist 執行時間:0.015343904495239258\n"
     ]
    },
    {
     "name": "stderr",
     "output_type": "stream",
     "text": [
      "總進度:  26%|██▌       | 261/1000 [00:14<00:41, 17.67it/s]"
     ]
    },
    {
     "name": "stdout",
     "output_type": "stream",
     "text": [
      "multi hist hist 執行時間:0.016394615173339844\n",
      "multi hist RMSE 執行時間:0.0001747608184814453\n",
      "multi hist 執行時間:0.01688861846923828\n"
     ]
    },
    {
     "name": "stderr",
     "output_type": "stream",
     "text": [
      "總進度:  26%|██▋       | 263/1000 [00:15<00:42, 17.38it/s]"
     ]
    },
    {
     "name": "stdout",
     "output_type": "stream",
     "text": [
      "multi hist hist 執行時間:0.015293598175048828\n",
      "multi hist RMSE 執行時間:0.0005576610565185547\n",
      "multi hist 執行時間:0.016066789627075195\n",
      "multi hist hist 執行時間:0.015095233917236328\n",
      "multi hist RMSE 執行時間:9.870529174804688e-05\n",
      "multi hist 執行時間:0.015261411666870117\n",
      "multi hist hist 執行時間:0.015347480773925781\n",
      "multi hist RMSE 執行時間:0.000118255615234375\n",
      "multi hist 執行時間:0.015544652938842773\n"
     ]
    },
    {
     "name": "stderr",
     "output_type": "stream",
     "text": [
      "總進度:  26%|██▋       | 265/1000 [00:15<00:42, 17.50it/s]"
     ]
    },
    {
     "name": "stdout",
     "output_type": "stream",
     "text": [
      "multi hist hist 執行時間:0.015497684478759766\n",
      "multi hist RMSE 執行時間:0.00021719932556152344\n",
      "multi hist 執行時間:0.016005516052246094\n"
     ]
    },
    {
     "name": "stderr",
     "output_type": "stream",
     "text": [
      "總進度:  27%|██▋       | 267/1000 [00:15<00:41, 17.57it/s]"
     ]
    },
    {
     "name": "stdout",
     "output_type": "stream",
     "text": [
      "multi hist hist 執行時間:0.015543937683105469\n",
      "multi hist RMSE 執行時間:0.00018858909606933594\n",
      "multi hist 執行時間:0.016264677047729492\n",
      "multi hist hist 執行時間:0.014546632766723633\n",
      "multi hist RMSE 執行時間:0.0001068115234375\n",
      "multi hist 執行時間:0.014720678329467773\n",
      "multi hist hist 執行時間:0.015129804611206055\n",
      "multi hist RMSE 執行時間:0.0001049041748046875\n",
      "multi hist 執行時間:0.015303611755371094\n"
     ]
    },
    {
     "name": "stderr",
     "output_type": "stream",
     "text": [
      "總進度:  27%|██▋       | 269/1000 [00:15<00:41, 17.57it/s]"
     ]
    },
    {
     "name": "stdout",
     "output_type": "stream",
     "text": [
      "multi hist hist 執行時間:0.015156745910644531\n",
      "multi hist RMSE 執行時間:0.0002460479736328125\n",
      "multi hist 執行時間:0.015743732452392578\n"
     ]
    },
    {
     "name": "stderr",
     "output_type": "stream",
     "text": [
      "總進度:  27%|██▋       | 271/1000 [00:15<00:41, 17.67it/s]"
     ]
    },
    {
     "name": "stdout",
     "output_type": "stream",
     "text": [
      "multi hist hist 執行時間:0.015242815017700195\n",
      "multi hist RMSE 執行時間:0.0001697540283203125\n",
      "multi hist 執行時間:0.01565861701965332\n",
      "multi hist hist 執行時間:0.014503717422485352\n",
      "multi hist RMSE 執行時間:0.00010204315185546875\n",
      "multi hist 執行時間:0.014675140380859375\n",
      "multi hist hist 執行時間:0.014953851699829102\n",
      "multi hist RMSE 執行時間:0.0001442432403564453\n",
      "multi hist 執行時間:0.015173673629760742\n"
     ]
    },
    {
     "name": "stderr",
     "output_type": "stream",
     "text": [
      "總進度:  27%|██▋       | 273/1000 [00:15<00:41, 17.72it/s]"
     ]
    },
    {
     "name": "stdout",
     "output_type": "stream",
     "text": [
      "multi hist hist 執行時間:0.015206336975097656\n",
      "multi hist RMSE 執行時間:0.00020194053649902344\n",
      "multi hist 執行時間:0.01568770408630371\n"
     ]
    },
    {
     "name": "stderr",
     "output_type": "stream",
     "text": [
      "總進度:  28%|██▊       | 275/1000 [00:15<00:40, 17.85it/s]"
     ]
    },
    {
     "name": "stdout",
     "output_type": "stream",
     "text": [
      "multi hist hist 執行時間:0.014645576477050781\n",
      "multi hist RMSE 執行時間:0.0002391338348388672\n",
      "multi hist 執行時間:0.015020370483398438\n",
      "multi hist hist 執行時間:0.014883279800415039\n",
      "multi hist RMSE 執行時間:0.00010418891906738281\n",
      "multi hist 執行時間:0.01505422592163086\n",
      "multi hist hist 執行時間:0.015021085739135742\n",
      "multi hist RMSE 執行時間:0.00010585784912109375\n",
      "multi hist 執行時間:0.015197038650512695\n"
     ]
    },
    {
     "name": "stderr",
     "output_type": "stream",
     "text": [
      "總進度:  28%|██▊       | 277/1000 [00:15<00:40, 17.86it/s]"
     ]
    },
    {
     "name": "stdout",
     "output_type": "stream",
     "text": [
      "multi hist hist 執行時間:0.014351606369018555\n",
      "multi hist RMSE 執行時間:0.00015497207641601562\n",
      "multi hist 執行時間:0.014779806137084961\n"
     ]
    },
    {
     "name": "stderr",
     "output_type": "stream",
     "text": [
      "總進度:  28%|██▊       | 279/1000 [00:15<00:41, 17.48it/s]"
     ]
    },
    {
     "name": "stdout",
     "output_type": "stream",
     "text": [
      "multi hist hist 執行時間:0.01563549041748047\n",
      "multi hist RMSE 執行時間:0.0005245208740234375\n",
      "multi hist 執行時間:0.01640152931213379\n",
      "multi hist hist 執行時間:0.015014171600341797\n",
      "multi hist RMSE 執行時間:0.0001125335693359375\n",
      "multi hist 執行時間:0.015195369720458984\n",
      "multi hist hist 執行時間:0.016143083572387695\n",
      "multi hist RMSE 執行時間:0.00011515617370605469\n",
      "multi hist 執行時間:0.0163266658782959\n"
     ]
    },
    {
     "name": "stderr",
     "output_type": "stream",
     "text": [
      "總進度:  28%|██▊       | 281/1000 [00:16<00:41, 17.49it/s]"
     ]
    },
    {
     "name": "stdout",
     "output_type": "stream",
     "text": [
      "multi hist hist 執行時間:0.014876365661621094\n",
      "multi hist RMSE 執行時間:0.00022149085998535156\n",
      "multi hist 執行時間:0.015479803085327148\n"
     ]
    },
    {
     "name": "stderr",
     "output_type": "stream",
     "text": [
      "總進度:  28%|██▊       | 283/1000 [00:16<00:40, 17.68it/s]"
     ]
    },
    {
     "name": "stdout",
     "output_type": "stream",
     "text": [
      "multi hist hist 執行時間:0.015250205993652344\n",
      "multi hist RMSE 執行時間:0.0003650188446044922\n",
      "multi hist 執行時間:0.015792131423950195\n",
      "multi hist hist 執行時間:0.015406370162963867\n",
      "multi hist RMSE 執行時間:0.00010466575622558594\n",
      "multi hist 執行時間:0.015577316284179688\n",
      "multi hist hist 執行時間:0.014602184295654297\n",
      "multi hist RMSE 執行時間:0.0002155303955078125\n",
      "multi hist 執行時間:0.014913082122802734\n"
     ]
    },
    {
     "name": "stderr",
     "output_type": "stream",
     "text": [
      "總進度:  28%|██▊       | 285/1000 [00:16<00:40, 17.65it/s]"
     ]
    },
    {
     "name": "stdout",
     "output_type": "stream",
     "text": [
      "multi hist hist 執行時間:0.014841318130493164\n",
      "multi hist RMSE 執行時間:0.00022172927856445312\n",
      "multi hist 執行時間:0.015169620513916016\n"
     ]
    },
    {
     "name": "stderr",
     "output_type": "stream",
     "text": [
      "總進度:  29%|██▊       | 287/1000 [00:16<00:40, 17.70it/s]"
     ]
    },
    {
     "name": "stdout",
     "output_type": "stream",
     "text": [
      "multi hist hist 執行時間:0.015465259552001953\n",
      "multi hist RMSE 執行時間:0.00031304359436035156\n",
      "multi hist 執行時間:0.01591968536376953\n",
      "multi hist hist 執行時間:0.01583695411682129\n",
      "multi hist RMSE 執行時間:0.00011563301086425781\n",
      "multi hist 執行時間:0.01602482795715332\n",
      "multi hist hist 執行時間:0.01534128189086914\n",
      "multi hist RMSE 執行時間:0.00011014938354492188\n",
      "multi hist 執行時間:0.015522480010986328\n"
     ]
    },
    {
     "name": "stderr",
     "output_type": "stream",
     "text": [
      "總進度:  29%|██▉       | 289/1000 [00:16<00:40, 17.74it/s]"
     ]
    },
    {
     "name": "stdout",
     "output_type": "stream",
     "text": [
      "multi hist hist 執行時間:0.016122102737426758\n",
      "multi hist RMSE 執行時間:0.0002925395965576172\n",
      "multi hist 執行時間:0.016527652740478516\n"
     ]
    },
    {
     "name": "stderr",
     "output_type": "stream",
     "text": [
      "總進度:  29%|██▉       | 291/1000 [00:16<00:40, 17.69it/s]"
     ]
    },
    {
     "name": "stdout",
     "output_type": "stream",
     "text": [
      "multi hist hist 執行時間:0.016084671020507812\n",
      "multi hist RMSE 執行時間:0.00020432472229003906\n",
      "multi hist 執行時間:0.016595840454101562\n",
      "multi hist hist 執行時間:0.014726877212524414\n",
      "multi hist RMSE 執行時間:0.00010251998901367188\n",
      "multi hist 執行時間:0.014893054962158203\n",
      "multi hist hist 執行時間:0.014908313751220703\n",
      "multi hist RMSE 執行時間:0.00010466575622558594\n",
      "multi hist 執行時間:0.015082597732543945\n"
     ]
    },
    {
     "name": "stderr",
     "output_type": "stream",
     "text": [
      "總進度:  29%|██▉       | 293/1000 [00:16<00:39, 17.83it/s]"
     ]
    },
    {
     "name": "stdout",
     "output_type": "stream",
     "text": [
      "multi hist hist 執行時間:0.015556812286376953\n",
      "multi hist RMSE 執行時間:0.00018262863159179688\n",
      "multi hist 執行時間:0.01606893539428711\n"
     ]
    },
    {
     "name": "stderr",
     "output_type": "stream",
     "text": [
      "總進度:  30%|██▉       | 295/1000 [00:16<00:40, 17.62it/s]"
     ]
    },
    {
     "name": "stdout",
     "output_type": "stream",
     "text": [
      "multi hist hist 執行時間:0.01545095443725586\n",
      "multi hist RMSE 執行時間:0.00020170211791992188\n",
      "multi hist 執行時間:0.015904664993286133\n",
      "multi hist hist 執行時間:0.016201257705688477\n",
      "multi hist RMSE 執行時間:0.000133514404296875\n",
      "multi hist 執行時間:0.016416311264038086\n",
      "multi hist hist 執行時間:0.015523433685302734\n",
      "multi hist RMSE 執行時間:0.000118255615234375\n",
      "multi hist 執行時間:0.015720605850219727\n"
     ]
    },
    {
     "name": "stderr",
     "output_type": "stream",
     "text": [
      "總進度:  30%|██▉       | 297/1000 [00:16<00:39, 17.66it/s]"
     ]
    },
    {
     "name": "stdout",
     "output_type": "stream",
     "text": [
      "multi hist hist 執行時間:0.014696121215820312\n",
      "multi hist RMSE 執行時間:0.00017213821411132812\n",
      "multi hist 執行時間:0.01511383056640625\n"
     ]
    },
    {
     "name": "stderr",
     "output_type": "stream",
     "text": [
      "總進度:  30%|██▉       | 299/1000 [00:17<00:39, 17.62it/s]"
     ]
    },
    {
     "name": "stdout",
     "output_type": "stream",
     "text": [
      "multi hist hist 執行時間:0.015374183654785156\n",
      "multi hist RMSE 執行時間:0.00022149085998535156\n",
      "multi hist 執行時間:0.015874147415161133\n",
      "multi hist hist 執行時間:0.015395402908325195\n",
      "multi hist RMSE 執行時間:0.00010943412780761719\n",
      "multi hist 執行時間:0.015578269958496094\n",
      "multi hist hist 執行時間:0.014756917953491211\n",
      "multi hist RMSE 執行時間:0.00011134147644042969\n",
      "multi hist 執行時間:0.014940023422241211\n"
     ]
    },
    {
     "name": "stderr",
     "output_type": "stream",
     "text": [
      "總進度:  30%|███       | 301/1000 [00:17<00:39, 17.77it/s]"
     ]
    },
    {
     "name": "stdout",
     "output_type": "stream",
     "text": [
      "multi hist hist 執行時間:0.015134334564208984\n",
      "multi hist RMSE 執行時間:0.00023102760314941406\n",
      "multi hist 執行時間:0.01546931266784668\n"
     ]
    },
    {
     "name": "stderr",
     "output_type": "stream",
     "text": [
      "總進度:  30%|███       | 303/1000 [00:17<00:39, 17.80it/s]"
     ]
    },
    {
     "name": "stdout",
     "output_type": "stream",
     "text": [
      "multi hist hist 執行時間:0.015586376190185547\n",
      "multi hist RMSE 執行時間:0.00017547607421875\n",
      "multi hist 執行時間:0.016021013259887695\n",
      "multi hist hist 執行時間:0.014930009841918945\n",
      "multi hist RMSE 執行時間:0.00010204315185546875\n",
      "multi hist 執行時間:0.015099048614501953\n",
      "multi hist hist 執行時間:0.01599597930908203\n",
      "multi hist RMSE 執行時間:0.00012445449829101562\n",
      "multi hist 執行時間:0.01619863510131836\n"
     ]
    },
    {
     "name": "stderr",
     "output_type": "stream",
     "text": [
      "總進度:  30%|███       | 305/1000 [00:17<00:39, 17.62it/s]"
     ]
    },
    {
     "name": "stdout",
     "output_type": "stream",
     "text": [
      "multi hist hist 執行時間:0.014773130416870117\n",
      "multi hist RMSE 執行時間:0.0005857944488525391\n",
      "multi hist 執行時間:0.015540599822998047\n"
     ]
    },
    {
     "name": "stderr",
     "output_type": "stream",
     "text": [
      "總進度:  31%|███       | 307/1000 [00:17<00:39, 17.72it/s]"
     ]
    },
    {
     "name": "stdout",
     "output_type": "stream",
     "text": [
      "multi hist hist 執行時間:0.015627384185791016\n",
      "multi hist RMSE 執行時間:0.00014781951904296875\n",
      "multi hist 執行時間:0.016059160232543945\n",
      "multi hist hist 執行時間:0.014973163604736328\n",
      "multi hist RMSE 執行時間:0.00010848045349121094\n",
      "multi hist 執行時間:0.01514744758605957\n",
      "multi hist hist 執行時間:0.014859676361083984\n",
      "multi hist RMSE 執行時間:0.00010609626770019531\n",
      "multi hist 執行時間:0.015036582946777344\n"
     ]
    },
    {
     "name": "stderr",
     "output_type": "stream",
     "text": [
      "總進度:  31%|███       | 309/1000 [00:17<00:38, 17.81it/s]"
     ]
    },
    {
     "name": "stdout",
     "output_type": "stream",
     "text": [
      "multi hist hist 執行時間:0.015167713165283203\n",
      "multi hist RMSE 執行時間:0.00017499923706054688\n",
      "multi hist 執行時間:0.01556706428527832\n"
     ]
    },
    {
     "name": "stderr",
     "output_type": "stream",
     "text": [
      "總進度:  31%|███       | 311/1000 [00:17<00:38, 17.89it/s]"
     ]
    },
    {
     "name": "stdout",
     "output_type": "stream",
     "text": [
      "multi hist hist 執行時間:0.01581597328186035\n",
      "multi hist RMSE 執行時間:0.00021386146545410156\n",
      "multi hist 執行時間:0.01613330841064453\n",
      "multi hist hist 執行時間:0.015743494033813477\n",
      "multi hist RMSE 執行時間:0.000118255615234375\n",
      "multi hist 執行時間:0.015934467315673828\n",
      "multi hist hist 執行時間:0.015347957611083984\n",
      "multi hist RMSE 執行時間:0.00011992454528808594\n",
      "multi hist 執行時間:0.015548229217529297\n"
     ]
    },
    {
     "name": "stderr",
     "output_type": "stream",
     "text": [
      "總進度:  31%|███▏      | 313/1000 [00:17<00:38, 17.89it/s]"
     ]
    },
    {
     "name": "stdout",
     "output_type": "stream",
     "text": [
      "multi hist hist 執行時間:0.01711559295654297\n",
      "multi hist RMSE 執行時間:0.0003299713134765625\n",
      "multi hist 執行時間:0.017594099044799805\n"
     ]
    },
    {
     "name": "stderr",
     "output_type": "stream",
     "text": [
      "總進度:  32%|███▏      | 315/1000 [00:17<00:38, 17.88it/s]"
     ]
    },
    {
     "name": "stdout",
     "output_type": "stream",
     "text": [
      "multi hist hist 執行時間:0.015896320343017578\n",
      "multi hist RMSE 執行時間:0.0003559589385986328\n",
      "multi hist 執行時間:0.016399383544921875\n",
      "multi hist hist 執行時間:0.015212297439575195\n",
      "multi hist RMSE 執行時間:0.00010967254638671875\n",
      "multi hist 執行時間:0.015391826629638672\n",
      "multi hist hist 執行時間:0.015385150909423828\n",
      "multi hist RMSE 執行時間:0.00010728836059570312\n",
      "multi hist 執行時間:0.015563488006591797\n"
     ]
    },
    {
     "name": "stderr",
     "output_type": "stream",
     "text": [
      "總進度:  32%|███▏      | 317/1000 [00:18<00:38, 17.89it/s]"
     ]
    },
    {
     "name": "stdout",
     "output_type": "stream",
     "text": [
      "multi hist hist 執行時間:0.015023946762084961\n",
      "multi hist RMSE 執行時間:0.0002467632293701172\n",
      "multi hist 執行時間:0.015568017959594727\n"
     ]
    },
    {
     "name": "stderr",
     "output_type": "stream",
     "text": [
      "總進度:  32%|███▏      | 319/1000 [00:18<00:39, 17.32it/s]"
     ]
    },
    {
     "name": "stdout",
     "output_type": "stream",
     "text": [
      "multi hist hist 執行時間:0.015030384063720703\n",
      "multi hist RMSE 執行時間:0.00041985511779785156\n",
      "multi hist 執行時間:0.015614509582519531\n",
      "multi hist hist 執行時間:0.015086889266967773\n",
      "multi hist RMSE 執行時間:0.00010943412780761719\n",
      "multi hist 執行時間:0.015264511108398438\n",
      "multi hist hist 執行時間:0.015521049499511719\n",
      "multi hist RMSE 執行時間:0.0001125335693359375\n",
      "multi hist 執行時間:0.015705108642578125\n"
     ]
    },
    {
     "name": "stderr",
     "output_type": "stream",
     "text": [
      "總進度:  32%|███▏      | 321/1000 [00:18<00:38, 17.50it/s]"
     ]
    },
    {
     "name": "stdout",
     "output_type": "stream",
     "text": [
      "multi hist hist 執行時間:0.014986038208007812\n",
      "multi hist RMSE 執行時間:0.00019240379333496094\n",
      "multi hist 執行時間:0.015451192855834961\n"
     ]
    },
    {
     "name": "stderr",
     "output_type": "stream",
     "text": [
      "總進度:  32%|███▏      | 323/1000 [00:18<00:38, 17.56it/s]"
     ]
    },
    {
     "name": "stdout",
     "output_type": "stream",
     "text": [
      "multi hist hist 執行時間:0.0153350830078125\n",
      "multi hist RMSE 執行時間:0.00022029876708984375\n",
      "multi hist 執行時間:0.015880346298217773\n",
      "multi hist hist 執行時間:0.014777183532714844\n",
      "multi hist RMSE 執行時間:0.00010728836059570312\n",
      "multi hist 執行時間:0.014954328536987305\n",
      "multi hist hist 執行時間:0.015198707580566406\n",
      "multi hist RMSE 執行時間:0.00011038780212402344\n",
      "multi hist 執行時間:0.015380620956420898\n"
     ]
    },
    {
     "name": "stderr",
     "output_type": "stream",
     "text": [
      "總進度:  32%|███▎      | 325/1000 [00:18<00:37, 17.78it/s]"
     ]
    },
    {
     "name": "stdout",
     "output_type": "stream",
     "text": [
      "multi hist hist 執行時間:0.016085386276245117\n",
      "multi hist RMSE 執行時間:0.0002143383026123047\n",
      "multi hist 執行時間:0.01639842987060547\n"
     ]
    },
    {
     "name": "stderr",
     "output_type": "stream",
     "text": [
      "總進度:  33%|███▎      | 327/1000 [00:18<00:37, 17.80it/s]"
     ]
    },
    {
     "name": "stdout",
     "output_type": "stream",
     "text": [
      "multi hist hist 執行時間:0.015113115310668945\n",
      "multi hist RMSE 執行時間:0.00014328956604003906\n",
      "multi hist 執行時間:0.015572309494018555\n",
      "multi hist hist 執行時間:0.015295028686523438\n",
      "multi hist RMSE 執行時間:0.00011515617370605469\n",
      "multi hist 執行時間:0.01548147201538086\n",
      "multi hist hist 執行時間:0.015274763107299805\n",
      "multi hist RMSE 執行時間:0.00011301040649414062\n",
      "multi hist 執行時間:0.015462160110473633\n"
     ]
    },
    {
     "name": "stderr",
     "output_type": "stream",
     "text": [
      "總進度:  33%|███▎      | 329/1000 [00:18<00:37, 17.87it/s]"
     ]
    },
    {
     "name": "stdout",
     "output_type": "stream",
     "text": [
      "multi hist hist 執行時間:0.015595197677612305\n",
      "multi hist RMSE 執行時間:0.0001800060272216797\n",
      "multi hist 執行時間:0.01615452766418457\n"
     ]
    },
    {
     "name": "stderr",
     "output_type": "stream",
     "text": [
      "總進度:  33%|███▎      | 331/1000 [00:18<00:37, 17.97it/s]"
     ]
    },
    {
     "name": "stdout",
     "output_type": "stream",
     "text": [
      "multi hist hist 執行時間:0.015551567077636719\n",
      "multi hist RMSE 執行時間:0.0001933574676513672\n",
      "multi hist 執行時間:0.01605534553527832\n",
      "multi hist hist 執行時間:0.015524148941040039\n",
      "multi hist RMSE 執行時間:0.00011587142944335938\n",
      "multi hist 執行時間:0.0157163143157959\n",
      "multi hist hist 執行時間:0.015371322631835938\n",
      "multi hist RMSE 執行時間:0.00012111663818359375\n",
      "multi hist 執行時間:0.015573263168334961\n"
     ]
    },
    {
     "name": "stderr",
     "output_type": "stream",
     "text": [
      "總進度:  33%|███▎      | 333/1000 [00:18<00:37, 17.95it/s]"
     ]
    },
    {
     "name": "stdout",
     "output_type": "stream",
     "text": [
      "multi hist hist 執行時間:0.01528477668762207\n",
      "multi hist RMSE 執行時間:0.00032067298889160156\n",
      "multi hist 執行時間:0.01574873924255371\n"
     ]
    },
    {
     "name": "stderr",
     "output_type": "stream",
     "text": [
      "總進度:  34%|███▎      | 335/1000 [00:19<00:38, 17.48it/s]"
     ]
    },
    {
     "name": "stdout",
     "output_type": "stream",
     "text": [
      "multi hist hist 執行時間:0.01551198959350586\n",
      "multi hist RMSE 執行時間:0.00016164779663085938\n",
      "multi hist 執行時間:0.015980243682861328\n",
      "multi hist hist 執行時間:0.014970064163208008\n",
      "multi hist RMSE 執行時間:0.00010156631469726562\n",
      "multi hist 執行時間:0.015138626098632812\n",
      "multi hist hist 執行時間:0.016576290130615234\n",
      "multi hist RMSE 執行時間:0.0001888275146484375\n",
      "multi hist 執行時間:0.016969680786132812\n"
     ]
    },
    {
     "name": "stderr",
     "output_type": "stream",
     "text": [
      "總進度:  34%|███▎      | 337/1000 [00:19<00:37, 17.58it/s]"
     ]
    },
    {
     "name": "stdout",
     "output_type": "stream",
     "text": [
      "multi hist hist 執行時間:0.0157778263092041\n",
      "multi hist RMSE 執行時間:0.00017905235290527344\n",
      "multi hist 執行時間:0.016217947006225586\n"
     ]
    },
    {
     "name": "stderr",
     "output_type": "stream",
     "text": [
      "總進度:  34%|███▍      | 339/1000 [00:19<00:37, 17.78it/s]"
     ]
    },
    {
     "name": "stdout",
     "output_type": "stream",
     "text": [
      "multi hist hist 執行時間:0.015187740325927734\n",
      "multi hist RMSE 執行時間:0.0001914501190185547\n",
      "multi hist 執行時間:0.015633583068847656\n",
      "multi hist hist 執行時間:0.015018939971923828\n",
      "multi hist RMSE 執行時間:0.00012350082397460938\n",
      "multi hist 執行時間:0.015212774276733398\n",
      "multi hist hist 執行時間:0.015509605407714844\n",
      "multi hist RMSE 執行時間:0.00010895729064941406\n",
      "multi hist 執行時間:0.015699148178100586\n"
     ]
    },
    {
     "name": "stderr",
     "output_type": "stream",
     "text": [
      "總進度:  34%|███▍      | 341/1000 [00:19<00:36, 17.83it/s]"
     ]
    },
    {
     "name": "stdout",
     "output_type": "stream",
     "text": [
      "multi hist hist 執行時間:0.016643285751342773\n",
      "multi hist RMSE 執行時間:0.0003032684326171875\n",
      "multi hist 執行時間:0.017099618911743164\n"
     ]
    },
    {
     "name": "stderr",
     "output_type": "stream",
     "text": [
      "總進度:  34%|███▍      | 343/1000 [00:19<00:36, 17.87it/s]"
     ]
    },
    {
     "name": "stdout",
     "output_type": "stream",
     "text": [
      "multi hist hist 執行時間:0.01578497886657715\n",
      "multi hist RMSE 執行時間:0.00015497207641601562\n",
      "multi hist 執行時間:0.016305208206176758\n",
      "multi hist hist 執行時間:0.015282630920410156\n",
      "multi hist RMSE 執行時間:0.00010561943054199219\n",
      "multi hist 執行時間:0.015457391738891602\n",
      "multi hist hist 執行時間:0.01637125015258789\n",
      "multi hist RMSE 執行時間:0.00011372566223144531\n",
      "multi hist 執行時間:0.016559123992919922\n"
     ]
    },
    {
     "name": "stderr",
     "output_type": "stream",
     "text": [
      "總進度:  34%|███▍      | 345/1000 [00:19<00:36, 17.90it/s]"
     ]
    },
    {
     "name": "stdout",
     "output_type": "stream",
     "text": [
      "multi hist hist 執行時間:0.014305353164672852\n",
      "multi hist RMSE 執行時間:0.00018358230590820312\n",
      "multi hist 執行時間:0.014741897583007812\n"
     ]
    },
    {
     "name": "stderr",
     "output_type": "stream",
     "text": [
      "總進度:  35%|███▍      | 347/1000 [00:19<00:37, 17.52it/s]"
     ]
    },
    {
     "name": "stdout",
     "output_type": "stream",
     "text": [
      "multi hist hist 執行時間:0.01565694808959961\n",
      "multi hist RMSE 執行時間:0.0001964569091796875\n",
      "multi hist 執行時間:0.01611185073852539\n",
      "multi hist hist 執行時間:0.015130281448364258\n",
      "multi hist RMSE 執行時間:0.00011754035949707031\n",
      "multi hist 執行時間:0.015318632125854492\n",
      "multi hist hist 執行時間:0.015405893325805664\n",
      "multi hist RMSE 執行時間:0.00013136863708496094\n",
      "multi hist 執行時間:0.015612125396728516\n"
     ]
    },
    {
     "name": "stderr",
     "output_type": "stream",
     "text": [
      "總進度:  35%|███▍      | 349/1000 [00:19<00:36, 17.74it/s]"
     ]
    },
    {
     "name": "stdout",
     "output_type": "stream",
     "text": [
      "multi hist hist 執行時間:0.015084266662597656\n",
      "multi hist RMSE 執行時間:0.00020432472229003906\n",
      "multi hist 執行時間:0.015659332275390625\n"
     ]
    },
    {
     "name": "stderr",
     "output_type": "stream",
     "text": [
      "總進度:  35%|███▌      | 351/1000 [00:20<00:36, 17.57it/s]"
     ]
    },
    {
     "name": "stdout",
     "output_type": "stream",
     "text": [
      "multi hist hist 執行時間:0.01783919334411621\n",
      "multi hist RMSE 執行時間:0.0005624294281005859\n",
      "multi hist 執行時間:0.018658161163330078\n",
      "multi hist hist 執行時間:0.015539169311523438\n",
      "multi hist RMSE 執行時間:0.00010752677917480469\n",
      "multi hist 執行時間:0.01571369171142578\n",
      "multi hist hist 執行時間:0.015058040618896484\n",
      "multi hist RMSE 執行時間:0.00010228157043457031\n",
      "multi hist 執行時間:0.015230178833007812\n"
     ]
    },
    {
     "name": "stderr",
     "output_type": "stream",
     "text": [
      "總進度:  35%|███▌      | 353/1000 [00:20<00:36, 17.74it/s]"
     ]
    },
    {
     "name": "stdout",
     "output_type": "stream",
     "text": [
      "multi hist hist 執行時間:0.015147686004638672\n",
      "multi hist RMSE 執行時間:0.0001518726348876953\n",
      "multi hist 執行時間:0.01563239097595215\n"
     ]
    },
    {
     "name": "stderr",
     "output_type": "stream",
     "text": [
      "總進度:  36%|███▌      | 355/1000 [00:20<00:36, 17.76it/s]"
     ]
    },
    {
     "name": "stdout",
     "output_type": "stream",
     "text": [
      "multi hist hist 執行時間:0.015251398086547852\n",
      "multi hist RMSE 執行時間:0.00021648406982421875\n",
      "multi hist 執行時間:0.015759944915771484\n",
      "multi hist hist 執行時間:0.014954328536987305\n",
      "multi hist RMSE 執行時間:0.0001323223114013672\n",
      "multi hist 執行時間:0.015168428421020508\n",
      "multi hist hist 執行時間:0.015178680419921875\n",
      "multi hist RMSE 執行時間:0.00011587142944335938\n",
      "multi hist 執行時間:0.015369653701782227\n"
     ]
    },
    {
     "name": "stderr",
     "output_type": "stream",
     "text": [
      "總進度:  36%|███▌      | 357/1000 [00:20<00:36, 17.68it/s]"
     ]
    },
    {
     "name": "stdout",
     "output_type": "stream",
     "text": [
      "multi hist hist 執行時間:0.014875411987304688\n",
      "multi hist RMSE 執行時間:0.0001609325408935547\n",
      "multi hist 執行時間:0.01527547836303711\n"
     ]
    },
    {
     "name": "stderr",
     "output_type": "stream",
     "text": [
      "總進度:  36%|███▌      | 359/1000 [00:20<00:36, 17.68it/s]"
     ]
    },
    {
     "name": "stdout",
     "output_type": "stream",
     "text": [
      "multi hist hist 執行時間:0.015039205551147461\n",
      "multi hist RMSE 執行時間:0.00022149085998535156\n",
      "multi hist 執行時間:0.015561819076538086\n",
      "multi hist hist 執行時間:0.015064001083374023\n",
      "multi hist RMSE 執行時間:0.0001010894775390625\n",
      "multi hist 執行時間:0.01523280143737793\n",
      "multi hist hist 執行時間:0.015987396240234375\n",
      "multi hist RMSE 執行時間:0.00012254714965820312\n",
      "multi hist 執行時間:0.016190767288208008\n"
     ]
    },
    {
     "name": "stderr",
     "output_type": "stream",
     "text": [
      "總進度:  36%|███▌      | 361/1000 [00:20<00:36, 17.43it/s]"
     ]
    },
    {
     "name": "stdout",
     "output_type": "stream",
     "text": [
      "multi hist hist 執行時間:0.015414953231811523\n",
      "multi hist RMSE 執行時間:0.0002930164337158203\n",
      "multi hist 執行時間:0.015854597091674805\n"
     ]
    },
    {
     "name": "stderr",
     "output_type": "stream",
     "text": [
      "總進度:  36%|███▋      | 363/1000 [00:20<00:36, 17.51it/s]"
     ]
    },
    {
     "name": "stdout",
     "output_type": "stream",
     "text": [
      "multi hist hist 執行時間:0.015542745590209961\n",
      "multi hist RMSE 執行時間:0.00019669532775878906\n",
      "multi hist 執行時間:0.016043424606323242\n",
      "multi hist hist 執行時間:0.015027761459350586\n",
      "multi hist RMSE 執行時間:0.0001010894775390625\n",
      "multi hist 執行時間:0.01519632339477539\n",
      "multi hist hist 執行時間:0.015307903289794922\n",
      "multi hist RMSE 執行時間:0.00011277198791503906\n",
      "multi hist 執行時間:0.015493392944335938\n"
     ]
    },
    {
     "name": "stderr",
     "output_type": "stream",
     "text": [
      "總進度:  36%|███▋      | 365/1000 [00:20<00:36, 17.55it/s]"
     ]
    },
    {
     "name": "stdout",
     "output_type": "stream",
     "text": [
      "multi hist hist 執行時間:0.015354633331298828\n",
      "multi hist RMSE 執行時間:0.0001461505889892578\n",
      "multi hist 執行時間:0.01575756072998047\n"
     ]
    },
    {
     "name": "stderr",
     "output_type": "stream",
     "text": [
      "總進度:  37%|███▋      | 367/1000 [00:20<00:35, 17.61it/s]"
     ]
    },
    {
     "name": "stdout",
     "output_type": "stream",
     "text": [
      "multi hist hist 執行時間:0.015506505966186523\n",
      "multi hist RMSE 執行時間:0.00019359588623046875\n",
      "multi hist 執行時間:0.01597428321838379\n",
      "multi hist hist 執行時間:0.01571369171142578\n",
      "multi hist RMSE 執行時間:0.00010633468627929688\n",
      "multi hist 執行時間:0.01589035987854004\n",
      "multi hist hist 執行時間:0.01517796516418457\n",
      "multi hist RMSE 執行時間:0.00011038780212402344\n",
      "multi hist 執行時間:0.015364408493041992\n"
     ]
    },
    {
     "name": "stderr",
     "output_type": "stream",
     "text": [
      "總進度:  37%|███▋      | 369/1000 [00:21<00:35, 17.71it/s]"
     ]
    },
    {
     "name": "stdout",
     "output_type": "stream",
     "text": [
      "multi hist hist 執行時間:0.014763832092285156\n",
      "multi hist RMSE 執行時間:0.00025725364685058594\n",
      "multi hist 執行時間:0.01527714729309082\n"
     ]
    },
    {
     "name": "stderr",
     "output_type": "stream",
     "text": [
      "總進度:  37%|███▋      | 371/1000 [00:21<00:35, 17.63it/s]"
     ]
    },
    {
     "name": "stdout",
     "output_type": "stream",
     "text": [
      "multi hist hist 執行時間:0.015973567962646484\n",
      "multi hist RMSE 執行時間:0.0006597042083740234\n",
      "multi hist 執行時間:0.016858816146850586\n",
      "multi hist hist 執行時間:0.015408992767333984\n",
      "multi hist RMSE 執行時間:0.00010061264038085938\n",
      "multi hist 執行時間:0.015575408935546875\n",
      "multi hist hist 執行時間:0.014856576919555664\n",
      "multi hist RMSE 執行時間:0.00010800361633300781\n",
      "multi hist 執行時間:0.015032529830932617\n"
     ]
    },
    {
     "name": "stderr",
     "output_type": "stream",
     "text": [
      "總進度:  37%|███▋      | 373/1000 [00:21<00:35, 17.72it/s]"
     ]
    },
    {
     "name": "stdout",
     "output_type": "stream",
     "text": [
      "multi hist hist 執行時間:0.015424489974975586\n",
      "multi hist RMSE 執行時間:0.0003910064697265625\n",
      "multi hist 執行時間:0.01607346534729004\n"
     ]
    },
    {
     "name": "stderr",
     "output_type": "stream",
     "text": [
      "總進度:  38%|███▊      | 375/1000 [00:21<00:36, 17.32it/s]"
     ]
    },
    {
     "name": "stdout",
     "output_type": "stream",
     "text": [
      "multi hist hist 執行時間:0.015630245208740234\n",
      "multi hist RMSE 執行時間:0.0004584789276123047\n",
      "multi hist 執行時間:0.016265869140625\n",
      "multi hist hist 執行時間:0.016411781311035156\n",
      "multi hist RMSE 執行時間:0.00011396408081054688\n",
      "multi hist 執行時間:0.016600608825683594\n",
      "multi hist hist 執行時間:0.014535903930664062\n",
      "multi hist RMSE 執行時間:9.846687316894531e-05\n",
      "multi hist 執行時間:0.014701604843139648\n"
     ]
    },
    {
     "name": "stderr",
     "output_type": "stream",
     "text": [
      "總進度:  38%|███▊      | 377/1000 [00:21<00:35, 17.38it/s]"
     ]
    },
    {
     "name": "stdout",
     "output_type": "stream",
     "text": [
      "multi hist hist 執行時間:0.01591205596923828\n",
      "multi hist RMSE 執行時間:0.00014328956604003906\n",
      "multi hist 執行時間:0.016329526901245117\n"
     ]
    },
    {
     "name": "stderr",
     "output_type": "stream",
     "text": [
      "總進度:  38%|███▊      | 379/1000 [00:21<00:35, 17.41it/s]"
     ]
    },
    {
     "name": "stdout",
     "output_type": "stream",
     "text": [
      "multi hist hist 執行時間:0.015085458755493164\n",
      "multi hist RMSE 執行時間:0.00013065338134765625\n",
      "multi hist 執行時間:0.015476703643798828\n",
      "multi hist hist 執行時間:0.0152435302734375\n",
      "multi hist RMSE 執行時間:0.00010800361633300781\n",
      "multi hist 執行時間:0.015422344207763672\n",
      "multi hist hist 執行時間:0.015202760696411133\n",
      "multi hist RMSE 執行時間:0.00010514259338378906\n",
      "multi hist 執行時間:0.01537632942199707\n"
     ]
    },
    {
     "name": "stderr",
     "output_type": "stream",
     "text": [
      "總進度:  38%|███▊      | 381/1000 [00:21<00:35, 17.54it/s]"
     ]
    },
    {
     "name": "stdout",
     "output_type": "stream",
     "text": [
      "multi hist hist 執行時間:0.015563726425170898\n",
      "multi hist RMSE 執行時間:0.00015807151794433594\n",
      "multi hist 執行時間:0.015961885452270508\n"
     ]
    },
    {
     "name": "stderr",
     "output_type": "stream",
     "text": [
      "總進度:  38%|███▊      | 383/1000 [00:21<00:35, 17.61it/s]"
     ]
    },
    {
     "name": "stdout",
     "output_type": "stream",
     "text": [
      "multi hist hist 執行時間:0.015384197235107422\n",
      "multi hist RMSE 執行時間:0.0001480579376220703\n",
      "multi hist 執行時間:0.01579761505126953\n",
      "multi hist hist 執行時間:0.01652383804321289\n",
      "multi hist RMSE 執行時間:0.00014209747314453125\n",
      "multi hist 執行時間:0.01674818992614746\n",
      "multi hist hist 執行時間:0.015201330184936523\n",
      "multi hist RMSE 執行時間:0.00011706352233886719\n",
      "multi hist 執行時間:0.015390872955322266\n"
     ]
    },
    {
     "name": "stderr",
     "output_type": "stream",
     "text": [
      "總進度:  38%|███▊      | 385/1000 [00:21<00:34, 17.65it/s]"
     ]
    },
    {
     "name": "stdout",
     "output_type": "stream",
     "text": [
      "multi hist hist 執行時間:0.015392303466796875\n",
      "multi hist RMSE 執行時間:0.00031113624572753906\n",
      "multi hist 執行時間:0.015868663787841797\n"
     ]
    },
    {
     "name": "stderr",
     "output_type": "stream",
     "text": [
      "總進度:  39%|███▊      | 387/1000 [00:22<00:34, 17.54it/s]"
     ]
    },
    {
     "name": "stdout",
     "output_type": "stream",
     "text": [
      "multi hist hist 執行時間:0.015197277069091797\n",
      "multi hist RMSE 執行時間:0.00013947486877441406\n",
      "multi hist 執行時間:0.015592336654663086\n",
      "multi hist hist 執行時間:0.01659989356994629\n",
      "multi hist RMSE 執行時間:0.0001316070556640625\n",
      "multi hist 執行時間:0.016814708709716797\n",
      "multi hist hist 執行時間:0.015429019927978516\n",
      "multi hist RMSE 執行時間:0.0001220703125\n",
      "multi hist 執行時間:0.01562809944152832\n"
     ]
    },
    {
     "name": "stderr",
     "output_type": "stream",
     "text": [
      "總進度:  39%|███▉      | 389/1000 [00:22<00:34, 17.47it/s]"
     ]
    },
    {
     "name": "stdout",
     "output_type": "stream",
     "text": [
      "multi hist hist 執行時間:0.0174710750579834\n",
      "multi hist RMSE 執行時間:0.0001888275146484375\n",
      "multi hist 執行時間:0.017957448959350586\n"
     ]
    },
    {
     "name": "stderr",
     "output_type": "stream",
     "text": [
      "總進度:  39%|███▉      | 391/1000 [00:22<00:35, 16.95it/s]"
     ]
    },
    {
     "name": "stdout",
     "output_type": "stream",
     "text": [
      "multi hist hist 執行時間:0.015146970748901367\n",
      "multi hist RMSE 執行時間:0.00036454200744628906\n",
      "multi hist 執行時間:0.01568913459777832\n",
      "multi hist hist 執行時間:0.014088630676269531\n",
      "multi hist RMSE 執行時間:0.00010371208190917969\n",
      "multi hist 執行時間:0.014264345169067383\n",
      "multi hist hist 執行時間:0.01537632942199707\n",
      "multi hist RMSE 執行時間:0.00010776519775390625\n",
      "multi hist 執行時間:0.015555620193481445\n"
     ]
    },
    {
     "name": "stderr",
     "output_type": "stream",
     "text": [
      "總進度:  39%|███▉      | 393/1000 [00:22<00:35, 17.20it/s]"
     ]
    },
    {
     "name": "stdout",
     "output_type": "stream",
     "text": [
      "multi hist hist 執行時間:0.015620708465576172\n",
      "multi hist RMSE 執行時間:0.00028133392333984375\n",
      "multi hist 執行時間:0.016057968139648438\n"
     ]
    },
    {
     "name": "stderr",
     "output_type": "stream",
     "text": [
      "總進度:  40%|███▉      | 395/1000 [00:22<00:35, 17.23it/s]"
     ]
    },
    {
     "name": "stdout",
     "output_type": "stream",
     "text": [
      "multi hist hist 執行時間:0.015027046203613281\n",
      "multi hist RMSE 執行時間:0.00015926361083984375\n",
      "multi hist 執行時間:0.015470504760742188\n",
      "multi hist hist 執行時間:0.01618170738220215\n",
      "multi hist RMSE 執行時間:0.00011086463928222656\n",
      "multi hist 執行時間:0.016361713409423828\n",
      "multi hist hist 執行時間:0.015224933624267578\n",
      "multi hist RMSE 執行時間:0.00011324882507324219\n",
      "multi hist 執行時間:0.015411138534545898\n"
     ]
    },
    {
     "name": "stderr",
     "output_type": "stream",
     "text": [
      "總進度:  40%|███▉      | 397/1000 [00:22<00:34, 17.34it/s]"
     ]
    },
    {
     "name": "stdout",
     "output_type": "stream",
     "text": [
      "multi hist hist 執行時間:0.015835046768188477\n",
      "multi hist RMSE 執行時間:0.0003693103790283203\n",
      "multi hist 執行時間:0.016374826431274414\n"
     ]
    },
    {
     "name": "stderr",
     "output_type": "stream",
     "text": [
      "總進度:  40%|███▉      | 399/1000 [00:22<00:34, 17.36it/s]"
     ]
    },
    {
     "name": "stdout",
     "output_type": "stream",
     "text": [
      "multi hist hist 執行時間:0.015540599822998047\n",
      "multi hist RMSE 執行時間:0.00016236305236816406\n",
      "multi hist 執行時間:0.015984535217285156\n",
      "multi hist hist 執行時間:0.016246318817138672\n",
      "multi hist RMSE 執行時間:0.00010657310485839844\n",
      "multi hist 執行時間:0.016423940658569336\n",
      "multi hist hist 執行時間:0.016431331634521484\n",
      "multi hist RMSE 執行時間:0.00011301040649414062\n",
      "multi hist 執行時間:0.016623258590698242\n"
     ]
    },
    {
     "name": "stderr",
     "output_type": "stream",
     "text": [
      "總進度:  40%|████      | 401/1000 [00:22<00:34, 17.39it/s]"
     ]
    },
    {
     "name": "stdout",
     "output_type": "stream",
     "text": [
      "multi hist hist 執行時間:0.01488351821899414\n",
      "multi hist RMSE 執行時間:0.00014662742614746094\n",
      "multi hist 執行時間:0.015297889709472656\n"
     ]
    },
    {
     "name": "stderr",
     "output_type": "stream",
     "text": [
      "總進度:  40%|████      | 403/1000 [00:22<00:34, 17.47it/s]"
     ]
    },
    {
     "name": "stdout",
     "output_type": "stream",
     "text": [
      "multi hist hist 執行時間:0.015617609024047852\n",
      "multi hist RMSE 執行時間:0.0001690387725830078\n",
      "multi hist 執行時間:0.015936613082885742\n",
      "multi hist hist 執行時間:0.014685392379760742\n",
      "multi hist RMSE 執行時間:0.0001087188720703125\n",
      "multi hist 執行時間:0.014864444732666016\n",
      "multi hist hist 執行時間:0.016014575958251953\n",
      "multi hist RMSE 執行時間:0.00011396408081054688\n",
      "multi hist 執行時間:0.016205310821533203\n"
     ]
    },
    {
     "name": "stderr",
     "output_type": "stream",
     "text": [
      "總進度:  40%|████      | 405/1000 [00:23<00:34, 17.47it/s]"
     ]
    },
    {
     "name": "stdout",
     "output_type": "stream",
     "text": [
      "multi hist hist 執行時間:0.014909982681274414\n",
      "multi hist RMSE 執行時間:0.00013208389282226562\n",
      "multi hist 執行時間:0.015158891677856445\n"
     ]
    },
    {
     "name": "stderr",
     "output_type": "stream",
     "text": [
      "總進度:  41%|████      | 407/1000 [00:23<00:33, 17.46it/s]"
     ]
    },
    {
     "name": "stdout",
     "output_type": "stream",
     "text": [
      "multi hist hist 執行時間:0.015527963638305664\n",
      "multi hist RMSE 執行時間:0.0006358623504638672\n",
      "multi hist 執行時間:0.016417503356933594\n",
      "multi hist hist 執行時間:0.015105009078979492\n",
      "multi hist RMSE 執行時間:0.00011181831359863281\n",
      "multi hist 執行時間:0.015284538269042969\n",
      "multi hist hist 執行時間:0.014919042587280273\n",
      "multi hist RMSE 執行時間:0.00011920928955078125\n",
      "multi hist 執行時間:0.015111684799194336\n"
     ]
    },
    {
     "name": "stderr",
     "output_type": "stream",
     "text": [
      "總進度:  41%|████      | 409/1000 [00:23<00:33, 17.57it/s]"
     ]
    },
    {
     "name": "stdout",
     "output_type": "stream",
     "text": [
      "multi hist hist 執行時間:0.014998435974121094\n",
      "multi hist RMSE 執行時間:0.00016260147094726562\n",
      "multi hist 執行時間:0.015450239181518555\n"
     ]
    },
    {
     "name": "stderr",
     "output_type": "stream",
     "text": [
      "總進度:  41%|████      | 411/1000 [00:23<00:33, 17.71it/s]"
     ]
    },
    {
     "name": "stdout",
     "output_type": "stream",
     "text": [
      "multi hist hist 執行時間:0.015238523483276367\n",
      "multi hist RMSE 執行時間:0.00019168853759765625\n",
      "multi hist 執行時間:0.0156705379486084\n",
      "multi hist hist 執行時間:0.015065193176269531\n",
      "multi hist RMSE 執行時間:0.00010657310485839844\n",
      "multi hist 執行時間:0.015239715576171875\n",
      "multi hist hist 執行時間:0.015006303787231445\n",
      "multi hist RMSE 執行時間:0.0001087188720703125\n",
      "multi hist 執行時間:0.015191316604614258\n"
     ]
    },
    {
     "name": "stderr",
     "output_type": "stream",
     "text": [
      "總進度:  41%|████▏     | 413/1000 [00:23<00:32, 17.91it/s]"
     ]
    },
    {
     "name": "stdout",
     "output_type": "stream",
     "text": [
      "multi hist hist 執行時間:0.014765262603759766\n",
      "multi hist RMSE 執行時間:0.00012993812561035156\n",
      "multi hist 執行時間:0.015105962753295898\n"
     ]
    },
    {
     "name": "stderr",
     "output_type": "stream",
     "text": [
      "總進度:  42%|████▏     | 415/1000 [00:23<00:32, 17.87it/s]"
     ]
    },
    {
     "name": "stdout",
     "output_type": "stream",
     "text": [
      "multi hist hist 執行時間:0.014634370803833008\n",
      "multi hist RMSE 執行時間:0.00014448165893554688\n",
      "multi hist 執行時間:0.015021800994873047\n",
      "multi hist hist 執行時間:0.01526188850402832\n",
      "multi hist RMSE 執行時間:0.00010991096496582031\n",
      "multi hist 執行時間:0.015440702438354492\n",
      "multi hist hist 執行時間:0.01547861099243164\n",
      "multi hist RMSE 執行時間:0.00011420249938964844\n",
      "multi hist 執行時間:0.015662431716918945\n"
     ]
    },
    {
     "name": "stderr",
     "output_type": "stream",
     "text": [
      "總進度:  42%|████▏     | 417/1000 [00:23<00:32, 17.84it/s]"
     ]
    },
    {
     "name": "stdout",
     "output_type": "stream",
     "text": [
      "multi hist hist 執行時間:0.015262365341186523\n",
      "multi hist RMSE 執行時間:0.000152587890625\n",
      "multi hist 執行時間:0.01568746566772461\n"
     ]
    },
    {
     "name": "stderr",
     "output_type": "stream",
     "text": [
      "總進度:  42%|████▏     | 419/1000 [00:23<00:32, 17.75it/s]"
     ]
    },
    {
     "name": "stdout",
     "output_type": "stream",
     "text": [
      "multi hist hist 執行時間:0.015113353729248047\n",
      "multi hist RMSE 執行時間:0.00014400482177734375\n",
      "multi hist 執行時間:0.015535831451416016\n",
      "multi hist hist 執行時間:0.015902996063232422\n",
      "multi hist RMSE 執行時間:0.0001232624053955078\n",
      "multi hist 執行時間:0.016098499298095703\n",
      "multi hist hist 執行時間:0.015445709228515625\n",
      "multi hist RMSE 執行時間:0.00011587142944335938\n",
      "multi hist 執行時間:0.015639781951904297\n"
     ]
    },
    {
     "name": "stderr",
     "output_type": "stream",
     "text": [
      "總進度:  42%|████▏     | 421/1000 [00:23<00:32, 17.85it/s]"
     ]
    },
    {
     "name": "stdout",
     "output_type": "stream",
     "text": [
      "multi hist hist 執行時間:0.014816045761108398\n",
      "multi hist RMSE 執行時間:0.00019240379333496094\n",
      "multi hist 執行時間:0.015258312225341797\n"
     ]
    },
    {
     "name": "stderr",
     "output_type": "stream",
     "text": [
      "總進度:  42%|████▏     | 423/1000 [00:24<00:32, 17.74it/s]"
     ]
    },
    {
     "name": "stdout",
     "output_type": "stream",
     "text": [
      "multi hist hist 執行時間:0.015158414840698242\n",
      "multi hist RMSE 執行時間:0.0001304149627685547\n",
      "multi hist 執行時間:0.015524864196777344\n",
      "multi hist hist 執行時間:0.016498327255249023\n",
      "multi hist RMSE 執行時間:0.0002377033233642578\n",
      "multi hist 執行時間:0.016860008239746094\n",
      "multi hist hist 執行時間:0.015111684799194336\n",
      "multi hist RMSE 執行時間:0.0001125335693359375\n",
      "multi hist 執行時間:0.015300273895263672\n"
     ]
    },
    {
     "name": "stderr",
     "output_type": "stream",
     "text": [
      "總進度:  42%|████▎     | 425/1000 [00:24<00:32, 17.79it/s]"
     ]
    },
    {
     "name": "stdout",
     "output_type": "stream",
     "text": [
      "multi hist hist 執行時間:0.015266180038452148\n",
      "multi hist RMSE 執行時間:0.0001666545867919922\n",
      "multi hist 執行時間:0.0156552791595459\n"
     ]
    },
    {
     "name": "stderr",
     "output_type": "stream",
     "text": [
      "總進度:  43%|████▎     | 427/1000 [00:24<00:32, 17.85it/s]"
     ]
    },
    {
     "name": "stdout",
     "output_type": "stream",
     "text": [
      "multi hist hist 執行時間:0.015134811401367188\n",
      "multi hist RMSE 執行時間:0.0001494884490966797\n",
      "multi hist 執行時間:0.015549182891845703\n",
      "multi hist hist 執行時間:0.01642298698425293\n",
      "multi hist RMSE 執行時間:0.00011277198791503906\n",
      "multi hist 執行時間:0.016608238220214844\n",
      "multi hist hist 執行時間:0.015022039413452148\n",
      "multi hist RMSE 執行時間:0.00010848045349121094\n",
      "multi hist 執行時間:0.015203237533569336\n"
     ]
    },
    {
     "name": "stderr",
     "output_type": "stream",
     "text": [
      "總進度:  43%|████▎     | 429/1000 [00:24<00:31, 17.96it/s]"
     ]
    },
    {
     "name": "stdout",
     "output_type": "stream",
     "text": [
      "multi hist hist 執行時間:0.015449762344360352\n",
      "multi hist RMSE 執行時間:0.0003085136413574219\n",
      "multi hist 執行時間:0.015902042388916016\n"
     ]
    },
    {
     "name": "stderr",
     "output_type": "stream",
     "text": [
      "總進度:  43%|████▎     | 431/1000 [00:24<00:31, 17.88it/s]"
     ]
    },
    {
     "name": "stdout",
     "output_type": "stream",
     "text": [
      "multi hist hist 執行時間:0.01577162742614746\n",
      "multi hist RMSE 執行時間:0.00034308433532714844\n",
      "multi hist 執行時間:0.016278982162475586\n",
      "multi hist hist 執行時間:0.015537500381469727\n",
      "multi hist RMSE 執行時間:0.00011610984802246094\n",
      "multi hist 執行時間:0.015725374221801758\n",
      "multi hist hist 執行時間:0.015668392181396484\n",
      "multi hist RMSE 執行時間:0.00012159347534179688\n",
      "multi hist 執行時間:0.01586627960205078\n"
     ]
    },
    {
     "name": "stderr",
     "output_type": "stream",
     "text": [
      "總進度:  43%|████▎     | 433/1000 [00:24<00:31, 17.92it/s]"
     ]
    },
    {
     "name": "stdout",
     "output_type": "stream",
     "text": [
      "multi hist hist 執行時間:0.015271902084350586\n",
      "multi hist RMSE 執行時間:0.0001938343048095703\n",
      "multi hist 執行時間:0.015709400177001953\n"
     ]
    },
    {
     "name": "stderr",
     "output_type": "stream",
     "text": [
      "總進度:  44%|████▎     | 435/1000 [00:24<00:32, 17.63it/s]"
     ]
    },
    {
     "name": "stdout",
     "output_type": "stream",
     "text": [
      "multi hist hist 執行時間:0.015069723129272461\n",
      "multi hist RMSE 執行時間:0.0003466606140136719\n",
      "multi hist 執行時間:0.015578508377075195\n",
      "multi hist hist 執行時間:0.016382932662963867\n",
      "multi hist RMSE 執行時間:0.0001323223114013672\n",
      "multi hist 執行時間:0.01659703254699707\n",
      "multi hist hist 執行時間:0.017630577087402344\n",
      "multi hist RMSE 執行時間:0.0002830028533935547\n",
      "multi hist 執行時間:0.01806163787841797\n"
     ]
    },
    {
     "name": "stderr",
     "output_type": "stream",
     "text": [
      "總進度:  44%|████▎     | 437/1000 [00:24<00:32, 17.57it/s]"
     ]
    },
    {
     "name": "stdout",
     "output_type": "stream",
     "text": [
      "multi hist hist 執行時間:0.016083240509033203\n",
      "multi hist RMSE 執行時間:0.00033974647521972656\n",
      "multi hist 執行時間:0.016579389572143555\n"
     ]
    },
    {
     "name": "stderr",
     "output_type": "stream",
     "text": [
      "總進度:  44%|████▍     | 439/1000 [00:25<00:32, 17.48it/s]"
     ]
    },
    {
     "name": "stdout",
     "output_type": "stream",
     "text": [
      "multi hist hist 執行時間:0.015348434448242188\n",
      "multi hist RMSE 執行時間:0.0005655288696289062\n",
      "multi hist 執行時間:0.01611018180847168\n",
      "multi hist hist 執行時間:0.01515650749206543\n",
      "multi hist RMSE 執行時間:0.00012755393981933594\n",
      "multi hist 執行時間:0.015366077423095703\n",
      "multi hist hist 執行時間:0.015279054641723633\n",
      "multi hist RMSE 執行時間:0.0001480579376220703\n",
      "multi hist 執行時間:0.015520095825195312\n"
     ]
    },
    {
     "name": "stderr",
     "output_type": "stream",
     "text": [
      "總進度:  44%|████▍     | 441/1000 [00:25<00:31, 17.51it/s]"
     ]
    },
    {
     "name": "stdout",
     "output_type": "stream",
     "text": [
      "multi hist hist 執行時間:0.015579700469970703\n",
      "multi hist RMSE 執行時間:0.0003833770751953125\n",
      "multi hist 執行時間:0.016131877899169922\n"
     ]
    },
    {
     "name": "stderr",
     "output_type": "stream",
     "text": [
      "總進度:  44%|████▍     | 443/1000 [00:25<00:32, 16.92it/s]"
     ]
    },
    {
     "name": "stdout",
     "output_type": "stream",
     "text": [
      "multi hist hist 執行時間:0.0182192325592041\n",
      "multi hist RMSE 執行時間:0.00032711029052734375\n",
      "multi hist 執行時間:0.01910400390625\n",
      "multi hist hist 執行時間:0.015568733215332031\n",
      "multi hist RMSE 執行時間:0.00011706352233886719\n",
      "multi hist 執行時間:0.01576089859008789\n",
      "multi hist hist 執行時間:0.015606403350830078\n",
      "multi hist RMSE 執行時間:0.00011157989501953125\n",
      "multi hist 執行時間:0.015788793563842773\n"
     ]
    },
    {
     "name": "stderr",
     "output_type": "stream",
     "text": [
      "總進度:  44%|████▍     | 445/1000 [00:25<00:32, 17.16it/s]"
     ]
    },
    {
     "name": "stdout",
     "output_type": "stream",
     "text": [
      "multi hist hist 執行時間:0.015432596206665039\n",
      "multi hist RMSE 執行時間:0.0004012584686279297\n",
      "multi hist 執行時間:0.016007661819458008\n"
     ]
    },
    {
     "name": "stderr",
     "output_type": "stream",
     "text": [
      "總進度:  45%|████▍     | 447/1000 [00:25<00:32, 16.79it/s]"
     ]
    },
    {
     "name": "stdout",
     "output_type": "stream",
     "text": [
      "multi hist hist 執行時間:0.015799283981323242\n",
      "multi hist RMSE 執行時間:0.0001926422119140625\n",
      "multi hist 執行時間:0.016323089599609375\n",
      "multi hist hist 執行時間:0.016495466232299805\n",
      "multi hist RMSE 執行時間:0.00011777877807617188\n",
      "multi hist 執行時間:0.01668691635131836\n",
      "multi hist hist 執行時間:0.01642322540283203\n",
      "multi hist RMSE 執行時間:0.00013136863708496094\n",
      "multi hist 執行時間:0.01663351058959961\n"
     ]
    },
    {
     "name": "stderr",
     "output_type": "stream",
     "text": [
      "總進度:  45%|████▍     | 449/1000 [00:25<00:32, 17.16it/s]"
     ]
    },
    {
     "name": "stdout",
     "output_type": "stream",
     "text": [
      "multi hist hist 執行時間:0.014446735382080078\n",
      "multi hist RMSE 執行時間:0.0003733634948730469\n",
      "multi hist 執行時間:0.01502680778503418\n"
     ]
    },
    {
     "name": "stderr",
     "output_type": "stream",
     "text": [
      "總進度:  45%|████▌     | 451/1000 [00:25<00:31, 17.27it/s]"
     ]
    },
    {
     "name": "stdout",
     "output_type": "stream",
     "text": [
      "multi hist hist 執行時間:0.015108108520507812\n",
      "multi hist RMSE 執行時間:0.00016307830810546875\n",
      "multi hist 執行時間:0.015572786331176758\n",
      "multi hist hist 執行時間:0.01479339599609375\n",
      "multi hist RMSE 執行時間:0.00010085105895996094\n",
      "multi hist 執行時間:0.014957904815673828\n",
      "multi hist hist 執行時間:0.015366792678833008\n",
      "multi hist RMSE 執行時間:0.00011539459228515625\n",
      "multi hist 執行時間:0.015554189682006836\n"
     ]
    },
    {
     "name": "stderr",
     "output_type": "stream",
     "text": [
      "總進度:  45%|████▌     | 453/1000 [00:25<00:31, 17.42it/s]"
     ]
    },
    {
     "name": "stdout",
     "output_type": "stream",
     "text": [
      "multi hist hist 執行時間:0.014852762222290039\n",
      "multi hist RMSE 執行時間:0.0001316070556640625\n",
      "multi hist 執行時間:0.015196800231933594\n"
     ]
    },
    {
     "name": "stderr",
     "output_type": "stream",
     "text": [
      "總進度:  46%|████▌     | 455/1000 [00:25<00:31, 17.48it/s]"
     ]
    },
    {
     "name": "stdout",
     "output_type": "stream",
     "text": [
      "multi hist hist 執行時間:0.015039443969726562\n",
      "multi hist RMSE 執行時間:0.0004551410675048828\n",
      "multi hist 執行時間:0.015749692916870117\n",
      "multi hist hist 執行時間:0.01472163200378418\n",
      "multi hist RMSE 執行時間:0.00010752677917480469\n",
      "multi hist 執行時間:0.014897584915161133\n",
      "multi hist hist 執行時間:0.015420913696289062\n",
      "multi hist RMSE 執行時間:0.0001087188720703125\n",
      "multi hist 執行時間:0.015599489212036133\n"
     ]
    },
    {
     "name": "stderr",
     "output_type": "stream",
     "text": [
      "總進度:  46%|████▌     | 457/1000 [00:26<00:30, 17.62it/s]"
     ]
    },
    {
     "name": "stdout",
     "output_type": "stream",
     "text": [
      "multi hist hist 執行時間:0.015059947967529297\n",
      "multi hist RMSE 執行時間:0.00013518333435058594\n",
      "multi hist 執行時間:0.015450716018676758\n"
     ]
    },
    {
     "name": "stderr",
     "output_type": "stream",
     "text": [
      "總進度:  46%|████▌     | 459/1000 [00:26<00:32, 16.79it/s]"
     ]
    },
    {
     "name": "stdout",
     "output_type": "stream",
     "text": [
      "multi hist hist 執行時間:0.017426729202270508\n",
      "multi hist RMSE 執行時間:0.0005967617034912109\n",
      "multi hist 執行時間:0.0183103084564209\n",
      "multi hist hist 執行時間:0.016387939453125\n",
      "multi hist RMSE 執行時間:0.0001227855682373047\n",
      "multi hist 執行時間:0.016590356826782227\n",
      "multi hist hist 執行時間:0.015043258666992188\n",
      "multi hist RMSE 執行時間:0.00010418891906738281\n",
      "multi hist 執行時間:0.015217065811157227\n"
     ]
    },
    {
     "name": "stderr",
     "output_type": "stream",
     "text": [
      "總進度:  46%|████▌     | 461/1000 [00:26<00:31, 17.03it/s]"
     ]
    },
    {
     "name": "stdout",
     "output_type": "stream",
     "text": [
      "multi hist hist 執行時間:0.01529073715209961\n",
      "multi hist RMSE 執行時間:0.00014495849609375\n",
      "multi hist 執行時間:0.015707015991210938\n"
     ]
    },
    {
     "name": "stderr",
     "output_type": "stream",
     "text": [
      "總進度:  46%|████▋     | 463/1000 [00:26<00:31, 16.82it/s]"
     ]
    },
    {
     "name": "stdout",
     "output_type": "stream",
     "text": [
      "multi hist hist 執行時間:0.0157778263092041\n",
      "multi hist RMSE 執行時間:0.00014781951904296875\n",
      "multi hist 執行時間:0.016199827194213867\n",
      "multi hist hist 執行時間:0.015083551406860352\n",
      "multi hist RMSE 執行時間:0.00010800361633300781\n",
      "multi hist 執行時間:0.015273094177246094\n",
      "multi hist hist 執行時間:0.015368938446044922\n",
      "multi hist RMSE 執行時間:0.00011372566223144531\n",
      "multi hist 執行時間:0.015556097030639648\n"
     ]
    },
    {
     "name": "stderr",
     "output_type": "stream",
     "text": [
      "總進度:  46%|████▋     | 465/1000 [00:26<00:31, 17.17it/s]"
     ]
    },
    {
     "name": "stdout",
     "output_type": "stream",
     "text": [
      "multi hist hist 執行時間:0.016031742095947266\n",
      "multi hist RMSE 執行時間:0.00020432472229003906\n",
      "multi hist 執行時間:0.016518115997314453\n"
     ]
    },
    {
     "name": "stderr",
     "output_type": "stream",
     "text": [
      "總進度:  47%|████▋     | 467/1000 [00:26<00:30, 17.27it/s]"
     ]
    },
    {
     "name": "stdout",
     "output_type": "stream",
     "text": [
      "multi hist hist 執行時間:0.015645265579223633\n",
      "multi hist RMSE 執行時間:0.00023674964904785156\n",
      "multi hist 執行時間:0.016190767288208008\n",
      "multi hist hist 執行時間:0.014968395233154297\n",
      "multi hist RMSE 執行時間:0.00010609626770019531\n",
      "multi hist 執行時間:0.015142440795898438\n",
      "multi hist hist 執行時間:0.016452312469482422\n",
      "multi hist RMSE 執行時間:0.00011992454528808594\n",
      "multi hist 執行時間:0.016654253005981445\n"
     ]
    },
    {
     "name": "stderr",
     "output_type": "stream",
     "text": [
      "總進度:  47%|████▋     | 469/1000 [00:26<00:30, 17.42it/s]"
     ]
    },
    {
     "name": "stdout",
     "output_type": "stream",
     "text": [
      "multi hist hist 執行時間:0.01578044891357422\n",
      "multi hist RMSE 執行時間:0.00020766258239746094\n",
      "multi hist 執行時間:0.01628255844116211\n"
     ]
    },
    {
     "name": "stderr",
     "output_type": "stream",
     "text": [
      "總進度:  47%|████▋     | 471/1000 [00:26<00:30, 17.49it/s]"
     ]
    },
    {
     "name": "stdout",
     "output_type": "stream",
     "text": [
      "multi hist hist 執行時間:0.015170812606811523\n",
      "multi hist RMSE 執行時間:0.00015616416931152344\n",
      "multi hist 執行時間:0.015601158142089844\n",
      "multi hist hist 執行時間:0.015563011169433594\n",
      "multi hist RMSE 執行時間:0.00011324882507324219\n",
      "multi hist 執行時間:0.0157473087310791\n",
      "multi hist hist 執行時間:0.016871213912963867\n",
      "multi hist RMSE 執行時間:0.00011372566223144531\n",
      "multi hist 執行時間:0.017058372497558594\n"
     ]
    },
    {
     "name": "stderr",
     "output_type": "stream",
     "text": [
      "總進度:  47%|████▋     | 473/1000 [00:26<00:30, 17.54it/s]"
     ]
    },
    {
     "name": "stdout",
     "output_type": "stream",
     "text": [
      "multi hist hist 執行時間:0.015336751937866211\n",
      "multi hist RMSE 執行時間:0.00038933753967285156\n",
      "multi hist 執行時間:0.015857458114624023\n"
     ]
    },
    {
     "name": "stderr",
     "output_type": "stream",
     "text": [
      "總進度:  48%|████▊     | 475/1000 [00:27<00:30, 17.05it/s]"
     ]
    },
    {
     "name": "stdout",
     "output_type": "stream",
     "text": [
      "multi hist hist 執行時間:0.017461061477661133\n",
      "multi hist RMSE 執行時間:0.0007231235504150391\n",
      "multi hist 執行時間:0.01850271224975586\n",
      "multi hist hist 執行時間:0.015131711959838867\n",
      "multi hist RMSE 執行時間:0.00011968612670898438\n",
      "multi hist 執行時間:0.015329122543334961\n",
      "multi hist hist 執行時間:0.016041278839111328\n",
      "multi hist RMSE 執行時間:0.0001442432403564453\n",
      "multi hist 執行時間:0.01627826690673828\n"
     ]
    },
    {
     "name": "stderr",
     "output_type": "stream",
     "text": [
      "總進度:  48%|████▊     | 477/1000 [00:27<00:30, 17.06it/s]"
     ]
    },
    {
     "name": "stdout",
     "output_type": "stream",
     "text": [
      "multi hist hist 執行時間:0.015044212341308594\n",
      "multi hist RMSE 執行時間:0.0003733634948730469\n",
      "multi hist 執行時間:0.015573978424072266\n"
     ]
    },
    {
     "name": "stderr",
     "output_type": "stream",
     "text": [
      "總進度:  48%|████▊     | 479/1000 [00:27<00:30, 17.13it/s]"
     ]
    },
    {
     "name": "stdout",
     "output_type": "stream",
     "text": [
      "multi hist hist 執行時間:0.015253782272338867\n",
      "multi hist RMSE 執行時間:0.0003235340118408203\n",
      "multi hist 執行時間:0.015743255615234375\n",
      "multi hist hist 執行時間:0.015000343322753906\n",
      "multi hist RMSE 執行時間:0.00010180473327636719\n",
      "multi hist 執行時間:0.015167474746704102\n",
      "multi hist hist 執行時間:0.014672517776489258\n",
      "multi hist RMSE 執行時間:0.00010728836059570312\n",
      "multi hist 執行時間:0.014848947525024414\n"
     ]
    },
    {
     "name": "stderr",
     "output_type": "stream",
     "text": [
      "總進度:  48%|████▊     | 481/1000 [00:27<00:30, 17.17it/s]"
     ]
    },
    {
     "name": "stdout",
     "output_type": "stream",
     "text": [
      "multi hist hist 執行時間:0.01635599136352539\n",
      "multi hist RMSE 執行時間:0.00017714500427246094\n",
      "multi hist 執行時間:0.01681065559387207\n"
     ]
    },
    {
     "name": "stderr",
     "output_type": "stream",
     "text": [
      "總進度:  48%|████▊     | 483/1000 [00:27<00:29, 17.36it/s]"
     ]
    },
    {
     "name": "stdout",
     "output_type": "stream",
     "text": [
      "multi hist hist 執行時間:0.015442371368408203\n",
      "multi hist RMSE 執行時間:0.00015401840209960938\n",
      "multi hist 執行時間:0.01586747169494629\n",
      "multi hist hist 執行時間:0.01537775993347168\n",
      "multi hist RMSE 執行時間:0.00010633468627929688\n",
      "multi hist 執行時間:0.015553951263427734\n",
      "multi hist hist 執行時間:0.014936685562133789\n",
      "multi hist RMSE 執行時間:0.00012755393981933594\n",
      "multi hist 執行時間:0.015133380889892578\n"
     ]
    },
    {
     "name": "stderr",
     "output_type": "stream",
     "text": [
      "總進度:  48%|████▊     | 485/1000 [00:27<00:29, 17.65it/s]"
     ]
    },
    {
     "name": "stdout",
     "output_type": "stream",
     "text": [
      "multi hist hist 執行時間:0.015758275985717773\n",
      "multi hist RMSE 執行時間:0.0001647472381591797\n",
      "multi hist 執行時間:0.016123533248901367\n"
     ]
    },
    {
     "name": "stderr",
     "output_type": "stream",
     "text": [
      "總進度:  49%|████▊     | 487/1000 [00:27<00:29, 17.64it/s]"
     ]
    },
    {
     "name": "stdout",
     "output_type": "stream",
     "text": [
      "multi hist hist 執行時間:0.014980792999267578\n",
      "multi hist RMSE 執行時間:0.00029468536376953125\n",
      "multi hist 執行時間:0.015465974807739258\n",
      "multi hist hist 執行時間:0.014921426773071289\n",
      "multi hist RMSE 執行時間:0.00010919570922851562\n",
      "multi hist 執行時間:0.015099048614501953\n",
      "multi hist hist 執行時間:0.015738487243652344\n",
      "multi hist RMSE 執行時間:0.00012183189392089844\n",
      "multi hist 執行時間:0.01593756675720215\n"
     ]
    },
    {
     "name": "stderr",
     "output_type": "stream",
     "text": [
      "總進度:  49%|████▉     | 489/1000 [00:27<00:28, 17.64it/s]"
     ]
    },
    {
     "name": "stdout",
     "output_type": "stream",
     "text": [
      "multi hist hist 執行時間:0.014975309371948242\n",
      "multi hist RMSE 執行時間:0.00044274330139160156\n",
      "multi hist 執行時間:0.015618085861206055\n"
     ]
    },
    {
     "name": "stderr",
     "output_type": "stream",
     "text": [
      "總進度:  49%|████▉     | 491/1000 [00:28<00:30, 16.86it/s]"
     ]
    },
    {
     "name": "stdout",
     "output_type": "stream",
     "text": [
      "multi hist hist 執行時間:0.017538070678710938\n",
      "multi hist RMSE 執行時間:0.0005893707275390625\n",
      "multi hist 執行時間:0.018395185470581055\n",
      "multi hist hist 執行時間:0.017528057098388672\n",
      "multi hist RMSE 執行時間:0.00018978118896484375\n",
      "multi hist 執行時間:0.0179445743560791\n",
      "multi hist hist 執行時間:0.015182971954345703\n",
      "multi hist RMSE 執行時間:0.00011610984802246094\n",
      "multi hist 執行時間:0.01537632942199707\n"
     ]
    },
    {
     "name": "stderr",
     "output_type": "stream",
     "text": [
      "總進度:  49%|████▉     | 493/1000 [00:28<00:29, 17.17it/s]"
     ]
    },
    {
     "name": "stdout",
     "output_type": "stream",
     "text": [
      "multi hist hist 執行時間:0.015031576156616211\n",
      "multi hist RMSE 執行時間:0.00018167495727539062\n",
      "multi hist 執行時間:0.015479803085327148\n"
     ]
    },
    {
     "name": "stderr",
     "output_type": "stream",
     "text": [
      "總進度:  50%|████▉     | 495/1000 [00:28<00:28, 17.42it/s]"
     ]
    },
    {
     "name": "stdout",
     "output_type": "stream",
     "text": [
      "multi hist hist 執行時間:0.016141414642333984\n",
      "multi hist RMSE 執行時間:0.0001819133758544922\n",
      "multi hist 執行時間:0.016588449478149414\n",
      "multi hist hist 執行時間:0.016322851181030273\n",
      "multi hist RMSE 執行時間:0.00010895729064941406\n",
      "multi hist 執行時間:0.016498804092407227\n",
      "multi hist hist 執行時間:0.014961957931518555\n",
      "multi hist RMSE 執行時間:0.00010848045349121094\n",
      "multi hist 執行時間:0.015134334564208984\n"
     ]
    },
    {
     "name": "stderr",
     "output_type": "stream",
     "text": [
      "總進度:  50%|████▉     | 497/1000 [00:28<00:28, 17.59it/s]"
     ]
    },
    {
     "name": "stdout",
     "output_type": "stream",
     "text": [
      "multi hist hist 執行時間:0.014675617218017578\n",
      "multi hist RMSE 執行時間:0.000125885009765625\n",
      "multi hist 執行時間:0.015009880065917969\n"
     ]
    },
    {
     "name": "stderr",
     "output_type": "stream",
     "text": [
      "總進度:  50%|████▉     | 499/1000 [00:28<00:28, 17.56it/s]"
     ]
    },
    {
     "name": "stdout",
     "output_type": "stream",
     "text": [
      "multi hist hist 執行時間:0.01624441146850586\n",
      "multi hist RMSE 執行時間:0.0003044605255126953\n",
      "multi hist 執行時間:0.01669907569885254\n",
      "multi hist hist 執行時間:0.014428377151489258\n",
      "multi hist RMSE 執行時間:9.512901306152344e-05\n",
      "multi hist 執行時間:0.014584541320800781\n",
      "multi hist hist 執行時間:0.01507878303527832\n",
      "multi hist RMSE 執行時間:9.202957153320312e-05\n",
      "multi hist 執行時間:0.015236854553222656\n"
     ]
    },
    {
     "name": "stderr",
     "output_type": "stream",
     "text": [
      "總進度:  50%|█████     | 501/1000 [00:28<00:28, 17.59it/s]"
     ]
    },
    {
     "name": "stdout",
     "output_type": "stream",
     "text": [
      "multi hist hist 執行時間:0.014870166778564453\n",
      "multi hist RMSE 執行時間:0.0003294944763183594\n",
      "multi hist 執行時間:0.015337467193603516\n"
     ]
    },
    {
     "name": "stderr",
     "output_type": "stream",
     "text": [
      "總進度:  50%|█████     | 503/1000 [00:28<00:27, 17.76it/s]"
     ]
    },
    {
     "name": "stdout",
     "output_type": "stream",
     "text": [
      "multi hist hist 執行時間:0.01474905014038086\n",
      "multi hist RMSE 執行時間:0.0002155303955078125\n",
      "multi hist 執行時間:0.015078306198120117\n",
      "multi hist hist 執行時間:0.016288042068481445\n",
      "multi hist RMSE 執行時間:0.00010228157043457031\n",
      "multi hist 執行時間:0.016457319259643555\n",
      "multi hist hist 執行時間:0.014962434768676758\n",
      "multi hist RMSE 執行時間:0.00010013580322265625\n",
      "multi hist 執行時間:0.01512908935546875\n"
     ]
    },
    {
     "name": "stderr",
     "output_type": "stream",
     "text": [
      "總進度:  50%|█████     | 505/1000 [00:28<00:27, 17.93it/s]"
     ]
    },
    {
     "name": "stdout",
     "output_type": "stream",
     "text": [
      "multi hist hist 執行時間:0.015270471572875977\n",
      "multi hist RMSE 執行時間:0.000244140625\n",
      "multi hist 執行時間:0.01565837860107422\n"
     ]
    },
    {
     "name": "stderr",
     "output_type": "stream",
     "text": [
      "總進度:  51%|█████     | 507/1000 [00:28<00:27, 17.65it/s]"
     ]
    },
    {
     "name": "stdout",
     "output_type": "stream",
     "text": [
      "multi hist hist 執行時間:0.01605963706970215\n",
      "multi hist RMSE 執行時間:0.0003044605255126953\n",
      "multi hist 執行時間:0.016529083251953125\n",
      "multi hist hist 執行時間:0.014946699142456055\n",
      "multi hist RMSE 執行時間:0.00010013580322265625\n",
      "multi hist 執行時間:0.01511240005493164\n",
      "multi hist hist 執行時間:0.01656317710876465\n",
      "multi hist RMSE 執行時間:0.00010514259338378906\n",
      "multi hist 執行時間:0.01673436164855957\n"
     ]
    },
    {
     "name": "stderr",
     "output_type": "stream",
     "text": [
      "總進度:  51%|█████     | 509/1000 [00:29<00:27, 17.74it/s]"
     ]
    },
    {
     "name": "stdout",
     "output_type": "stream",
     "text": [
      "multi hist hist 執行時間:0.015094995498657227\n",
      "multi hist RMSE 執行時間:0.0002105236053466797\n",
      "multi hist 執行時間:0.01556396484375\n"
     ]
    },
    {
     "name": "stderr",
     "output_type": "stream",
     "text": [
      "總進度:  51%|█████     | 511/1000 [00:29<00:27, 17.85it/s]"
     ]
    },
    {
     "name": "stdout",
     "output_type": "stream",
     "text": [
      "multi hist hist 執行時間:0.01609182357788086\n",
      "multi hist RMSE 執行時間:0.00027942657470703125\n",
      "multi hist 執行時間:0.016498804092407227\n",
      "multi hist hist 執行時間:0.01479196548461914\n",
      "multi hist RMSE 執行時間:9.679794311523438e-05\n",
      "multi hist 執行時間:0.014955997467041016\n",
      "multi hist hist 執行時間:0.015961647033691406\n",
      "multi hist RMSE 執行時間:9.655952453613281e-05\n",
      "multi hist 執行時間:0.016123056411743164\n"
     ]
    },
    {
     "name": "stderr",
     "output_type": "stream",
     "text": [
      "總進度:  51%|█████▏    | 513/1000 [00:29<00:27, 17.84it/s]"
     ]
    },
    {
     "name": "stdout",
     "output_type": "stream",
     "text": [
      "multi hist hist 執行時間:0.013866186141967773\n",
      "multi hist RMSE 執行時間:0.00011682510375976562\n",
      "multi hist 執行時間:0.014160394668579102\n"
     ]
    },
    {
     "name": "stderr",
     "output_type": "stream",
     "text": [
      "總進度:  52%|█████▏    | 515/1000 [00:29<00:26, 17.99it/s]"
     ]
    },
    {
     "name": "stdout",
     "output_type": "stream",
     "text": [
      "multi hist hist 執行時間:0.015321731567382812\n",
      "multi hist RMSE 執行時間:0.0001323223114013672\n",
      "multi hist 執行時間:0.015699386596679688\n",
      "multi hist hist 執行時間:0.015115022659301758\n",
      "multi hist RMSE 執行時間:9.274482727050781e-05\n",
      "multi hist 執行時間:0.015268564224243164\n",
      "multi hist hist 執行時間:0.015045881271362305\n",
      "multi hist RMSE 執行時間:0.0001010894775390625\n",
      "multi hist 執行時間:0.015212774276733398\n"
     ]
    },
    {
     "name": "stderr",
     "output_type": "stream",
     "text": [
      "總進度:  52%|█████▏    | 517/1000 [00:29<00:26, 18.08it/s]"
     ]
    },
    {
     "name": "stdout",
     "output_type": "stream",
     "text": [
      "multi hist hist 執行時間:0.014467954635620117\n",
      "multi hist RMSE 執行時間:0.00024008750915527344\n",
      "multi hist 執行時間:0.014912128448486328\n"
     ]
    },
    {
     "name": "stderr",
     "output_type": "stream",
     "text": [
      "總進度:  52%|█████▏    | 519/1000 [00:29<00:26, 17.98it/s]"
     ]
    },
    {
     "name": "stdout",
     "output_type": "stream",
     "text": [
      "multi hist hist 執行時間:0.015393495559692383\n",
      "multi hist RMSE 執行時間:0.00017952919006347656\n",
      "multi hist 執行時間:0.01582932472229004\n",
      "multi hist hist 執行時間:0.014768362045288086\n",
      "multi hist RMSE 執行時間:0.0001087188720703125\n",
      "multi hist 執行時間:0.014943599700927734\n",
      "multi hist hist 執行時間:0.015703439712524414\n",
      "multi hist RMSE 執行時間:9.441375732421875e-05\n",
      "multi hist 執行時間:0.015864849090576172\n"
     ]
    },
    {
     "name": "stderr",
     "output_type": "stream",
     "text": [
      "總進度:  52%|█████▏    | 521/1000 [00:29<00:26, 17.82it/s]"
     ]
    },
    {
     "name": "stdout",
     "output_type": "stream",
     "text": [
      "multi hist hist 執行時間:0.015166997909545898\n",
      "multi hist RMSE 執行時間:0.00013184547424316406\n",
      "multi hist 執行時間:0.015521049499511719\n"
     ]
    },
    {
     "name": "stderr",
     "output_type": "stream",
     "text": [
      "總進度:  52%|█████▏    | 523/1000 [00:29<00:26, 17.76it/s]"
     ]
    },
    {
     "name": "stdout",
     "output_type": "stream",
     "text": [
      "multi hist hist 執行時間:0.01742267608642578\n",
      "multi hist RMSE 執行時間:0.0002722740173339844\n",
      "multi hist 執行時間:0.018248558044433594\n",
      "multi hist hist 執行時間:0.015289545059204102\n",
      "multi hist RMSE 執行時間:0.00012421607971191406\n",
      "multi hist 執行時間:0.01548457145690918\n",
      "multi hist hist 執行時間:0.01474308967590332\n",
      "multi hist RMSE 執行時間:9.799003601074219e-05\n",
      "multi hist 執行時間:0.014909982681274414\n"
     ]
    },
    {
     "name": "stderr",
     "output_type": "stream",
     "text": [
      "總進度:  52%|█████▎    | 525/1000 [00:29<00:26, 17.92it/s]"
     ]
    },
    {
     "name": "stdout",
     "output_type": "stream",
     "text": [
      "multi hist hist 執行時間:0.014132261276245117\n",
      "multi hist RMSE 執行時間:0.0004279613494873047\n",
      "multi hist 執行時間:0.01468205451965332\n"
     ]
    },
    {
     "name": "stderr",
     "output_type": "stream",
     "text": [
      "總進度:  53%|█████▎    | 527/1000 [00:30<00:26, 17.98it/s]"
     ]
    },
    {
     "name": "stdout",
     "output_type": "stream",
     "text": [
      "multi hist hist 執行時間:0.014996528625488281\n",
      "multi hist RMSE 執行時間:0.0002295970916748047\n",
      "multi hist 執行時間:0.015337467193603516\n",
      "multi hist hist 執行時間:0.015461444854736328\n",
      "multi hist RMSE 執行時間:0.00010228157043457031\n",
      "multi hist 執行時間:0.01563096046447754\n",
      "multi hist hist 執行時間:0.014924287796020508\n",
      "multi hist RMSE 執行時間:0.000102996826171875\n",
      "multi hist 執行時間:0.015095233917236328\n"
     ]
    },
    {
     "name": "stderr",
     "output_type": "stream",
     "text": [
      "總進度:  53%|█████▎    | 529/1000 [00:30<00:26, 18.03it/s]"
     ]
    },
    {
     "name": "stdout",
     "output_type": "stream",
     "text": [
      "multi hist hist 執行時間:0.015121698379516602\n",
      "multi hist RMSE 執行時間:0.00024366378784179688\n",
      "multi hist 執行時間:0.015488624572753906\n"
     ]
    },
    {
     "name": "stderr",
     "output_type": "stream",
     "text": [
      "總進度:  53%|█████▎    | 531/1000 [00:30<00:26, 18.00it/s]"
     ]
    },
    {
     "name": "stdout",
     "output_type": "stream",
     "text": [
      "multi hist hist 執行時間:0.015099048614501953\n",
      "multi hist RMSE 執行時間:0.00018143653869628906\n",
      "multi hist 執行時間:0.015523195266723633\n",
      "multi hist hist 執行時間:0.0163729190826416\n",
      "multi hist RMSE 執行時間:0.00010395050048828125\n",
      "multi hist 執行時間:0.016539573669433594\n",
      "multi hist hist 執行時間:0.0159609317779541\n",
      "multi hist RMSE 執行時間:0.000102996826171875\n",
      "multi hist 執行時間:0.01612997055053711\n"
     ]
    },
    {
     "name": "stderr",
     "output_type": "stream",
     "text": [
      "總進度:  53%|█████▎    | 533/1000 [00:30<00:26, 17.89it/s]"
     ]
    },
    {
     "name": "stdout",
     "output_type": "stream",
     "text": [
      "multi hist hist 執行時間:0.01582050323486328\n",
      "multi hist RMSE 執行時間:0.0001678466796875\n",
      "multi hist 執行時間:0.016220808029174805\n"
     ]
    },
    {
     "name": "stderr",
     "output_type": "stream",
     "text": [
      "總進度:  54%|█████▎    | 535/1000 [00:30<00:25, 17.91it/s]"
     ]
    },
    {
     "name": "stdout",
     "output_type": "stream",
     "text": [
      "multi hist hist 執行時間:0.015604496002197266\n",
      "multi hist RMSE 執行時間:0.00018453598022460938\n",
      "multi hist 執行時間:0.016005754470825195\n",
      "multi hist hist 執行時間:0.015088796615600586\n",
      "multi hist RMSE 執行時間:9.822845458984375e-05\n",
      "multi hist 執行時間:0.015250921249389648\n",
      "multi hist hist 執行時間:0.015957117080688477\n",
      "multi hist RMSE 執行時間:9.775161743164062e-05\n",
      "multi hist 執行時間:0.016118288040161133\n"
     ]
    },
    {
     "name": "stderr",
     "output_type": "stream",
     "text": [
      "總進度:  54%|█████▎    | 537/1000 [00:30<00:25, 17.99it/s]"
     ]
    },
    {
     "name": "stdout",
     "output_type": "stream",
     "text": [
      "multi hist hist 執行時間:0.014325618743896484\n",
      "multi hist RMSE 執行時間:0.00013875961303710938\n",
      "multi hist 執行時間:0.014688968658447266\n"
     ]
    },
    {
     "name": "stderr",
     "output_type": "stream",
     "text": [
      "總進度:  54%|█████▍    | 539/1000 [00:30<00:25, 18.10it/s]"
     ]
    },
    {
     "name": "stdout",
     "output_type": "stream",
     "text": [
      "multi hist hist 執行時間:0.01488494873046875\n",
      "multi hist RMSE 執行時間:0.00016379356384277344\n",
      "multi hist 執行時間:0.015266656875610352\n",
      "multi hist hist 執行時間:0.014945268630981445\n",
      "multi hist RMSE 執行時間:9.942054748535156e-05\n",
      "multi hist 執行時間:0.015112638473510742\n",
      "multi hist hist 執行時間:0.015007972717285156\n",
      "multi hist RMSE 執行時間:9.369850158691406e-05\n",
      "multi hist 執行時間:0.01516580581665039\n"
     ]
    },
    {
     "name": "stderr",
     "output_type": "stream",
     "text": [
      "總進度:  54%|█████▍    | 541/1000 [00:30<00:25, 17.99it/s]"
     ]
    },
    {
     "name": "stdout",
     "output_type": "stream",
     "text": [
      "multi hist hist 執行時間:0.015121936798095703\n",
      "multi hist RMSE 執行時間:0.0002968311309814453\n",
      "multi hist 執行時間:0.015537738800048828\n"
     ]
    },
    {
     "name": "stderr",
     "output_type": "stream",
     "text": [
      "總進度:  54%|█████▍    | 543/1000 [00:30<00:25, 17.65it/s]"
     ]
    },
    {
     "name": "stdout",
     "output_type": "stream",
     "text": [
      "multi hist hist 執行時間:0.01496744155883789\n",
      "multi hist RMSE 執行時間:0.00029277801513671875\n",
      "multi hist 執行時間:0.015381097793579102\n",
      "multi hist hist 執行時間:0.014713525772094727\n",
      "multi hist RMSE 執行時間:9.512901306152344e-05\n",
      "multi hist 執行時間:0.014872074127197266\n",
      "multi hist hist 執行時間:0.014964580535888672\n",
      "multi hist RMSE 執行時間:9.703636169433594e-05\n",
      "multi hist 執行時間:0.015128612518310547\n"
     ]
    },
    {
     "name": "stderr",
     "output_type": "stream",
     "text": [
      "總進度:  55%|█████▍    | 545/1000 [00:31<00:25, 17.81it/s]"
     ]
    },
    {
     "name": "stdout",
     "output_type": "stream",
     "text": [
      "multi hist hist 執行時間:0.014322519302368164\n",
      "multi hist RMSE 執行時間:0.00017952919006347656\n",
      "multi hist 執行時間:0.014733552932739258\n"
     ]
    },
    {
     "name": "stderr",
     "output_type": "stream",
     "text": [
      "總進度:  55%|█████▍    | 547/1000 [00:31<00:25, 17.85it/s]"
     ]
    },
    {
     "name": "stdout",
     "output_type": "stream",
     "text": [
      "multi hist hist 執行時間:0.01727437973022461\n",
      "multi hist RMSE 執行時間:0.0003101825714111328\n",
      "multi hist 執行時間:0.0177457332611084\n",
      "multi hist hist 執行時間:0.01483154296875\n",
      "multi hist RMSE 執行時間:0.0001068115234375\n",
      "multi hist 執行時間:0.015005350112915039\n",
      "multi hist hist 執行時間:0.014852046966552734\n",
      "multi hist RMSE 執行時間:0.00010919570922851562\n",
      "multi hist 執行時間:0.015033483505249023\n"
     ]
    },
    {
     "name": "stderr",
     "output_type": "stream",
     "text": [
      "總進度:  55%|█████▍    | 549/1000 [00:31<00:25, 17.96it/s]"
     ]
    },
    {
     "name": "stdout",
     "output_type": "stream",
     "text": [
      "multi hist hist 執行時間:0.014850378036499023\n",
      "multi hist RMSE 執行時間:0.0002760887145996094\n",
      "multi hist 執行時間:0.015245676040649414\n"
     ]
    },
    {
     "name": "stderr",
     "output_type": "stream",
     "text": [
      "總進度:  55%|█████▌    | 551/1000 [00:31<00:24, 18.04it/s]"
     ]
    },
    {
     "name": "stdout",
     "output_type": "stream",
     "text": [
      "multi hist hist 執行時間:0.015037298202514648\n",
      "multi hist RMSE 執行時間:0.0001163482666015625\n",
      "multi hist 執行時間:0.015344619750976562\n",
      "multi hist hist 執行時間:0.015262603759765625\n",
      "multi hist RMSE 執行時間:0.00011205673217773438\n",
      "multi hist 執行時間:0.015446662902832031\n",
      "multi hist hist 執行時間:0.014580488204956055\n",
      "multi hist RMSE 執行時間:0.00010061264038085938\n",
      "multi hist 執行時間:0.014745235443115234\n"
     ]
    },
    {
     "name": "stderr",
     "output_type": "stream",
     "text": [
      "總進度:  55%|█████▌    | 553/1000 [00:31<00:24, 17.96it/s]"
     ]
    },
    {
     "name": "stdout",
     "output_type": "stream",
     "text": [
      "multi hist hist 執行時間:0.015234231948852539\n",
      "multi hist RMSE 執行時間:0.00017881393432617188\n",
      "multi hist 執行時間:0.015651941299438477\n"
     ]
    },
    {
     "name": "stderr",
     "output_type": "stream",
     "text": [
      "總進度:  56%|█████▌    | 555/1000 [00:31<00:24, 18.14it/s]"
     ]
    },
    {
     "name": "stdout",
     "output_type": "stream",
     "text": [
      "multi hist hist 執行時間:0.01483464241027832\n",
      "multi hist RMSE 執行時間:0.0002574920654296875\n",
      "multi hist 執行時間:0.01521444320678711\n",
      "multi hist hist 執行時間:0.0140228271484375\n",
      "multi hist RMSE 執行時間:9.393692016601562e-05\n",
      "multi hist 執行時間:0.014181852340698242\n",
      "multi hist hist 執行時間:0.014783143997192383\n",
      "multi hist RMSE 執行時間:9.894371032714844e-05\n",
      "multi hist 執行時間:0.014946937561035156\n"
     ]
    },
    {
     "name": "stderr",
     "output_type": "stream",
     "text": [
      "總進度:  56%|█████▌    | 557/1000 [00:31<00:24, 17.93it/s]"
     ]
    },
    {
     "name": "stdout",
     "output_type": "stream",
     "text": [
      "multi hist hist 執行時間:0.014783143997192383\n",
      "multi hist RMSE 執行時間:0.0002987384796142578\n",
      "multi hist 執行時間:0.015218734741210938\n"
     ]
    },
    {
     "name": "stderr",
     "output_type": "stream",
     "text": [
      "總進度:  56%|█████▌    | 559/1000 [00:31<00:25, 17.55it/s]"
     ]
    },
    {
     "name": "stdout",
     "output_type": "stream",
     "text": [
      "multi hist hist 執行時間:0.01510763168334961\n",
      "multi hist RMSE 執行時間:0.0001308917999267578\n",
      "multi hist 執行時間:0.015447854995727539\n",
      "multi hist hist 執行時間:0.014797449111938477\n",
      "multi hist RMSE 執行時間:0.00012135505676269531\n",
      "multi hist 執行時間:0.014993906021118164\n",
      "multi hist hist 執行時間:0.015442848205566406\n",
      "multi hist RMSE 執行時間:0.00011229515075683594\n",
      "multi hist 執行時間:0.01562809944152832\n"
     ]
    },
    {
     "name": "stderr",
     "output_type": "stream",
     "text": [
      "總進度:  56%|█████▌    | 561/1000 [00:31<00:24, 17.60it/s]"
     ]
    },
    {
     "name": "stdout",
     "output_type": "stream",
     "text": [
      "multi hist hist 執行時間:0.015743255615234375\n",
      "multi hist RMSE 執行時間:0.00028967857360839844\n",
      "multi hist 執行時間:0.01618647575378418\n"
     ]
    },
    {
     "name": "stderr",
     "output_type": "stream",
     "text": [
      "總進度:  56%|█████▋    | 563/1000 [00:32<00:24, 17.80it/s]"
     ]
    },
    {
     "name": "stdout",
     "output_type": "stream",
     "text": [
      "multi hist hist 執行時間:0.014661073684692383\n",
      "multi hist RMSE 執行時間:0.00032329559326171875\n",
      "multi hist 執行時間:0.015122175216674805\n",
      "multi hist hist 執行時間:0.014978408813476562\n",
      "multi hist RMSE 執行時間:0.00010657310485839844\n",
      "multi hist 執行時間:0.015150070190429688\n",
      "multi hist hist 執行時間:0.014829635620117188\n",
      "multi hist RMSE 執行時間:0.00010275840759277344\n",
      "multi hist 執行時間:0.0149993896484375\n"
     ]
    },
    {
     "name": "stderr",
     "output_type": "stream",
     "text": [
      "總進度:  56%|█████▋    | 565/1000 [00:32<00:24, 17.89it/s]"
     ]
    },
    {
     "name": "stdout",
     "output_type": "stream",
     "text": [
      "multi hist hist 執行時間:0.014934539794921875\n",
      "multi hist RMSE 執行時間:0.0002841949462890625\n",
      "multi hist 執行時間:0.01535177230834961\n"
     ]
    },
    {
     "name": "stderr",
     "output_type": "stream",
     "text": [
      "總進度:  57%|█████▋    | 567/1000 [00:32<00:24, 17.84it/s]"
     ]
    },
    {
     "name": "stdout",
     "output_type": "stream",
     "text": [
      "multi hist hist 執行時間:0.01527714729309082\n",
      "multi hist RMSE 執行時間:0.00013446807861328125\n",
      "multi hist 執行時間:0.015621423721313477\n",
      "multi hist hist 執行時間:0.015063285827636719\n",
      "multi hist RMSE 執行時間:0.0001010894775390625\n",
      "multi hist 執行時間:0.015229940414428711\n",
      "multi hist hist 執行時間:0.015697956085205078\n",
      "multi hist RMSE 執行時間:9.560585021972656e-05\n",
      "multi hist 執行時間:0.015866994857788086\n"
     ]
    },
    {
     "name": "stderr",
     "output_type": "stream",
     "text": [
      "總進度:  57%|█████▋    | 569/1000 [00:32<00:24, 17.82it/s]"
     ]
    },
    {
     "name": "stdout",
     "output_type": "stream",
     "text": [
      "multi hist hist 執行時間:0.016407251358032227\n",
      "multi hist RMSE 執行時間:0.00013065338134765625\n",
      "multi hist 執行時間:0.01679372787475586\n"
     ]
    },
    {
     "name": "stderr",
     "output_type": "stream",
     "text": [
      "總進度:  57%|█████▋    | 571/1000 [00:32<00:23, 17.94it/s]"
     ]
    },
    {
     "name": "stdout",
     "output_type": "stream",
     "text": [
      "multi hist hist 執行時間:0.014945745468139648\n",
      "multi hist RMSE 執行時間:0.00018215179443359375\n",
      "multi hist 執行時間:0.015339851379394531\n",
      "multi hist hist 執行時間:0.015162944793701172\n",
      "multi hist RMSE 執行時間:0.00010991096496582031\n",
      "multi hist 執行時間:0.015370607376098633\n",
      "multi hist hist 執行時間:0.015228271484375\n",
      "multi hist RMSE 執行時間:0.00010442733764648438\n",
      "multi hist 執行時間:0.015399456024169922\n"
     ]
    },
    {
     "name": "stderr",
     "output_type": "stream",
     "text": [
      "總進度:  57%|█████▋    | 573/1000 [00:32<00:23, 17.98it/s]"
     ]
    },
    {
     "name": "stdout",
     "output_type": "stream",
     "text": [
      "multi hist hist 執行時間:0.015605449676513672\n",
      "multi hist RMSE 執行時間:0.00022482872009277344\n",
      "multi hist 執行時間:0.016077756881713867\n"
     ]
    },
    {
     "name": "stderr",
     "output_type": "stream",
     "text": [
      "總進度:  57%|█████▊    | 575/1000 [00:32<00:23, 18.01it/s]"
     ]
    },
    {
     "name": "stdout",
     "output_type": "stream",
     "text": [
      "multi hist hist 執行時間:0.015034675598144531\n",
      "multi hist RMSE 執行時間:0.0003113746643066406\n",
      "multi hist 執行時間:0.01549077033996582\n",
      "multi hist hist 執行時間:0.015174388885498047\n",
      "multi hist RMSE 執行時間:9.894371032714844e-05\n",
      "multi hist 執行時間:0.015336751937866211\n",
      "multi hist hist 執行時間:0.017667531967163086\n",
      "multi hist RMSE 執行時間:0.00028967857360839844\n",
      "multi hist 執行時間:0.018124818801879883\n"
     ]
    },
    {
     "name": "stderr",
     "output_type": "stream",
     "text": [
      "總進度:  58%|█████▊    | 577/1000 [00:32<00:23, 17.80it/s]"
     ]
    },
    {
     "name": "stdout",
     "output_type": "stream",
     "text": [
      "multi hist hist 執行時間:0.014787673950195312\n",
      "multi hist RMSE 執行時間:0.0003523826599121094\n",
      "multi hist 執行時間:0.015299320220947266\n"
     ]
    },
    {
     "name": "stderr",
     "output_type": "stream",
     "text": [
      "總進度:  58%|█████▊    | 579/1000 [00:32<00:23, 17.69it/s]"
     ]
    },
    {
     "name": "stdout",
     "output_type": "stream",
     "text": [
      "multi hist hist 執行時間:0.014612436294555664\n",
      "multi hist RMSE 執行時間:0.0004296302795410156\n",
      "multi hist 執行時間:0.015201091766357422\n",
      "multi hist hist 執行時間:0.014884233474731445\n",
      "multi hist RMSE 執行時間:0.00011157989501953125\n",
      "multi hist 執行時間:0.015064239501953125\n",
      "multi hist hist 執行時間:0.015007734298706055\n",
      "multi hist RMSE 執行時間:9.942054748535156e-05\n",
      "multi hist 執行時間:0.015173196792602539\n"
     ]
    },
    {
     "name": "stderr",
     "output_type": "stream",
     "text": [
      "總進度:  58%|█████▊    | 581/1000 [00:33<00:23, 17.79it/s]"
     ]
    },
    {
     "name": "stdout",
     "output_type": "stream",
     "text": [
      "multi hist hist 執行時間:0.014778375625610352\n",
      "multi hist RMSE 執行時間:0.00017905235290527344\n",
      "multi hist 執行時間:0.01518559455871582\n"
     ]
    },
    {
     "name": "stderr",
     "output_type": "stream",
     "text": [
      "總進度:  58%|█████▊    | 583/1000 [00:33<00:23, 17.81it/s]"
     ]
    },
    {
     "name": "stdout",
     "output_type": "stream",
     "text": [
      "multi hist hist 執行時間:0.014493227005004883\n",
      "multi hist RMSE 執行時間:0.00016236305236816406\n",
      "multi hist 執行時間:0.014892339706420898\n",
      "multi hist hist 執行時間:0.015299081802368164\n",
      "multi hist RMSE 執行時間:0.00011491775512695312\n",
      "multi hist 執行時間:0.01549220085144043\n",
      "multi hist hist 執行時間:0.01491093635559082\n",
      "multi hist RMSE 執行時間:0.00010609626770019531\n",
      "multi hist 執行時間:0.015089750289916992\n"
     ]
    },
    {
     "name": "stderr",
     "output_type": "stream",
     "text": [
      "總進度:  58%|█████▊    | 585/1000 [00:33<00:23, 17.88it/s]"
     ]
    },
    {
     "name": "stdout",
     "output_type": "stream",
     "text": [
      "multi hist hist 執行時間:0.01481771469116211\n",
      "multi hist RMSE 執行時間:0.00013518333435058594\n",
      "multi hist 執行時間:0.01517486572265625\n"
     ]
    },
    {
     "name": "stderr",
     "output_type": "stream",
     "text": [
      "總進度:  59%|█████▊    | 587/1000 [00:33<00:23, 17.72it/s]"
     ]
    },
    {
     "name": "stdout",
     "output_type": "stream",
     "text": [
      "multi hist hist 執行時間:0.015524864196777344\n",
      "multi hist RMSE 執行時間:0.0001468658447265625\n",
      "multi hist 執行時間:0.015917062759399414\n",
      "multi hist hist 執行時間:0.01629805564880371\n",
      "multi hist RMSE 執行時間:0.00019693374633789062\n",
      "multi hist 執行時間:0.01672840118408203\n",
      "multi hist hist 執行時間:0.015645265579223633\n",
      "multi hist RMSE 執行時間:0.00011658668518066406\n",
      "multi hist 執行時間:0.01584005355834961\n"
     ]
    },
    {
     "name": "stderr",
     "output_type": "stream",
     "text": [
      "總進度:  59%|█████▉    | 589/1000 [00:33<00:23, 17.57it/s]"
     ]
    },
    {
     "name": "stdout",
     "output_type": "stream",
     "text": [
      "multi hist hist 執行時間:0.014950275421142578\n",
      "multi hist RMSE 執行時間:0.000274658203125\n",
      "multi hist 執行時間:0.015382051467895508\n"
     ]
    },
    {
     "name": "stderr",
     "output_type": "stream",
     "text": [
      "總進度:  59%|█████▉    | 591/1000 [00:33<00:23, 17.24it/s]"
     ]
    },
    {
     "name": "stdout",
     "output_type": "stream",
     "text": [
      "multi hist hist 執行時間:0.015307426452636719\n",
      "multi hist RMSE 執行時間:0.00021910667419433594\n",
      "multi hist 執行時間:0.015837430953979492\n",
      "multi hist hist 執行時間:0.015427827835083008\n",
      "multi hist RMSE 執行時間:0.00012063980102539062\n",
      "multi hist 執行時間:0.01562786102294922\n",
      "multi hist hist 執行時間:0.018130064010620117\n",
      "multi hist RMSE 執行時間:0.00012564659118652344\n",
      "multi hist 執行時間:0.01834559440612793\n"
     ]
    },
    {
     "name": "stderr",
     "output_type": "stream",
     "text": [
      "總進度:  59%|█████▉    | 593/1000 [00:33<00:24, 16.65it/s]"
     ]
    },
    {
     "name": "stdout",
     "output_type": "stream",
     "text": [
      "multi hist hist 執行時間:0.016332149505615234\n",
      "multi hist RMSE 執行時間:0.0006742477416992188\n",
      "multi hist 執行時間:0.017279624938964844\n"
     ]
    },
    {
     "name": "stderr",
     "output_type": "stream",
     "text": [
      "總進度:  60%|█████▉    | 595/1000 [00:33<00:24, 16.83it/s]"
     ]
    },
    {
     "name": "stdout",
     "output_type": "stream",
     "text": [
      "multi hist hist 執行時間:0.01543283462524414\n",
      "multi hist RMSE 執行時間:0.0002899169921875\n",
      "multi hist 執行時間:0.01606154441833496\n",
      "multi hist hist 執行時間:0.016451597213745117\n",
      "multi hist RMSE 執行時間:0.0001125335693359375\n",
      "multi hist 執行時間:0.01665019989013672\n",
      "multi hist hist 執行時間:0.015191078186035156\n",
      "multi hist RMSE 執行時間:0.00018787384033203125\n",
      "multi hist 執行時間:0.015551090240478516\n"
     ]
    },
    {
     "name": "stderr",
     "output_type": "stream",
     "text": [
      "總進度:  60%|█████▉    | 597/1000 [00:34<00:23, 16.98it/s]"
     ]
    },
    {
     "name": "stdout",
     "output_type": "stream",
     "text": [
      "multi hist hist 執行時間:0.014775991439819336\n",
      "multi hist RMSE 執行時間:0.0001163482666015625\n",
      "multi hist 執行時間:0.01509237289428711\n"
     ]
    },
    {
     "name": "stderr",
     "output_type": "stream",
     "text": [
      "總進度:  60%|█████▉    | 599/1000 [00:34<00:23, 17.25it/s]"
     ]
    },
    {
     "name": "stdout",
     "output_type": "stream",
     "text": [
      "multi hist hist 執行時間:0.016263246536254883\n",
      "multi hist RMSE 執行時間:0.00014257431030273438\n",
      "multi hist 執行時間:0.016668081283569336\n",
      "multi hist hist 執行時間:0.014914274215698242\n",
      "multi hist RMSE 執行時間:8.654594421386719e-05\n",
      "multi hist 執行時間:0.015059947967529297\n",
      "multi hist hist 執行時間:0.015357255935668945\n",
      "multi hist RMSE 執行時間:0.00011110305786132812\n",
      "multi hist 執行時間:0.015552759170532227\n"
     ]
    },
    {
     "name": "stderr",
     "output_type": "stream",
     "text": [
      "總進度:  60%|██████    | 601/1000 [00:34<00:22, 17.51it/s]"
     ]
    },
    {
     "name": "stdout",
     "output_type": "stream",
     "text": [
      "multi hist hist 執行時間:0.01433420181274414\n",
      "multi hist RMSE 執行時間:0.0003514289855957031\n",
      "multi hist 執行時間:0.01496267318725586\n"
     ]
    },
    {
     "name": "stderr",
     "output_type": "stream",
     "text": [
      "總進度:  60%|██████    | 603/1000 [00:34<00:22, 17.76it/s]"
     ]
    },
    {
     "name": "stdout",
     "output_type": "stream",
     "text": [
      "multi hist hist 執行時間:0.015212059020996094\n",
      "multi hist RMSE 執行時間:0.0001761913299560547\n",
      "multi hist 執行時間:0.015619754791259766\n",
      "multi hist hist 執行時間:0.015238046646118164\n",
      "multi hist RMSE 執行時間:9.775161743164062e-05\n",
      "multi hist 執行時間:0.015401601791381836\n",
      "multi hist hist 執行時間:0.015164852142333984\n",
      "multi hist RMSE 執行時間:0.00011181831359863281\n",
      "multi hist 執行時間:0.015359878540039062\n"
     ]
    },
    {
     "name": "stderr",
     "output_type": "stream",
     "text": [
      "總進度:  60%|██████    | 605/1000 [00:34<00:22, 17.91it/s]"
     ]
    },
    {
     "name": "stdout",
     "output_type": "stream",
     "text": [
      "multi hist hist 執行時間:0.015118122100830078\n",
      "multi hist RMSE 執行時間:0.00014591217041015625\n",
      "multi hist 執行時間:0.015501976013183594\n"
     ]
    },
    {
     "name": "stderr",
     "output_type": "stream",
     "text": [
      "總進度:  61%|██████    | 607/1000 [00:34<00:21, 17.88it/s]"
     ]
    },
    {
     "name": "stdout",
     "output_type": "stream",
     "text": [
      "multi hist hist 執行時間:0.014961481094360352\n",
      "multi hist RMSE 執行時間:0.0002009868621826172\n",
      "multi hist 執行時間:0.015439987182617188\n",
      "multi hist hist 執行時間:0.01625227928161621\n",
      "multi hist RMSE 執行時間:0.0001723766326904297\n",
      "multi hist 執行時間:0.016516447067260742\n",
      "multi hist hist 執行時間:0.015446186065673828\n",
      "multi hist RMSE 執行時間:0.00011992454528808594\n",
      "multi hist 執行時間:0.01564788818359375\n"
     ]
    },
    {
     "name": "stderr",
     "output_type": "stream",
     "text": [
      "總進度:  61%|██████    | 609/1000 [00:34<00:21, 17.85it/s]"
     ]
    },
    {
     "name": "stdout",
     "output_type": "stream",
     "text": [
      "multi hist hist 執行時間:0.01514887809753418\n",
      "multi hist RMSE 執行時間:0.00015115737915039062\n",
      "multi hist 執行時間:0.015580177307128906\n"
     ]
    },
    {
     "name": "stderr",
     "output_type": "stream",
     "text": [
      "總進度:  61%|██████    | 611/1000 [00:34<00:22, 17.41it/s]"
     ]
    },
    {
     "name": "stdout",
     "output_type": "stream",
     "text": [
      "multi hist hist 執行時間:0.015677213668823242\n",
      "multi hist RMSE 執行時間:0.00029277801513671875\n",
      "multi hist 執行時間:0.016366004943847656\n",
      "multi hist hist 執行時間:0.016409873962402344\n",
      "multi hist RMSE 執行時間:0.0001125335693359375\n",
      "multi hist 執行時間:0.01659703254699707\n",
      "multi hist hist 執行時間:0.015127182006835938\n",
      "multi hist RMSE 執行時間:0.00010347366333007812\n",
      "multi hist 執行時間:0.015313148498535156\n"
     ]
    },
    {
     "name": "stderr",
     "output_type": "stream",
     "text": [
      "總進度:  61%|██████▏   | 613/1000 [00:34<00:22, 17.32it/s]"
     ]
    },
    {
     "name": "stdout",
     "output_type": "stream",
     "text": [
      "multi hist hist 執行時間:0.014321088790893555\n",
      "multi hist RMSE 執行時間:0.0001323223114013672\n",
      "multi hist 執行時間:0.01472616195678711\n"
     ]
    },
    {
     "name": "stderr",
     "output_type": "stream",
     "text": [
      "總進度:  62%|██████▏   | 615/1000 [00:35<00:21, 17.50it/s]"
     ]
    },
    {
     "name": "stdout",
     "output_type": "stream",
     "text": [
      "multi hist hist 執行時間:0.015707969665527344\n",
      "multi hist RMSE 執行時間:0.00016379356384277344\n",
      "multi hist 執行時間:0.016155481338500977\n",
      "multi hist hist 執行時間:0.01580357551574707\n",
      "multi hist RMSE 執行時間:0.00010013580322265625\n",
      "multi hist 執行時間:0.015969038009643555\n",
      "multi hist hist 執行時間:0.014713048934936523\n",
      "multi hist RMSE 執行時間:0.00010228157043457031\n",
      "multi hist 執行時間:0.01488351821899414\n"
     ]
    },
    {
     "name": "stderr",
     "output_type": "stream",
     "text": [
      "總進度:  62%|██████▏   | 617/1000 [00:35<00:21, 17.73it/s]"
     ]
    },
    {
     "name": "stdout",
     "output_type": "stream",
     "text": [
      "multi hist hist 執行時間:0.015116453170776367\n",
      "multi hist RMSE 執行時間:0.00017952919006347656\n",
      "multi hist 執行時間:0.015518903732299805\n"
     ]
    },
    {
     "name": "stderr",
     "output_type": "stream",
     "text": [
      "總進度:  62%|██████▏   | 619/1000 [00:35<00:21, 18.01it/s]"
     ]
    },
    {
     "name": "stdout",
     "output_type": "stream",
     "text": [
      "multi hist hist 執行時間:0.015351295471191406\n",
      "multi hist RMSE 執行時間:0.00028705596923828125\n",
      "multi hist 執行時間:0.015766620635986328\n",
      "multi hist hist 執行時間:0.014906883239746094\n",
      "multi hist RMSE 執行時間:9.799003601074219e-05\n",
      "multi hist 執行時間:0.015069961547851562\n",
      "multi hist hist 執行時間:0.014583826065063477\n",
      "multi hist RMSE 執行時間:0.0001049041748046875\n",
      "multi hist 執行時間:0.014756441116333008\n"
     ]
    },
    {
     "name": "stderr",
     "output_type": "stream",
     "text": [
      "總進度:  62%|██████▏   | 621/1000 [00:35<00:20, 18.09it/s]"
     ]
    },
    {
     "name": "stdout",
     "output_type": "stream",
     "text": [
      "multi hist hist 執行時間:0.015020132064819336\n",
      "multi hist RMSE 執行時間:0.00028324127197265625\n",
      "multi hist 執行時間:0.015421390533447266\n"
     ]
    },
    {
     "name": "stderr",
     "output_type": "stream",
     "text": [
      "總進度:  62%|██████▏   | 623/1000 [00:35<00:20, 18.06it/s]"
     ]
    },
    {
     "name": "stdout",
     "output_type": "stream",
     "text": [
      "multi hist hist 執行時間:0.014662981033325195\n",
      "multi hist RMSE 執行時間:0.0002429485321044922\n",
      "multi hist 執行時間:0.015024662017822266\n",
      "multi hist hist 執行時間:0.016228914260864258\n",
      "multi hist RMSE 執行時間:9.5367431640625e-05\n",
      "multi hist 執行時間:0.016386985778808594\n",
      "multi hist hist 執行時間:0.016536474227905273\n",
      "multi hist RMSE 執行時間:0.0001239776611328125\n",
      "multi hist 執行時間:0.016742944717407227\n"
     ]
    },
    {
     "name": "stderr",
     "output_type": "stream",
     "text": [
      "總進度:  62%|██████▎   | 625/1000 [00:35<00:21, 17.71it/s]"
     ]
    },
    {
     "name": "stdout",
     "output_type": "stream",
     "text": [
      "multi hist hist 執行時間:0.015363216400146484\n",
      "multi hist RMSE 執行時間:0.0001723766326904297\n",
      "multi hist 執行時間:0.015807628631591797\n"
     ]
    },
    {
     "name": "stderr",
     "output_type": "stream",
     "text": [
      "總進度:  63%|██████▎   | 627/1000 [00:35<00:20, 17.95it/s]"
     ]
    },
    {
     "name": "stdout",
     "output_type": "stream",
     "text": [
      "multi hist hist 執行時間:0.014302253723144531\n",
      "multi hist RMSE 執行時間:0.00022649765014648438\n",
      "multi hist 執行時間:0.01480722427368164\n",
      "multi hist hist 執行時間:0.015102148056030273\n",
      "multi hist RMSE 執行時間:0.000240325927734375\n",
      "multi hist 執行時間:0.015418291091918945\n",
      "multi hist hist 執行時間:0.015066146850585938\n",
      "multi hist RMSE 執行時間:9.822845458984375e-05\n",
      "multi hist 執行時間:0.015237808227539062\n"
     ]
    },
    {
     "name": "stderr",
     "output_type": "stream",
     "text": [
      "總進度:  63%|██████▎   | 629/1000 [00:35<00:20, 18.15it/s]"
     ]
    },
    {
     "name": "stdout",
     "output_type": "stream",
     "text": [
      "multi hist hist 執行時間:0.015044450759887695\n",
      "multi hist RMSE 執行時間:0.00012612342834472656\n",
      "multi hist 執行時間:0.015380144119262695\n"
     ]
    },
    {
     "name": "stderr",
     "output_type": "stream",
     "text": [
      "總進度:  63%|██████▎   | 631/1000 [00:35<00:20, 18.22it/s]"
     ]
    },
    {
     "name": "stdout",
     "output_type": "stream",
     "text": [
      "multi hist hist 執行時間:0.015034675598144531\n",
      "multi hist RMSE 執行時間:0.00012540817260742188\n",
      "multi hist 執行時間:0.015357732772827148\n",
      "multi hist hist 執行時間:0.014887571334838867\n",
      "multi hist RMSE 執行時間:0.00010037422180175781\n",
      "multi hist 執行時間:0.015052080154418945\n",
      "multi hist hist 執行時間:0.014698982238769531\n",
      "multi hist RMSE 執行時間:9.393692016601562e-05\n",
      "multi hist 執行時間:0.014860153198242188\n"
     ]
    },
    {
     "name": "stderr",
     "output_type": "stream",
     "text": [
      "總進度:  63%|██████▎   | 633/1000 [00:36<00:20, 18.22it/s]"
     ]
    },
    {
     "name": "stdout",
     "output_type": "stream",
     "text": [
      "multi hist hist 執行時間:0.01434946060180664\n",
      "multi hist RMSE 執行時間:0.00022554397583007812\n",
      "multi hist 執行時間:0.014681816101074219\n"
     ]
    },
    {
     "name": "stderr",
     "output_type": "stream",
     "text": [
      "總進度:  64%|██████▎   | 635/1000 [00:36<00:19, 18.31it/s]"
     ]
    },
    {
     "name": "stdout",
     "output_type": "stream",
     "text": [
      "multi hist hist 執行時間:0.015157461166381836\n",
      "multi hist RMSE 執行時間:0.00028252601623535156\n",
      "multi hist 執行時間:0.015554428100585938\n",
      "multi hist hist 執行時間:0.015014171600341797\n",
      "multi hist RMSE 執行時間:0.00010275840759277344\n",
      "multi hist 執行時間:0.01517796516418457\n",
      "multi hist hist 執行時間:0.014835357666015625\n",
      "multi hist RMSE 執行時間:9.703636169433594e-05\n",
      "multi hist 執行時間:0.01499485969543457\n"
     ]
    },
    {
     "name": "stderr",
     "output_type": "stream",
     "text": [
      "總進度:  64%|██████▎   | 637/1000 [00:36<00:19, 18.33it/s]"
     ]
    },
    {
     "name": "stdout",
     "output_type": "stream",
     "text": [
      "multi hist hist 執行時間:0.015064477920532227\n",
      "multi hist RMSE 執行時間:0.00012755393981933594\n",
      "multi hist 執行時間:0.015360355377197266\n"
     ]
    },
    {
     "name": "stderr",
     "output_type": "stream",
     "text": [
      "總進度:  64%|██████▍   | 639/1000 [00:36<00:19, 18.32it/s]"
     ]
    },
    {
     "name": "stdout",
     "output_type": "stream",
     "text": [
      "multi hist hist 執行時間:0.015291452407836914\n",
      "multi hist RMSE 執行時間:0.0003075599670410156\n",
      "multi hist 執行時間:0.015737533569335938\n",
      "multi hist hist 執行時間:0.014917850494384766\n",
      "multi hist RMSE 執行時間:0.00010395050048828125\n",
      "multi hist 執行時間:0.015084266662597656\n",
      "multi hist hist 執行時間:0.014642953872680664\n",
      "multi hist RMSE 執行時間:0.00013327598571777344\n",
      "multi hist 執行時間:0.014844655990600586\n"
     ]
    },
    {
     "name": "stderr",
     "output_type": "stream",
     "text": [
      "總進度:  64%|██████▍   | 641/1000 [00:36<00:19, 18.30it/s]"
     ]
    },
    {
     "name": "stdout",
     "output_type": "stream",
     "text": [
      "multi hist hist 執行時間:0.015505075454711914\n",
      "multi hist RMSE 執行時間:0.00026488304138183594\n",
      "multi hist 執行時間:0.01588273048400879\n"
     ]
    },
    {
     "name": "stderr",
     "output_type": "stream",
     "text": [
      "總進度:  64%|██████▍   | 643/1000 [00:36<00:19, 18.08it/s]"
     ]
    },
    {
     "name": "stdout",
     "output_type": "stream",
     "text": [
      "multi hist hist 執行時間:0.015415668487548828\n",
      "multi hist RMSE 執行時間:0.0001506805419921875\n",
      "multi hist 執行時間:0.015853404998779297\n",
      "multi hist hist 執行時間:0.014395475387573242\n",
      "multi hist RMSE 執行時間:9.846687316894531e-05\n",
      "multi hist 執行時間:0.014559268951416016\n",
      "multi hist hist 執行時間:0.014887332916259766\n",
      "multi hist RMSE 執行時間:0.00010085105895996094\n",
      "multi hist 執行時間:0.015054464340209961\n"
     ]
    },
    {
     "name": "stderr",
     "output_type": "stream",
     "text": [
      "總進度:  64%|██████▍   | 645/1000 [00:36<00:19, 18.11it/s]"
     ]
    },
    {
     "name": "stdout",
     "output_type": "stream",
     "text": [
      "multi hist hist 執行時間:0.015098094940185547\n",
      "multi hist RMSE 執行時間:0.00016617774963378906\n",
      "multi hist 執行時間:0.015464544296264648\n"
     ]
    },
    {
     "name": "stderr",
     "output_type": "stream",
     "text": [
      "總進度:  65%|██████▍   | 647/1000 [00:36<00:19, 18.16it/s]"
     ]
    },
    {
     "name": "stdout",
     "output_type": "stream",
     "text": [
      "multi hist hist 執行時間:0.015151023864746094\n",
      "multi hist RMSE 執行時間:0.0002818107604980469\n",
      "multi hist 執行時間:0.015554428100585938\n",
      "multi hist hist 執行時間:0.014728307723999023\n",
      "multi hist RMSE 執行時間:0.00010442733764648438\n",
      "multi hist 執行時間:0.01492452621459961\n",
      "multi hist hist 執行時間:0.01638960838317871\n",
      "multi hist RMSE 執行時間:0.00010228157043457031\n",
      "multi hist 執行時間:0.016563892364501953\n"
     ]
    },
    {
     "name": "stderr",
     "output_type": "stream",
     "text": [
      "總進度:  65%|██████▍   | 649/1000 [00:36<00:19, 18.09it/s]"
     ]
    },
    {
     "name": "stdout",
     "output_type": "stream",
     "text": [
      "multi hist hist 執行時間:0.014926671981811523\n",
      "multi hist RMSE 執行時間:0.00012159347534179688\n",
      "multi hist 執行時間:0.015266180038452148\n"
     ]
    },
    {
     "name": "stderr",
     "output_type": "stream",
     "text": [
      "總進度:  65%|██████▌   | 651/1000 [00:36<00:19, 18.02it/s]"
     ]
    },
    {
     "name": "stdout",
     "output_type": "stream",
     "text": [
      "multi hist hist 執行時間:0.015070676803588867\n",
      "multi hist RMSE 執行時間:0.0003006458282470703\n",
      "multi hist 執行時間:0.015516519546508789\n",
      "multi hist hist 執行時間:0.015190601348876953\n",
      "multi hist RMSE 執行時間:0.00011587142944335938\n",
      "multi hist 執行時間:0.015374183654785156\n",
      "multi hist hist 執行時間:0.015096664428710938\n",
      "multi hist RMSE 執行時間:9.632110595703125e-05\n",
      "multi hist 執行時間:0.015259504318237305\n"
     ]
    },
    {
     "name": "stderr",
     "output_type": "stream",
     "text": [
      "總進度:  65%|██████▌   | 653/1000 [00:37<00:19, 18.04it/s]"
     ]
    },
    {
     "name": "stdout",
     "output_type": "stream",
     "text": [
      "multi hist hist 執行時間:0.01523447036743164\n",
      "multi hist RMSE 執行時間:0.00013446807861328125\n",
      "multi hist 執行時間:0.015583038330078125\n"
     ]
    },
    {
     "name": "stderr",
     "output_type": "stream",
     "text": [
      "總進度:  66%|██████▌   | 655/1000 [00:37<00:19, 18.15it/s]"
     ]
    },
    {
     "name": "stdout",
     "output_type": "stream",
     "text": [
      "multi hist hist 執行時間:0.016247272491455078\n",
      "multi hist RMSE 執行時間:0.0001862049102783203\n",
      "multi hist 執行時間:0.016710281372070312\n",
      "multi hist hist 執行時間:0.014268159866333008\n",
      "multi hist RMSE 執行時間:9.870529174804688e-05\n",
      "multi hist 執行時間:0.014430999755859375\n",
      "multi hist hist 執行時間:0.014519929885864258\n",
      "multi hist RMSE 執行時間:0.0001232624053955078\n",
      "multi hist 執行時間:0.01471090316772461\n"
     ]
    },
    {
     "name": "stderr",
     "output_type": "stream",
     "text": [
      "總進度:  66%|██████▌   | 657/1000 [00:37<00:19, 17.92it/s]"
     ]
    },
    {
     "name": "stdout",
     "output_type": "stream",
     "text": [
      "multi hist hist 執行時間:0.015223979949951172\n",
      "multi hist RMSE 執行時間:0.00017309188842773438\n",
      "multi hist 執行時間:0.015617847442626953\n"
     ]
    },
    {
     "name": "stderr",
     "output_type": "stream",
     "text": [
      "總進度:  66%|██████▌   | 659/1000 [00:37<00:18, 18.04it/s]"
     ]
    },
    {
     "name": "stdout",
     "output_type": "stream",
     "text": [
      "multi hist hist 執行時間:0.015066385269165039\n",
      "multi hist RMSE 執行時間:0.0001881122589111328\n",
      "multi hist 執行時間:0.015494823455810547\n",
      "multi hist hist 執行時間:0.014289379119873047\n",
      "multi hist RMSE 執行時間:9.751319885253906e-05\n",
      "multi hist 執行時間:0.014451742172241211\n",
      "multi hist hist 執行時間:0.01447296142578125\n",
      "multi hist RMSE 執行時間:0.00010132789611816406\n",
      "multi hist 執行時間:0.014646530151367188\n"
     ]
    },
    {
     "name": "stderr",
     "output_type": "stream",
     "text": [
      "總進度:  66%|██████▌   | 661/1000 [00:37<00:19, 17.59it/s]"
     ]
    },
    {
     "name": "stdout",
     "output_type": "stream",
     "text": [
      "multi hist hist 執行時間:0.014571666717529297\n",
      "multi hist RMSE 執行時間:0.00034427642822265625\n",
      "multi hist 執行時間:0.015053510665893555\n"
     ]
    },
    {
     "name": "stderr",
     "output_type": "stream",
     "text": [
      "總進度:  66%|██████▋   | 663/1000 [00:37<00:19, 17.71it/s]"
     ]
    },
    {
     "name": "stdout",
     "output_type": "stream",
     "text": [
      "multi hist hist 執行時間:0.014461755752563477\n",
      "multi hist RMSE 執行時間:0.00012540817260742188\n",
      "multi hist 執行時間:0.014833688735961914\n",
      "multi hist hist 執行時間:0.016008853912353516\n",
      "multi hist RMSE 執行時間:0.00010395050048828125\n",
      "multi hist 執行時間:0.016180038452148438\n",
      "multi hist hist 執行時間:0.01509547233581543\n",
      "multi hist RMSE 執行時間:9.369850158691406e-05\n",
      "multi hist 執行時間:0.01525568962097168\n"
     ]
    },
    {
     "name": "stderr",
     "output_type": "stream",
     "text": [
      "總進度:  66%|██████▋   | 665/1000 [00:37<00:18, 17.66it/s]"
     ]
    },
    {
     "name": "stdout",
     "output_type": "stream",
     "text": [
      "multi hist hist 執行時間:0.016291379928588867\n",
      "multi hist RMSE 執行時間:0.00020122528076171875\n",
      "multi hist 執行時間:0.016747474670410156\n"
     ]
    },
    {
     "name": "stderr",
     "output_type": "stream",
     "text": [
      "總進度:  67%|██████▋   | 667/1000 [00:37<00:18, 17.58it/s]"
     ]
    },
    {
     "name": "stdout",
     "output_type": "stream",
     "text": [
      "multi hist hist 執行時間:0.014423370361328125\n",
      "multi hist RMSE 執行時間:0.00018453598022460938\n",
      "multi hist 執行時間:0.014877080917358398\n",
      "multi hist hist 執行時間:0.01625823974609375\n",
      "multi hist RMSE 執行時間:0.000110626220703125\n",
      "multi hist 執行時間:0.01643991470336914\n",
      "multi hist hist 執行時間:0.015804052352905273\n",
      "multi hist RMSE 執行時間:0.00010442733764648438\n",
      "multi hist 執行時間:0.01597762107849121\n"
     ]
    },
    {
     "name": "stderr",
     "output_type": "stream",
     "text": [
      "總進度:  67%|██████▋   | 669/1000 [00:38<00:18, 17.53it/s]"
     ]
    },
    {
     "name": "stdout",
     "output_type": "stream",
     "text": [
      "multi hist hist 執行時間:0.01478266716003418\n",
      "multi hist RMSE 執行時間:0.00014066696166992188\n",
      "multi hist 執行時間:0.015154600143432617\n"
     ]
    },
    {
     "name": "stderr",
     "output_type": "stream",
     "text": [
      "總進度:  67%|██████▋   | 671/1000 [00:38<00:18, 17.60it/s]"
     ]
    },
    {
     "name": "stdout",
     "output_type": "stream",
     "text": [
      "multi hist hist 執行時間:0.01629161834716797\n",
      "multi hist RMSE 執行時間:0.00029754638671875\n",
      "multi hist 執行時間:0.016744136810302734\n",
      "multi hist hist 執行時間:0.01577472686767578\n",
      "multi hist RMSE 執行時間:9.632110595703125e-05\n",
      "multi hist 執行時間:0.01593494415283203\n",
      "multi hist hist 執行時間:0.016276121139526367\n",
      "multi hist RMSE 執行時間:0.00010442733764648438\n",
      "multi hist 執行時間:0.016447782516479492\n"
     ]
    },
    {
     "name": "stderr",
     "output_type": "stream",
     "text": [
      "總進度:  67%|██████▋   | 673/1000 [00:38<00:18, 17.55it/s]"
     ]
    },
    {
     "name": "stdout",
     "output_type": "stream",
     "text": [
      "multi hist hist 執行時間:0.018581151962280273\n",
      "multi hist RMSE 執行時間:0.000263214111328125\n",
      "multi hist 執行時間:0.01897263526916504\n"
     ]
    },
    {
     "name": "stderr",
     "output_type": "stream",
     "text": [
      "總進度:  68%|██████▊   | 675/1000 [00:38<00:18, 17.38it/s]"
     ]
    },
    {
     "name": "stdout",
     "output_type": "stream",
     "text": [
      "multi hist hist 執行時間:0.016974687576293945\n",
      "multi hist RMSE 執行時間:0.00017786026000976562\n",
      "multi hist 執行時間:0.017374038696289062\n",
      "multi hist hist 執行時間:0.015157222747802734\n",
      "multi hist RMSE 執行時間:0.00012350082397460938\n",
      "multi hist 執行時間:0.015354633331298828\n",
      "multi hist hist 執行時間:0.014280319213867188\n",
      "multi hist RMSE 執行時間:9.584426879882812e-05\n",
      "multi hist 執行時間:0.014444828033447266\n"
     ]
    },
    {
     "name": "stderr",
     "output_type": "stream",
     "text": [
      "總進度:  68%|██████▊   | 677/1000 [00:38<00:18, 17.49it/s]"
     ]
    },
    {
     "name": "stdout",
     "output_type": "stream",
     "text": [
      "multi hist hist 執行時間:0.014738798141479492\n",
      "multi hist RMSE 執行時間:0.00012135505676269531\n",
      "multi hist 執行時間:0.015080451965332031\n"
     ]
    },
    {
     "name": "stderr",
     "output_type": "stream",
     "text": [
      "總進度:  68%|██████▊   | 679/1000 [00:38<00:18, 17.55it/s]"
     ]
    },
    {
     "name": "stdout",
     "output_type": "stream",
     "text": [
      "multi hist hist 執行時間:0.01604604721069336\n",
      "multi hist RMSE 執行時間:0.00012683868408203125\n",
      "multi hist 執行時間:0.016385793685913086\n",
      "multi hist hist 執行時間:0.014793157577514648\n",
      "multi hist RMSE 執行時間:9.393692016601562e-05\n",
      "multi hist 執行時間:0.014950275421142578\n",
      "multi hist hist 執行時間:0.014049768447875977\n",
      "multi hist RMSE 執行時間:0.00012087821960449219\n",
      "multi hist 執行時間:0.014247894287109375\n"
     ]
    },
    {
     "name": "stderr",
     "output_type": "stream",
     "text": [
      "總進度:  68%|██████▊   | 681/1000 [00:38<00:17, 17.75it/s]"
     ]
    },
    {
     "name": "stdout",
     "output_type": "stream",
     "text": [
      "multi hist hist 執行時間:0.014694929122924805\n",
      "multi hist RMSE 執行時間:0.00018453598022460938\n",
      "multi hist 執行時間:0.015135049819946289\n"
     ]
    },
    {
     "name": "stderr",
     "output_type": "stream",
     "text": [
      "總進度:  68%|██████▊   | 683/1000 [00:38<00:17, 17.94it/s]"
     ]
    },
    {
     "name": "stdout",
     "output_type": "stream",
     "text": [
      "multi hist hist 執行時間:0.015262126922607422\n",
      "multi hist RMSE 執行時間:0.00021886825561523438\n",
      "multi hist 執行時間:0.015591621398925781\n",
      "multi hist hist 執行時間:0.014939069747924805\n",
      "multi hist RMSE 執行時間:0.00010848045349121094\n",
      "multi hist 執行時間:0.015109539031982422\n",
      "multi hist hist 執行時間:0.014378786087036133\n",
      "multi hist RMSE 執行時間:0.00010967254638671875\n",
      "multi hist 執行時間:0.014569520950317383\n"
     ]
    },
    {
     "name": "stderr",
     "output_type": "stream",
     "text": [
      "總進度:  68%|██████▊   | 685/1000 [00:38<00:17, 18.01it/s]"
     ]
    },
    {
     "name": "stdout",
     "output_type": "stream",
     "text": [
      "multi hist hist 執行時間:0.016031265258789062\n",
      "multi hist RMSE 執行時間:0.00014257431030273438\n",
      "multi hist 執行時間:0.016434669494628906\n"
     ]
    },
    {
     "name": "stderr",
     "output_type": "stream",
     "text": [
      "總進度:  69%|██████▊   | 687/1000 [00:39<00:17, 17.77it/s]"
     ]
    },
    {
     "name": "stdout",
     "output_type": "stream",
     "text": [
      "multi hist hist 執行時間:0.014909744262695312\n",
      "multi hist RMSE 執行時間:0.00022912025451660156\n",
      "multi hist 執行時間:0.015248775482177734\n",
      "multi hist hist 執行時間:0.016488313674926758\n",
      "multi hist RMSE 執行時間:0.00010371208190917969\n",
      "multi hist 執行時間:0.01665973663330078\n",
      "multi hist hist 執行時間:0.015058040618896484\n",
      "multi hist RMSE 執行時間:0.00010013580322265625\n",
      "multi hist 執行時間:0.015228271484375\n"
     ]
    },
    {
     "name": "stderr",
     "output_type": "stream",
     "text": [
      "總進度:  69%|██████▉   | 689/1000 [00:39<00:17, 17.57it/s]"
     ]
    },
    {
     "name": "stdout",
     "output_type": "stream",
     "text": [
      "multi hist hist 執行時間:0.016098499298095703\n",
      "multi hist RMSE 執行時間:0.0005619525909423828\n",
      "multi hist 執行時間:0.016869068145751953\n"
     ]
    },
    {
     "name": "stderr",
     "output_type": "stream",
     "text": [
      "總進度:  69%|██████▉   | 691/1000 [00:39<00:18, 17.10it/s]"
     ]
    },
    {
     "name": "stdout",
     "output_type": "stream",
     "text": [
      "multi hist hist 執行時間:0.015863656997680664\n",
      "multi hist RMSE 執行時間:0.0003256797790527344\n",
      "multi hist 執行時間:0.016341447830200195\n",
      "multi hist hist 執行時間:0.01584458351135254\n",
      "multi hist RMSE 執行時間:9.512901306152344e-05\n",
      "multi hist 執行時間:0.01599740982055664\n",
      "multi hist hist 執行時間:0.016108274459838867\n",
      "multi hist RMSE 執行時間:0.00010180473327636719\n",
      "multi hist 執行時間:0.01628899574279785\n"
     ]
    },
    {
     "name": "stderr",
     "output_type": "stream",
     "text": [
      "總進度:  69%|██████▉   | 693/1000 [00:39<00:17, 17.25it/s]"
     ]
    },
    {
     "name": "stdout",
     "output_type": "stream",
     "text": [
      "multi hist hist 執行時間:0.015301704406738281\n",
      "multi hist RMSE 執行時間:0.00017976760864257812\n",
      "multi hist 執行時間:0.01576375961303711\n"
     ]
    },
    {
     "name": "stderr",
     "output_type": "stream",
     "text": [
      "總進度:  70%|██████▉   | 695/1000 [00:39<00:17, 17.45it/s]"
     ]
    },
    {
     "name": "stdout",
     "output_type": "stream",
     "text": [
      "multi hist hist 執行時間:0.015604972839355469\n",
      "multi hist RMSE 執行時間:0.00018286705017089844\n",
      "multi hist 執行時間:0.016080617904663086\n",
      "multi hist hist 執行時間:0.014901399612426758\n",
      "multi hist RMSE 執行時間:9.655952453613281e-05\n",
      "multi hist 執行時間:0.01507425308227539\n",
      "multi hist hist 執行時間:0.015376091003417969\n",
      "multi hist RMSE 執行時間:0.00010013580322265625\n",
      "multi hist 執行時間:0.015543699264526367\n"
     ]
    },
    {
     "name": "stderr",
     "output_type": "stream",
     "text": [
      "總進度:  70%|██████▉   | 697/1000 [00:39<00:17, 17.60it/s]"
     ]
    },
    {
     "name": "stdout",
     "output_type": "stream",
     "text": [
      "multi hist hist 執行時間:0.014210224151611328\n",
      "multi hist RMSE 執行時間:0.00032448768615722656\n",
      "multi hist 執行時間:0.0146942138671875\n"
     ]
    },
    {
     "name": "stderr",
     "output_type": "stream",
     "text": [
      "總進度:  70%|██████▉   | 699/1000 [00:39<00:17, 17.65it/s]"
     ]
    },
    {
     "name": "stdout",
     "output_type": "stream",
     "text": [
      "multi hist hist 執行時間:0.015995025634765625\n",
      "multi hist RMSE 執行時間:0.00015306472778320312\n",
      "multi hist 執行時間:0.01636648178100586\n",
      "multi hist hist 執行時間:0.014216184616088867\n",
      "multi hist RMSE 執行時間:8.988380432128906e-05\n",
      "multi hist 執行時間:0.01436614990234375\n",
      "multi hist hist 執行時間:0.015653133392333984\n",
      "multi hist RMSE 執行時間:9.632110595703125e-05\n",
      "multi hist 執行時間:0.01581740379333496\n"
     ]
    },
    {
     "name": "stderr",
     "output_type": "stream",
     "text": [
      "總進度:  70%|███████   | 701/1000 [00:39<00:16, 17.73it/s]"
     ]
    },
    {
     "name": "stdout",
     "output_type": "stream",
     "text": [
      "multi hist hist 執行時間:0.015230178833007812\n",
      "multi hist RMSE 執行時間:0.00017023086547851562\n",
      "multi hist 執行時間:0.015635967254638672\n"
     ]
    },
    {
     "name": "stderr",
     "output_type": "stream",
     "text": [
      "總進度:  70%|███████   | 703/1000 [00:39<00:17, 17.22it/s]"
     ]
    },
    {
     "name": "stdout",
     "output_type": "stream",
     "text": [
      "multi hist hist 執行時間:0.016922473907470703\n",
      "multi hist RMSE 執行時間:0.0007660388946533203\n",
      "multi hist 執行時間:0.017929553985595703\n",
      "multi hist hist 執行時間:0.014696836471557617\n",
      "multi hist RMSE 執行時間:0.0001068115234375\n",
      "multi hist 執行時間:0.014877557754516602\n",
      "multi hist hist 執行時間:0.014632940292358398\n",
      "multi hist RMSE 執行時間:9.965896606445312e-05\n",
      "multi hist 執行時間:0.014800310134887695\n"
     ]
    },
    {
     "name": "stderr",
     "output_type": "stream",
     "text": [
      "總進度:  70%|███████   | 705/1000 [00:40<00:16, 17.47it/s]"
     ]
    },
    {
     "name": "stdout",
     "output_type": "stream",
     "text": [
      "multi hist hist 執行時間:0.015166282653808594\n",
      "multi hist RMSE 執行時間:0.00023126602172851562\n",
      "multi hist 執行時間:0.015659809112548828\n"
     ]
    },
    {
     "name": "stderr",
     "output_type": "stream",
     "text": [
      "總進度:  71%|███████   | 707/1000 [00:40<00:16, 17.70it/s]"
     ]
    },
    {
     "name": "stdout",
     "output_type": "stream",
     "text": [
      "multi hist hist 執行時間:0.014987468719482422\n",
      "multi hist RMSE 執行時間:0.00013065338134765625\n",
      "multi hist 執行時間:0.015346050262451172\n",
      "multi hist hist 執行時間:0.014986515045166016\n",
      "multi hist RMSE 執行時間:0.00011348724365234375\n",
      "multi hist 執行時間:0.015172004699707031\n",
      "multi hist hist 執行時間:0.015437602996826172\n",
      "multi hist RMSE 執行時間:9.965896606445312e-05\n",
      "multi hist 執行時間:0.015606403350830078\n"
     ]
    },
    {
     "name": "stderr",
     "output_type": "stream",
     "text": [
      "總進度:  71%|███████   | 709/1000 [00:40<00:16, 17.87it/s]"
     ]
    },
    {
     "name": "stdout",
     "output_type": "stream",
     "text": [
      "multi hist hist 執行時間:0.014912843704223633\n",
      "multi hist RMSE 執行時間:0.00018095970153808594\n",
      "multi hist 執行時間:0.015293359756469727\n"
     ]
    },
    {
     "name": "stderr",
     "output_type": "stream",
     "text": [
      "總進度:  71%|███████   | 711/1000 [00:40<00:16, 17.89it/s]"
     ]
    },
    {
     "name": "stdout",
     "output_type": "stream",
     "text": [
      "multi hist hist 執行時間:0.014844417572021484\n",
      "multi hist RMSE 執行時間:0.00016236305236816406\n",
      "multi hist 執行時間:0.015201807022094727\n",
      "multi hist hist 執行時間:0.01614093780517578\n",
      "multi hist RMSE 執行時間:0.00010061264038085938\n",
      "multi hist 執行時間:0.016305923461914062\n",
      "multi hist hist 執行時間:0.015078067779541016\n",
      "multi hist RMSE 執行時間:0.00010204315185546875\n",
      "multi hist 執行時間:0.015246391296386719\n"
     ]
    },
    {
     "name": "stderr",
     "output_type": "stream",
     "text": [
      "總進度:  71%|███████▏  | 713/1000 [00:40<00:15, 18.08it/s]"
     ]
    },
    {
     "name": "stdout",
     "output_type": "stream",
     "text": [
      "multi hist hist 執行時間:0.014867067337036133\n",
      "multi hist RMSE 執行時間:0.00017786026000976562\n",
      "multi hist 執行時間:0.015237569808959961\n"
     ]
    },
    {
     "name": "stderr",
     "output_type": "stream",
     "text": [
      "總進度:  72%|███████▏  | 715/1000 [00:40<00:15, 18.11it/s]"
     ]
    },
    {
     "name": "stdout",
     "output_type": "stream",
     "text": [
      "multi hist hist 執行時間:0.014335870742797852\n",
      "multi hist RMSE 執行時間:0.00018095970153808594\n",
      "multi hist 執行時間:0.014773845672607422\n",
      "multi hist hist 執行時間:0.015086174011230469\n",
      "multi hist RMSE 執行時間:9.322166442871094e-05\n",
      "multi hist 執行時間:0.015240669250488281\n",
      "multi hist hist 執行時間:0.01819586753845215\n",
      "multi hist RMSE 執行時間:0.00027871131896972656\n",
      "multi hist 執行時間:0.01862645149230957\n"
     ]
    },
    {
     "name": "stderr",
     "output_type": "stream",
     "text": [
      "總進度:  72%|███████▏  | 717/1000 [00:40<00:15, 17.70it/s]"
     ]
    },
    {
     "name": "stdout",
     "output_type": "stream",
     "text": [
      "multi hist hist 執行時間:0.01703667640686035\n",
      "multi hist RMSE 執行時間:0.00045609474182128906\n",
      "multi hist 執行時間:0.01770925521850586\n"
     ]
    },
    {
     "name": "stderr",
     "output_type": "stream",
     "text": [
      "總進度:  72%|███████▏  | 719/1000 [00:40<00:16, 17.47it/s]"
     ]
    },
    {
     "name": "stdout",
     "output_type": "stream",
     "text": [
      "multi hist hist 執行時間:0.015221357345581055\n",
      "multi hist RMSE 執行時間:0.0001697540283203125\n",
      "multi hist 執行時間:0.015652894973754883\n",
      "multi hist hist 執行時間:0.015007257461547852\n",
      "multi hist RMSE 執行時間:9.012222290039062e-05\n",
      "multi hist 執行時間:0.015155553817749023\n",
      "multi hist hist 執行時間:0.015997648239135742\n",
      "multi hist RMSE 執行時間:0.00010800361633300781\n",
      "multi hist 執行時間:0.016176462173461914\n"
     ]
    },
    {
     "name": "stderr",
     "output_type": "stream",
     "text": [
      "總進度:  72%|███████▏  | 721/1000 [00:40<00:15, 17.56it/s]"
     ]
    },
    {
     "name": "stdout",
     "output_type": "stream",
     "text": [
      "multi hist hist 執行時間:0.015192508697509766\n",
      "multi hist RMSE 執行時間:0.0002663135528564453\n",
      "multi hist 執行時間:0.015604972839355469\n"
     ]
    },
    {
     "name": "stderr",
     "output_type": "stream",
     "text": [
      "總進度:  72%|███████▏  | 723/1000 [00:41<00:15, 17.77it/s]"
     ]
    },
    {
     "name": "stdout",
     "output_type": "stream",
     "text": [
      "multi hist hist 執行時間:0.015156745910644531\n",
      "multi hist RMSE 執行時間:0.00020003318786621094\n",
      "multi hist 執行時間:0.01557612419128418\n",
      "multi hist hist 執行時間:0.016130685806274414\n",
      "multi hist RMSE 執行時間:9.846687316894531e-05\n",
      "multi hist 執行時間:0.01629471778869629\n",
      "multi hist hist 執行時間:0.01609039306640625\n",
      "multi hist RMSE 執行時間:0.0001010894775390625\n",
      "multi hist 執行時間:0.016259193420410156\n"
     ]
    },
    {
     "name": "stderr",
     "output_type": "stream",
     "text": [
      "總進度:  72%|███████▎  | 725/1000 [00:41<00:15, 17.80it/s]"
     ]
    },
    {
     "name": "stdout",
     "output_type": "stream",
     "text": [
      "multi hist hist 執行時間:0.01476287841796875\n",
      "multi hist RMSE 執行時間:0.00016188621520996094\n",
      "multi hist 執行時間:0.015162467956542969\n"
     ]
    },
    {
     "name": "stderr",
     "output_type": "stream",
     "text": [
      "總進度:  73%|███████▎  | 727/1000 [00:41<00:15, 17.76it/s]"
     ]
    },
    {
     "name": "stdout",
     "output_type": "stream",
     "text": [
      "multi hist hist 執行時間:0.015966415405273438\n",
      "multi hist RMSE 執行時間:0.00016760826110839844\n",
      "multi hist 執行時間:0.016358613967895508\n",
      "multi hist hist 執行時間:0.015646696090698242\n",
      "multi hist RMSE 執行時間:9.1552734375e-05\n",
      "multi hist 執行時間:0.01579761505126953\n",
      "multi hist hist 執行時間:0.0161435604095459\n",
      "multi hist RMSE 執行時間:0.00048828125\n",
      "multi hist 執行時間:0.016747236251831055\n"
     ]
    },
    {
     "name": "stderr",
     "output_type": "stream",
     "text": [
      "總進度:  73%|███████▎  | 729/1000 [00:41<00:15, 17.79it/s]"
     ]
    },
    {
     "name": "stdout",
     "output_type": "stream",
     "text": [
      "multi hist hist 執行時間:0.014608621597290039\n",
      "multi hist RMSE 執行時間:0.00016641616821289062\n",
      "multi hist 執行時間:0.015026569366455078\n"
     ]
    },
    {
     "name": "stderr",
     "output_type": "stream",
     "text": [
      "總進度:  73%|███████▎  | 731/1000 [00:41<00:15, 17.60it/s]"
     ]
    },
    {
     "name": "stdout",
     "output_type": "stream",
     "text": [
      "multi hist hist 執行時間:0.015270471572875977\n",
      "multi hist RMSE 執行時間:0.0003352165222167969\n",
      "multi hist 執行時間:0.015748977661132812\n",
      "multi hist hist 執行時間:0.015243768692016602\n",
      "multi hist RMSE 執行時間:0.00011420249938964844\n",
      "multi hist 執行時間:0.015421628952026367\n",
      "multi hist hist 執行時間:0.014849424362182617\n",
      "multi hist RMSE 執行時間:9.965896606445312e-05\n",
      "multi hist 執行時間:0.015016794204711914\n"
     ]
    },
    {
     "name": "stderr",
     "output_type": "stream",
     "text": [
      "總進度:  73%|███████▎  | 733/1000 [00:41<00:14, 17.83it/s]"
     ]
    },
    {
     "name": "stdout",
     "output_type": "stream",
     "text": [
      "multi hist hist 執行時間:0.015237092971801758\n",
      "multi hist RMSE 執行時間:0.00011801719665527344\n",
      "multi hist 執行時間:0.01557016372680664\n"
     ]
    },
    {
     "name": "stderr",
     "output_type": "stream",
     "text": [
      "總進度:  74%|███████▎  | 735/1000 [00:41<00:14, 17.82it/s]"
     ]
    },
    {
     "name": "stdout",
     "output_type": "stream",
     "text": [
      "multi hist hist 執行時間:0.01464533805847168\n",
      "multi hist RMSE 執行時間:0.00013184547424316406\n",
      "multi hist 執行時間:0.014966964721679688\n",
      "multi hist hist 執行時間:0.01560664176940918\n",
      "multi hist RMSE 執行時間:0.00011348724365234375\n",
      "multi hist 執行時間:0.015790700912475586\n",
      "multi hist hist 執行時間:0.016070842742919922\n",
      "multi hist RMSE 執行時間:0.00010395050048828125\n",
      "multi hist 執行時間:0.016251087188720703\n"
     ]
    },
    {
     "name": "stderr",
     "output_type": "stream",
     "text": [
      "總進度:  74%|███████▎  | 737/1000 [00:41<00:14, 17.94it/s]"
     ]
    },
    {
     "name": "stdout",
     "output_type": "stream",
     "text": [
      "multi hist hist 執行時間:0.014008760452270508\n",
      "multi hist RMSE 執行時間:0.0001366138458251953\n",
      "multi hist 執行時間:0.014354467391967773\n"
     ]
    },
    {
     "name": "stderr",
     "output_type": "stream",
     "text": [
      "總進度:  74%|███████▍  | 739/1000 [00:41<00:14, 17.93it/s]"
     ]
    },
    {
     "name": "stdout",
     "output_type": "stream",
     "text": [
      "multi hist hist 執行時間:0.015973567962646484\n",
      "multi hist RMSE 執行時間:0.00012683868408203125\n",
      "multi hist 執行時間:0.016306638717651367\n",
      "multi hist hist 執行時間:0.014891862869262695\n",
      "multi hist RMSE 執行時間:0.0001087188720703125\n",
      "multi hist 執行時間:0.015069007873535156\n",
      "multi hist hist 執行時間:0.015868663787841797\n",
      "multi hist RMSE 執行時間:0.00011086463928222656\n",
      "multi hist 執行時間:0.016054868698120117\n"
     ]
    },
    {
     "name": "stderr",
     "output_type": "stream",
     "text": [
      "總進度:  74%|███████▍  | 741/1000 [00:42<00:14, 17.88it/s]"
     ]
    },
    {
     "name": "stdout",
     "output_type": "stream",
     "text": [
      "multi hist hist 執行時間:0.015200138092041016\n",
      "multi hist RMSE 執行時間:0.0001316070556640625\n",
      "multi hist 執行時間:0.015544652938842773\n"
     ]
    },
    {
     "name": "stderr",
     "output_type": "stream",
     "text": [
      "總進度:  74%|███████▍  | 743/1000 [00:42<00:14, 17.97it/s]"
     ]
    },
    {
     "name": "stdout",
     "output_type": "stream",
     "text": [
      "multi hist hist 執行時間:0.014992713928222656\n",
      "multi hist RMSE 執行時間:0.00014710426330566406\n",
      "multi hist 執行時間:0.015410184860229492\n",
      "multi hist hist 執行時間:0.014180898666381836\n",
      "multi hist RMSE 執行時間:0.00010752677917480469\n",
      "multi hist 執行時間:0.014354944229125977\n",
      "multi hist hist 執行時間:0.015228033065795898\n",
      "multi hist RMSE 執行時間:0.00010943412780761719\n",
      "multi hist 執行時間:0.015411376953125\n"
     ]
    },
    {
     "name": "stderr",
     "output_type": "stream",
     "text": [
      "總進度:  74%|███████▍  | 745/1000 [00:42<00:14, 18.02it/s]"
     ]
    },
    {
     "name": "stdout",
     "output_type": "stream",
     "text": [
      "multi hist hist 執行時間:0.015127897262573242\n",
      "multi hist RMSE 執行時間:0.00023698806762695312\n",
      "multi hist 執行時間:0.015488147735595703\n"
     ]
    },
    {
     "name": "stderr",
     "output_type": "stream",
     "text": [
      "總進度:  75%|███████▍  | 747/1000 [00:42<00:14, 17.49it/s]"
     ]
    },
    {
     "name": "stdout",
     "output_type": "stream",
     "text": [
      "multi hist hist 執行時間:0.015096187591552734\n",
      "multi hist RMSE 執行時間:0.0004146099090576172\n",
      "multi hist 執行時間:0.015696287155151367\n",
      "multi hist hist 執行時間:0.015990018844604492\n",
      "multi hist RMSE 執行時間:0.00010800361633300781\n",
      "multi hist 執行時間:0.016156673431396484\n",
      "multi hist hist 執行時間:0.01488041877746582\n",
      "multi hist RMSE 執行時間:9.202957153320312e-05\n",
      "multi hist 執行時間:0.015038013458251953\n"
     ]
    },
    {
     "name": "stderr",
     "output_type": "stream",
     "text": [
      "總進度:  75%|███████▍  | 749/1000 [00:42<00:14, 17.62it/s]"
     ]
    },
    {
     "name": "stdout",
     "output_type": "stream",
     "text": [
      "multi hist hist 執行時間:0.015009641647338867\n",
      "multi hist RMSE 執行時間:0.0002815723419189453\n",
      "multi hist 執行時間:0.015476703643798828\n"
     ]
    },
    {
     "name": "stderr",
     "output_type": "stream",
     "text": [
      "總進度:  75%|███████▌  | 751/1000 [00:42<00:14, 17.75it/s]"
     ]
    },
    {
     "name": "stdout",
     "output_type": "stream",
     "text": [
      "multi hist hist 執行時間:0.01517939567565918\n",
      "multi hist RMSE 執行時間:0.00019407272338867188\n",
      "multi hist 執行時間:0.015601634979248047\n",
      "multi hist hist 執行時間:0.01517486572265625\n",
      "multi hist RMSE 執行時間:0.00010418891906738281\n",
      "multi hist 執行時間:0.015342473983764648\n",
      "multi hist hist 執行時間:0.014783859252929688\n",
      "multi hist RMSE 執行時間:0.00013947486877441406\n",
      "multi hist 執行時間:0.014988422393798828\n"
     ]
    },
    {
     "name": "stderr",
     "output_type": "stream",
     "text": [
      "總進度:  75%|███████▌  | 753/1000 [00:42<00:13, 17.69it/s]"
     ]
    },
    {
     "name": "stdout",
     "output_type": "stream",
     "text": [
      "multi hist hist 執行時間:0.015878677368164062\n",
      "multi hist RMSE 執行時間:0.00036334991455078125\n",
      "multi hist 執行時間:0.01642894744873047\n"
     ]
    },
    {
     "name": "stderr",
     "output_type": "stream",
     "text": [
      "總進度:  76%|███████▌  | 755/1000 [00:42<00:13, 17.71it/s]"
     ]
    },
    {
     "name": "stdout",
     "output_type": "stream",
     "text": [
      "multi hist hist 執行時間:0.016231060028076172\n",
      "multi hist RMSE 執行時間:0.00018525123596191406\n",
      "multi hist 執行時間:0.016661405563354492\n",
      "multi hist hist 執行時間:0.015094995498657227\n",
      "multi hist RMSE 執行時間:0.00010466575622558594\n",
      "multi hist 執行時間:0.015268564224243164\n",
      "multi hist hist 執行時間:0.014894485473632812\n",
      "multi hist RMSE 執行時間:0.00010538101196289062\n",
      "multi hist 執行時間:0.015065193176269531\n"
     ]
    },
    {
     "name": "stderr",
     "output_type": "stream",
     "text": [
      "總進度:  76%|███████▌  | 757/1000 [00:42<00:13, 17.70it/s]"
     ]
    },
    {
     "name": "stdout",
     "output_type": "stream",
     "text": [
      "multi hist hist 執行時間:0.015135049819946289\n",
      "multi hist RMSE 執行時間:0.00017333030700683594\n",
      "multi hist 執行時間:0.015532732009887695\n"
     ]
    },
    {
     "name": "stderr",
     "output_type": "stream",
     "text": [
      "總進度:  76%|███████▌  | 759/1000 [00:43<00:13, 17.55it/s]"
     ]
    },
    {
     "name": "stdout",
     "output_type": "stream",
     "text": [
      "multi hist hist 執行時間:0.014593839645385742\n",
      "multi hist RMSE 執行時間:0.0003337860107421875\n",
      "multi hist 執行時間:0.015067338943481445\n",
      "multi hist hist 執行時間:0.016101360321044922\n",
      "multi hist RMSE 執行時間:9.751319885253906e-05\n",
      "multi hist 執行時間:0.01626443862915039\n",
      "multi hist hist 執行時間:0.014580726623535156\n",
      "multi hist RMSE 執行時間:0.00018906593322753906\n",
      "multi hist 執行時間:0.014844417572021484\n"
     ]
    },
    {
     "name": "stderr",
     "output_type": "stream",
     "text": [
      "總進度:  76%|███████▌  | 761/1000 [00:43<00:13, 17.17it/s]"
     ]
    },
    {
     "name": "stdout",
     "output_type": "stream",
     "text": [
      "multi hist hist 執行時間:0.0165560245513916\n",
      "multi hist RMSE 執行時間:0.00030350685119628906\n",
      "multi hist 執行時間:0.017005205154418945\n"
     ]
    },
    {
     "name": "stderr",
     "output_type": "stream",
     "text": [
      "總進度:  76%|███████▋  | 763/1000 [00:43<00:13, 17.14it/s]"
     ]
    },
    {
     "name": "stdout",
     "output_type": "stream",
     "text": [
      "multi hist hist 執行時間:0.016208648681640625\n",
      "multi hist RMSE 執行時間:0.00014519691467285156\n",
      "multi hist 執行時間:0.016742229461669922\n",
      "multi hist hist 執行時間:0.014614582061767578\n",
      "multi hist RMSE 執行時間:9.417533874511719e-05\n",
      "multi hist 執行時間:0.014772653579711914\n",
      "multi hist hist 執行時間:0.014850139617919922\n",
      "multi hist RMSE 執行時間:9.822845458984375e-05\n",
      "multi hist 執行時間:0.015016317367553711\n"
     ]
    },
    {
     "name": "stderr",
     "output_type": "stream",
     "text": [
      "總進度:  76%|███████▋  | 765/1000 [00:43<00:13, 17.38it/s]"
     ]
    },
    {
     "name": "stdout",
     "output_type": "stream",
     "text": [
      "multi hist hist 執行時間:0.015371322631835938\n",
      "multi hist RMSE 執行時間:0.0001761913299560547\n",
      "multi hist 執行時間:0.015791893005371094\n"
     ]
    },
    {
     "name": "stderr",
     "output_type": "stream",
     "text": [
      "總進度:  77%|███████▋  | 767/1000 [00:43<00:13, 17.38it/s]"
     ]
    },
    {
     "name": "stdout",
     "output_type": "stream",
     "text": [
      "multi hist hist 執行時間:0.015446186065673828\n",
      "multi hist RMSE 執行時間:0.00020003318786621094\n",
      "multi hist 執行時間:0.015898942947387695\n",
      "multi hist hist 執行時間:0.015235185623168945\n",
      "multi hist RMSE 執行時間:0.00010514259338378906\n",
      "multi hist 執行時間:0.015406131744384766\n",
      "multi hist hist 執行時間:0.014900445938110352\n",
      "multi hist RMSE 執行時間:0.00011920928955078125\n",
      "multi hist 執行時間:0.01509714126586914\n"
     ]
    },
    {
     "name": "stderr",
     "output_type": "stream",
     "text": [
      "總進度:  77%|███████▋  | 769/1000 [00:43<00:13, 17.44it/s]"
     ]
    },
    {
     "name": "stdout",
     "output_type": "stream",
     "text": [
      "multi hist hist 執行時間:0.014969587326049805\n",
      "multi hist RMSE 執行時間:0.00031876564025878906\n",
      "multi hist 執行時間:0.015443801879882812\n"
     ]
    },
    {
     "name": "stderr",
     "output_type": "stream",
     "text": [
      "總進度:  77%|███████▋  | 771/1000 [00:43<00:12, 17.62it/s]"
     ]
    },
    {
     "name": "stdout",
     "output_type": "stream",
     "text": [
      "multi hist hist 執行時間:0.014936208724975586\n",
      "multi hist RMSE 執行時間:0.0003426074981689453\n",
      "multi hist 執行時間:0.015412330627441406\n",
      "multi hist hist 執行時間:0.014337301254272461\n",
      "multi hist RMSE 執行時間:0.00010704994201660156\n",
      "multi hist 執行時間:0.014514923095703125\n",
      "multi hist hist 執行時間:0.014827251434326172\n",
      "multi hist RMSE 執行時間:9.560585021972656e-05\n",
      "multi hist 執行時間:0.01500248908996582\n"
     ]
    },
    {
     "name": "stderr",
     "output_type": "stream",
     "text": [
      "總進度:  77%|███████▋  | 773/1000 [00:43<00:12, 17.58it/s]"
     ]
    },
    {
     "name": "stdout",
     "output_type": "stream",
     "text": [
      "multi hist hist 執行時間:0.016324996948242188\n",
      "multi hist RMSE 執行時間:0.00023365020751953125\n",
      "multi hist 執行時間:0.016681432723999023\n"
     ]
    },
    {
     "name": "stderr",
     "output_type": "stream",
     "text": [
      "總進度:  78%|███████▊  | 775/1000 [00:44<00:12, 17.41it/s]"
     ]
    },
    {
     "name": "stdout",
     "output_type": "stream",
     "text": [
      "multi hist hist 執行時間:0.015261650085449219\n",
      "multi hist RMSE 執行時間:0.00014328956604003906\n",
      "multi hist 執行時間:0.015676498413085938\n",
      "multi hist hist 執行時間:0.015462398529052734\n",
      "multi hist RMSE 執行時間:0.0002818107604980469\n",
      "multi hist 執行時間:0.015886783599853516\n",
      "multi hist hist 執行時間:0.015305757522583008\n",
      "multi hist RMSE 執行時間:0.00011539459228515625\n",
      "multi hist 執行時間:0.015491724014282227\n"
     ]
    },
    {
     "name": "stderr",
     "output_type": "stream",
     "text": [
      "總進度:  78%|███████▊  | 777/1000 [00:44<00:12, 17.51it/s]"
     ]
    },
    {
     "name": "stdout",
     "output_type": "stream",
     "text": [
      "multi hist hist 執行時間:0.01495981216430664\n",
      "multi hist RMSE 執行時間:0.0002315044403076172\n",
      "multi hist 執行時間:0.015401363372802734\n"
     ]
    },
    {
     "name": "stderr",
     "output_type": "stream",
     "text": [
      "總進度:  78%|███████▊  | 779/1000 [00:44<00:12, 17.60it/s]"
     ]
    },
    {
     "name": "stdout",
     "output_type": "stream",
     "text": [
      "multi hist hist 執行時間:0.015779733657836914\n",
      "multi hist RMSE 執行時間:0.00014472007751464844\n",
      "multi hist 執行時間:0.01619267463684082\n",
      "multi hist hist 執行時間:0.014977693557739258\n",
      "multi hist RMSE 執行時間:0.00010013580322265625\n",
      "multi hist 執行時間:0.015144824981689453\n",
      "multi hist hist 執行時間:0.014981269836425781\n",
      "multi hist RMSE 執行時間:0.00011420249938964844\n",
      "multi hist 執行時間:0.015164852142333984\n"
     ]
    },
    {
     "name": "stderr",
     "output_type": "stream",
     "text": [
      "總進度:  78%|███████▊  | 781/1000 [00:44<00:12, 17.66it/s]"
     ]
    },
    {
     "name": "stdout",
     "output_type": "stream",
     "text": [
      "multi hist hist 執行時間:0.014763593673706055\n",
      "multi hist RMSE 執行時間:0.00017309188842773438\n",
      "multi hist 執行時間:0.01526498794555664\n"
     ]
    },
    {
     "name": "stderr",
     "output_type": "stream",
     "text": [
      "總進度:  78%|███████▊  | 783/1000 [00:44<00:12, 17.83it/s]"
     ]
    },
    {
     "name": "stdout",
     "output_type": "stream",
     "text": [
      "multi hist hist 執行時間:0.014412403106689453\n",
      "multi hist RMSE 執行時間:0.00012564659118652344\n",
      "multi hist 執行時間:0.01475071907043457\n",
      "multi hist hist 執行時間:0.01497793197631836\n",
      "multi hist RMSE 執行時間:9.369850158691406e-05\n",
      "multi hist 執行時間:0.015132904052734375\n",
      "multi hist hist 執行時間:0.01438140869140625\n",
      "multi hist RMSE 執行時間:9.942054748535156e-05\n",
      "multi hist 執行時間:0.014545440673828125\n"
     ]
    },
    {
     "name": "stderr",
     "output_type": "stream",
     "text": [
      "總進度:  78%|███████▊  | 785/1000 [00:44<00:12, 17.85it/s]"
     ]
    },
    {
     "name": "stdout",
     "output_type": "stream",
     "text": [
      "multi hist hist 執行時間:0.014928102493286133\n",
      "multi hist RMSE 執行時間:0.00031948089599609375\n",
      "multi hist 執行時間:0.015383243560791016\n"
     ]
    },
    {
     "name": "stderr",
     "output_type": "stream",
     "text": [
      "總進度:  79%|███████▊  | 787/1000 [00:44<00:11, 17.85it/s]"
     ]
    },
    {
     "name": "stdout",
     "output_type": "stream",
     "text": [
      "multi hist hist 執行時間:0.015065908432006836\n",
      "multi hist RMSE 執行時間:0.00017547607421875\n",
      "multi hist 執行時間:0.015480756759643555\n",
      "multi hist hist 執行時間:0.015054941177368164\n",
      "multi hist RMSE 執行時間:9.799003601074219e-05\n",
      "multi hist 執行時間:0.015218496322631836\n",
      "multi hist hist 執行時間:0.016208648681640625\n",
      "multi hist RMSE 執行時間:0.0001423358917236328\n",
      "multi hist 執行時間:0.016434192657470703\n"
     ]
    },
    {
     "name": "stderr",
     "output_type": "stream",
     "text": [
      "總進度:  79%|███████▉  | 789/1000 [00:44<00:11, 17.64it/s]"
     ]
    },
    {
     "name": "stdout",
     "output_type": "stream",
     "text": [
      "multi hist hist 執行時間:0.013886451721191406\n",
      "multi hist RMSE 執行時間:0.0003476142883300781\n",
      "multi hist 執行時間:0.014384269714355469\n"
     ]
    },
    {
     "name": "stderr",
     "output_type": "stream",
     "text": [
      "總進度:  79%|███████▉  | 791/1000 [00:44<00:11, 17.71it/s]"
     ]
    },
    {
     "name": "stdout",
     "output_type": "stream",
     "text": [
      "multi hist hist 執行時間:0.015117168426513672\n",
      "multi hist RMSE 執行時間:0.00020384788513183594\n",
      "multi hist 執行時間:0.015635251998901367\n",
      "multi hist hist 執行時間:0.014832496643066406\n",
      "multi hist RMSE 執行時間:9.799003601074219e-05\n",
      "multi hist 執行時間:0.014993667602539062\n",
      "multi hist hist 執行時間:0.014901876449584961\n",
      "multi hist RMSE 執行時間:0.00010418891906738281\n",
      "multi hist 執行時間:0.01507878303527832\n"
     ]
    },
    {
     "name": "stderr",
     "output_type": "stream",
     "text": [
      "總進度:  79%|███████▉  | 793/1000 [00:45<00:11, 17.57it/s]"
     ]
    },
    {
     "name": "stdout",
     "output_type": "stream",
     "text": [
      "multi hist hist 執行時間:0.01494598388671875\n",
      "multi hist RMSE 執行時間:0.0001614093780517578\n",
      "multi hist 執行時間:0.015359163284301758\n"
     ]
    },
    {
     "name": "stderr",
     "output_type": "stream",
     "text": [
      "總進度:  80%|███████▉  | 795/1000 [00:45<00:11, 17.61it/s]"
     ]
    },
    {
     "name": "stdout",
     "output_type": "stream",
     "text": [
      "multi hist hist 執行時間:0.015070438385009766\n",
      "multi hist RMSE 執行時間:0.0001850128173828125\n",
      "multi hist 執行時間:0.015520095825195312\n",
      "multi hist hist 執行時間:0.016213417053222656\n",
      "multi hist RMSE 執行時間:9.608268737792969e-05\n",
      "multi hist 執行時間:0.016384363174438477\n",
      "multi hist hist 執行時間:0.014410018920898438\n",
      "multi hist RMSE 執行時間:8.893013000488281e-05\n",
      "multi hist 執行時間:0.014562368392944336\n"
     ]
    },
    {
     "name": "stderr",
     "output_type": "stream",
     "text": [
      "總進度:  80%|███████▉  | 797/1000 [00:45<00:11, 17.61it/s]"
     ]
    },
    {
     "name": "stdout",
     "output_type": "stream",
     "text": [
      "multi hist hist 執行時間:0.015759706497192383\n",
      "multi hist RMSE 執行時間:0.0001266002655029297\n",
      "multi hist 執行時間:0.01612401008605957\n"
     ]
    },
    {
     "name": "stderr",
     "output_type": "stream",
     "text": [
      "總進度:  80%|███████▉  | 799/1000 [00:45<00:11, 17.37it/s]"
     ]
    },
    {
     "name": "stdout",
     "output_type": "stream",
     "text": [
      "multi hist hist 執行時間:0.0150604248046875\n",
      "multi hist RMSE 執行時間:0.00015306472778320312\n",
      "multi hist 執行時間:0.015494346618652344\n",
      "multi hist hist 執行時間:0.016093730926513672\n",
      "multi hist RMSE 執行時間:0.00010013580322265625\n",
      "multi hist 執行時間:0.016260385513305664\n",
      "multi hist hist 執行時間:0.014193296432495117\n",
      "multi hist RMSE 執行時間:9.799003601074219e-05\n",
      "multi hist 執行時間:0.014358043670654297\n"
     ]
    },
    {
     "name": "stderr",
     "output_type": "stream",
     "text": [
      "總進度:  80%|████████  | 801/1000 [00:45<00:11, 17.29it/s]"
     ]
    },
    {
     "name": "stdout",
     "output_type": "stream",
     "text": [
      "multi hist hist 執行時間:0.01697564125061035\n",
      "multi hist RMSE 執行時間:0.0004622936248779297\n",
      "multi hist 執行時間:0.017656564712524414\n"
     ]
    },
    {
     "name": "stderr",
     "output_type": "stream",
     "text": [
      "總進度:  80%|████████  | 803/1000 [00:45<00:11, 17.27it/s]"
     ]
    },
    {
     "name": "stdout",
     "output_type": "stream",
     "text": [
      "multi hist hist 執行時間:0.015276908874511719\n",
      "multi hist RMSE 執行時間:0.0003185272216796875\n",
      "multi hist 執行時間:0.01575756072998047\n",
      "multi hist hist 執行時間:0.01509547233581543\n",
      "multi hist RMSE 執行時間:0.0001010894775390625\n",
      "multi hist 執行時間:0.015259981155395508\n",
      "multi hist hist 執行時間:0.01624131202697754\n",
      "multi hist RMSE 執行時間:0.0003292560577392578\n",
      "multi hist 執行時間:0.016650676727294922\n"
     ]
    },
    {
     "name": "stderr",
     "output_type": "stream",
     "text": [
      "總進度:  80%|████████  | 805/1000 [00:45<00:11, 17.43it/s]"
     ]
    },
    {
     "name": "stdout",
     "output_type": "stream",
     "text": [
      "multi hist hist 執行時間:0.015340805053710938\n",
      "multi hist RMSE 執行時間:0.00012922286987304688\n",
      "multi hist 執行時間:0.015714645385742188\n"
     ]
    },
    {
     "name": "stderr",
     "output_type": "stream",
     "text": [
      "總進度:  81%|████████  | 807/1000 [00:45<00:10, 17.74it/s]"
     ]
    },
    {
     "name": "stdout",
     "output_type": "stream",
     "text": [
      "multi hist hist 執行時間:0.015170574188232422\n",
      "multi hist RMSE 執行時間:0.00013113021850585938\n",
      "multi hist 執行時間:0.015523433685302734\n",
      "multi hist hist 執行時間:0.015170812606811523\n",
      "multi hist RMSE 執行時間:0.00010752677917480469\n",
      "multi hist 執行時間:0.015346050262451172\n",
      "multi hist hist 執行時間:0.014749526977539062\n",
      "multi hist RMSE 執行時間:0.00010037422180175781\n",
      "multi hist 執行時間:0.014914512634277344\n"
     ]
    },
    {
     "name": "stderr",
     "output_type": "stream",
     "text": [
      "總進度:  81%|████████  | 809/1000 [00:45<00:10, 17.86it/s]"
     ]
    },
    {
     "name": "stdout",
     "output_type": "stream",
     "text": [
      "multi hist hist 執行時間:0.016217708587646484\n",
      "multi hist RMSE 執行時間:0.00024628639221191406\n",
      "multi hist 執行時間:0.01659703254699707\n"
     ]
    },
    {
     "name": "stderr",
     "output_type": "stream",
     "text": [
      "總進度:  81%|████████  | 811/1000 [00:46<00:10, 17.99it/s]"
     ]
    },
    {
     "name": "stdout",
     "output_type": "stream",
     "text": [
      "multi hist hist 執行時間:0.014793634414672852\n",
      "multi hist RMSE 執行時間:0.00028443336486816406\n",
      "multi hist 執行時間:0.015211343765258789\n",
      "multi hist hist 執行時間:0.0163118839263916\n",
      "multi hist RMSE 執行時間:0.0002536773681640625\n",
      "multi hist 執行時間:0.016683578491210938\n",
      "multi hist hist 執行時間:0.01496267318725586\n",
      "multi hist RMSE 執行時間:0.00011181831359863281\n",
      "multi hist 執行時間:0.01514577865600586\n"
     ]
    },
    {
     "name": "stderr",
     "output_type": "stream",
     "text": [
      "總進度:  81%|████████▏ | 813/1000 [00:46<00:10, 17.99it/s]"
     ]
    },
    {
     "name": "stdout",
     "output_type": "stream",
     "text": [
      "multi hist hist 執行時間:0.01499032974243164\n",
      "multi hist RMSE 執行時間:0.00013637542724609375\n",
      "multi hist 執行時間:0.01534724235534668\n"
     ]
    },
    {
     "name": "stderr",
     "output_type": "stream",
     "text": [
      "總進度:  82%|████████▏ | 815/1000 [00:46<00:10, 17.98it/s]"
     ]
    },
    {
     "name": "stdout",
     "output_type": "stream",
     "text": [
      "multi hist hist 執行時間:0.01473689079284668\n",
      "multi hist RMSE 執行時間:0.00023293495178222656\n",
      "multi hist 執行時間:0.015076160430908203\n",
      "multi hist hist 執行時間:0.015790700912475586\n",
      "multi hist RMSE 執行時間:0.00010013580322265625\n",
      "multi hist 執行時間:0.015953540802001953\n",
      "multi hist hist 執行時間:0.015829086303710938\n",
      "multi hist RMSE 執行時間:0.0001270771026611328\n",
      "multi hist 執行時間:0.01603388786315918\n"
     ]
    },
    {
     "name": "stderr",
     "output_type": "stream",
     "text": [
      "總進度:  82%|████████▏ | 817/1000 [00:46<00:10, 17.87it/s]"
     ]
    },
    {
     "name": "stdout",
     "output_type": "stream",
     "text": [
      "multi hist hist 執行時間:0.014860153198242188\n",
      "multi hist RMSE 執行時間:0.00017595291137695312\n",
      "multi hist 執行時間:0.01530003547668457\n"
     ]
    },
    {
     "name": "stderr",
     "output_type": "stream",
     "text": [
      "總進度:  82%|████████▏ | 819/1000 [00:46<00:10, 17.98it/s]"
     ]
    },
    {
     "name": "stdout",
     "output_type": "stream",
     "text": [
      "multi hist hist 執行時間:0.014952421188354492\n",
      "multi hist RMSE 執行時間:0.0001246929168701172\n",
      "multi hist 執行時間:0.015275239944458008\n",
      "multi hist hist 執行時間:0.01485443115234375\n",
      "multi hist RMSE 執行時間:9.799003601074219e-05\n",
      "multi hist 執行時間:0.015027284622192383\n",
      "multi hist hist 執行時間:0.014714956283569336\n",
      "multi hist RMSE 執行時間:9.465217590332031e-05\n",
      "multi hist 執行時間:0.014875411987304688\n"
     ]
    },
    {
     "name": "stderr",
     "output_type": "stream",
     "text": [
      "總進度:  82%|████████▏ | 821/1000 [00:46<00:09, 17.98it/s]"
     ]
    },
    {
     "name": "stdout",
     "output_type": "stream",
     "text": [
      "multi hist hist 執行時間:0.016355037689208984\n",
      "multi hist RMSE 執行時間:0.0002391338348388672\n",
      "multi hist 執行時間:0.016873598098754883\n"
     ]
    },
    {
     "name": "stderr",
     "output_type": "stream",
     "text": [
      "總進度:  82%|████████▏ | 823/1000 [00:46<00:09, 18.09it/s]"
     ]
    },
    {
     "name": "stdout",
     "output_type": "stream",
     "text": [
      "multi hist hist 執行時間:0.014657974243164062\n",
      "multi hist RMSE 執行時間:0.00026035308837890625\n",
      "multi hist 執行時間:0.015050888061523438\n",
      "multi hist hist 執行時間:0.014983654022216797\n",
      "multi hist RMSE 執行時間:9.679794311523438e-05\n",
      "multi hist 執行時間:0.015145063400268555\n",
      "multi hist hist 執行時間:0.01657414436340332\n",
      "multi hist RMSE 執行時間:0.0001049041748046875\n",
      "multi hist 執行時間:0.016752004623413086\n"
     ]
    },
    {
     "name": "stderr",
     "output_type": "stream",
     "text": [
      "總進度:  82%|████████▎ | 825/1000 [00:46<00:09, 18.03it/s]"
     ]
    },
    {
     "name": "stdout",
     "output_type": "stream",
     "text": [
      "multi hist hist 執行時間:0.015317440032958984\n",
      "multi hist RMSE 執行時間:0.00017714500427246094\n",
      "multi hist 執行時間:0.01573657989501953\n"
     ]
    },
    {
     "name": "stderr",
     "output_type": "stream",
     "text": [
      "總進度:  83%|████████▎ | 827/1000 [00:46<00:09, 18.00it/s]"
     ]
    },
    {
     "name": "stdout",
     "output_type": "stream",
     "text": [
      "multi hist hist 執行時間:0.015548229217529297\n",
      "multi hist RMSE 執行時間:0.00022912025451660156\n",
      "multi hist 執行時間:0.015894651412963867\n",
      "multi hist hist 執行時間:0.016802310943603516\n",
      "multi hist RMSE 執行時間:0.00011658668518066406\n",
      "multi hist 執行時間:0.01701045036315918\n",
      "multi hist hist 執行時間:0.01688408851623535\n",
      "multi hist RMSE 執行時間:0.0001049041748046875\n",
      "multi hist 執行時間:0.01705765724182129\n"
     ]
    },
    {
     "name": "stderr",
     "output_type": "stream",
     "text": [
      "總進度:  83%|████████▎ | 829/1000 [00:47<00:09, 17.81it/s]"
     ]
    },
    {
     "name": "stdout",
     "output_type": "stream",
     "text": [
      "multi hist hist 執行時間:0.016669034957885742\n",
      "multi hist RMSE 執行時間:0.00019288063049316406\n",
      "multi hist 執行時間:0.017174243927001953\n"
     ]
    },
    {
     "name": "stderr",
     "output_type": "stream",
     "text": [
      "總進度:  83%|████████▎ | 831/1000 [00:47<00:09, 17.72it/s]"
     ]
    },
    {
     "name": "stdout",
     "output_type": "stream",
     "text": [
      "multi hist hist 執行時間:0.017893552780151367\n",
      "multi hist RMSE 執行時間:0.0014073848724365234\n",
      "multi hist 執行時間:0.020018339157104492\n",
      "multi hist hist 執行時間:0.015247583389282227\n",
      "multi hist RMSE 執行時間:0.00010585784912109375\n",
      "multi hist 執行時間:0.015423297882080078\n",
      "multi hist hist 執行時間:0.01565241813659668\n",
      "multi hist RMSE 執行時間:0.000102996826171875\n",
      "multi hist 執行時間:0.015820741653442383\n"
     ]
    },
    {
     "name": "stderr",
     "output_type": "stream",
     "text": [
      "總進度:  83%|████████▎ | 833/1000 [00:47<00:09, 17.80it/s]"
     ]
    },
    {
     "name": "stdout",
     "output_type": "stream",
     "text": [
      "multi hist hist 執行時間:0.015408754348754883\n",
      "multi hist RMSE 執行時間:0.00018072128295898438\n",
      "multi hist 執行時間:0.015892744064331055\n"
     ]
    },
    {
     "name": "stderr",
     "output_type": "stream",
     "text": [
      "總進度:  84%|████████▎ | 835/1000 [00:47<00:09, 17.98it/s]"
     ]
    },
    {
     "name": "stdout",
     "output_type": "stream",
     "text": [
      "multi hist hist 執行時間:0.015100479125976562\n",
      "multi hist RMSE 執行時間:0.00013709068298339844\n",
      "multi hist 執行時間:0.015489816665649414\n",
      "multi hist hist 執行時間:0.014357328414916992\n",
      "multi hist RMSE 執行時間:0.00015592575073242188\n",
      "multi hist 執行時間:0.014592885971069336\n",
      "multi hist hist 執行時間:0.01513981819152832\n",
      "multi hist RMSE 執行時間:0.00010204315185546875\n",
      "multi hist 執行時間:0.015306711196899414\n"
     ]
    },
    {
     "name": "stderr",
     "output_type": "stream",
     "text": [
      "總進度:  84%|████████▎ | 837/1000 [00:47<00:09, 18.00it/s]"
     ]
    },
    {
     "name": "stdout",
     "output_type": "stream",
     "text": [
      "multi hist hist 執行時間:0.016360044479370117\n",
      "multi hist RMSE 執行時間:0.0001304149627685547\n",
      "multi hist 執行時間:0.01670384407043457\n"
     ]
    },
    {
     "name": "stderr",
     "output_type": "stream",
     "text": [
      "總進度:  84%|████████▍ | 839/1000 [00:47<00:08, 17.99it/s]"
     ]
    },
    {
     "name": "stdout",
     "output_type": "stream",
     "text": [
      "multi hist hist 執行時間:0.01575493812561035\n",
      "multi hist RMSE 執行時間:0.00017189979553222656\n",
      "multi hist 執行時間:0.01616358757019043\n",
      "multi hist hist 執行時間:0.016252517700195312\n",
      "multi hist RMSE 執行時間:0.00011396408081054688\n",
      "multi hist 執行時間:0.016434907913208008\n",
      "multi hist hist 執行時間:0.014993429183959961\n",
      "multi hist RMSE 執行時間:0.00010251998901367188\n",
      "multi hist 執行時間:0.015163421630859375\n"
     ]
    },
    {
     "name": "stderr",
     "output_type": "stream",
     "text": [
      "總進度:  84%|████████▍ | 841/1000 [00:47<00:08, 18.02it/s]"
     ]
    },
    {
     "name": "stdout",
     "output_type": "stream",
     "text": [
      "multi hist hist 執行時間:0.015050888061523438\n",
      "multi hist RMSE 執行時間:0.00012826919555664062\n",
      "multi hist 執行時間:0.015427350997924805\n"
     ]
    },
    {
     "name": "stderr",
     "output_type": "stream",
     "text": [
      "總進度:  84%|████████▍ | 843/1000 [00:47<00:08, 18.11it/s]"
     ]
    },
    {
     "name": "stdout",
     "output_type": "stream",
     "text": [
      "multi hist hist 執行時間:0.014955282211303711\n",
      "multi hist RMSE 執行時間:0.0001709461212158203\n",
      "multi hist 執行時間:0.01536107063293457\n",
      "multi hist hist 執行時間:0.014971494674682617\n",
      "multi hist RMSE 執行時間:9.918212890625e-05\n",
      "multi hist 執行時間:0.015137910842895508\n",
      "multi hist hist 執行時間:0.015856266021728516\n",
      "multi hist RMSE 執行時間:0.0001316070556640625\n",
      "multi hist 執行時間:0.01607060432434082\n"
     ]
    },
    {
     "name": "stderr",
     "output_type": "stream",
     "text": [
      "總進度:  84%|████████▍ | 845/1000 [00:47<00:08, 17.89it/s]"
     ]
    },
    {
     "name": "stdout",
     "output_type": "stream",
     "text": [
      "multi hist hist 執行時間:0.015398740768432617\n",
      "multi hist RMSE 執行時間:0.0006206035614013672\n",
      "multi hist 執行時間:0.016179323196411133\n"
     ]
    },
    {
     "name": "stderr",
     "output_type": "stream",
     "text": [
      "總進度:  85%|████████▍ | 847/1000 [00:48<00:08, 17.99it/s]"
     ]
    },
    {
     "name": "stdout",
     "output_type": "stream",
     "text": [
      "multi hist hist 執行時間:0.015176057815551758\n",
      "multi hist RMSE 執行時間:0.00020432472229003906\n",
      "multi hist 執行時間:0.015633344650268555\n",
      "multi hist hist 執行時間:0.015496492385864258\n",
      "multi hist RMSE 執行時間:0.00012063980102539062\n",
      "multi hist 執行時間:0.015688419342041016\n",
      "multi hist hist 執行時間:0.014952898025512695\n",
      "multi hist RMSE 執行時間:0.0001010894775390625\n",
      "multi hist 執行時間:0.015121698379516602\n"
     ]
    },
    {
     "name": "stderr",
     "output_type": "stream",
     "text": [
      "總進度:  85%|████████▍ | 849/1000 [00:48<00:08, 17.91it/s]"
     ]
    },
    {
     "name": "stdout",
     "output_type": "stream",
     "text": [
      "multi hist hist 執行時間:0.015447854995727539\n",
      "multi hist RMSE 執行時間:0.00028824806213378906\n",
      "multi hist 執行時間:0.015877723693847656\n"
     ]
    },
    {
     "name": "stderr",
     "output_type": "stream",
     "text": [
      "總進度:  85%|████████▌ | 851/1000 [00:48<00:08, 17.89it/s]"
     ]
    },
    {
     "name": "stdout",
     "output_type": "stream",
     "text": [
      "multi hist hist 執行時間:0.014302968978881836\n",
      "multi hist RMSE 執行時間:0.00011873245239257812\n",
      "multi hist 執行時間:0.014621257781982422\n",
      "multi hist hist 執行時間:0.016254663467407227\n",
      "multi hist RMSE 執行時間:0.00010657310485839844\n",
      "multi hist 執行時間:0.016428709030151367\n",
      "multi hist hist 執行時間:0.014854669570922852\n",
      "multi hist RMSE 執行時間:9.608268737792969e-05\n",
      "multi hist 執行時間:0.01501607894897461\n"
     ]
    },
    {
     "name": "stderr",
     "output_type": "stream",
     "text": [
      "總進度:  85%|████████▌ | 853/1000 [00:48<00:08, 17.88it/s]"
     ]
    },
    {
     "name": "stdout",
     "output_type": "stream",
     "text": [
      "multi hist hist 執行時間:0.01527857780456543\n",
      "multi hist RMSE 執行時間:0.000171661376953125\n",
      "multi hist 執行時間:0.015726804733276367\n"
     ]
    },
    {
     "name": "stderr",
     "output_type": "stream",
     "text": [
      "總進度:  86%|████████▌ | 855/1000 [00:48<00:08, 17.82it/s]"
     ]
    },
    {
     "name": "stdout",
     "output_type": "stream",
     "text": [
      "multi hist hist 執行時間:0.015130043029785156\n",
      "multi hist RMSE 執行時間:0.0001430511474609375\n",
      "multi hist 執行時間:0.01552724838256836\n",
      "multi hist hist 執行時間:0.016303539276123047\n",
      "multi hist RMSE 執行時間:0.00011086463928222656\n",
      "multi hist 執行時間:0.016480684280395508\n",
      "multi hist hist 執行時間:0.016091108322143555\n",
      "multi hist RMSE 執行時間:9.775161743164062e-05\n",
      "multi hist 執行時間:0.01625370979309082\n"
     ]
    },
    {
     "name": "stderr",
     "output_type": "stream",
     "text": [
      "總進度:  86%|████████▌ | 857/1000 [00:48<00:08, 17.67it/s]"
     ]
    },
    {
     "name": "stdout",
     "output_type": "stream",
     "text": [
      "multi hist hist 執行時間:0.015061378479003906\n",
      "multi hist RMSE 執行時間:0.00017595291137695312\n",
      "multi hist 執行時間:0.015462160110473633\n"
     ]
    },
    {
     "name": "stderr",
     "output_type": "stream",
     "text": [
      "總進度:  86%|████████▌ | 859/1000 [00:48<00:08, 17.46it/s]"
     ]
    },
    {
     "name": "stdout",
     "output_type": "stream",
     "text": [
      "multi hist hist 執行時間:0.018750429153442383\n",
      "multi hist RMSE 執行時間:0.00037741661071777344\n",
      "multi hist 執行時間:0.019718408584594727\n",
      "multi hist hist 執行時間:0.01631021499633789\n",
      "multi hist RMSE 執行時間:0.00011110305786132812\n",
      "multi hist 執行時間:0.016490697860717773\n",
      "multi hist hist 執行時間:0.015116453170776367\n",
      "multi hist RMSE 執行時間:0.00011682510375976562\n",
      "multi hist 執行時間:0.01530313491821289\n"
     ]
    },
    {
     "name": "stderr",
     "output_type": "stream",
     "text": [
      "總進度:  86%|████████▌ | 861/1000 [00:48<00:07, 17.66it/s]"
     ]
    },
    {
     "name": "stdout",
     "output_type": "stream",
     "text": [
      "multi hist hist 執行時間:0.014890432357788086\n",
      "multi hist RMSE 執行時間:0.00020432472229003906\n",
      "multi hist 執行時間:0.015357017517089844\n"
     ]
    },
    {
     "name": "stderr",
     "output_type": "stream",
     "text": [
      "總進度:  86%|████████▋ | 863/1000 [00:48<00:07, 17.75it/s]"
     ]
    },
    {
     "name": "stdout",
     "output_type": "stream",
     "text": [
      "multi hist hist 執行時間:0.016727447509765625\n",
      "multi hist RMSE 執行時間:0.0002646446228027344\n",
      "multi hist 執行時間:0.017189979553222656\n",
      "multi hist hist 執行時間:0.014979124069213867\n",
      "multi hist RMSE 執行時間:0.00011038780212402344\n",
      "multi hist 執行時間:0.015159368515014648\n",
      "multi hist hist 執行時間:0.015105009078979492\n",
      "multi hist RMSE 執行時間:9.679794311523438e-05\n",
      "multi hist 執行時間:0.015266895294189453\n"
     ]
    },
    {
     "name": "stderr",
     "output_type": "stream",
     "text": [
      "總進度:  86%|████████▋ | 865/1000 [00:49<00:07, 17.86it/s]"
     ]
    },
    {
     "name": "stdout",
     "output_type": "stream",
     "text": [
      "multi hist hist 執行時間:0.015238046646118164\n",
      "multi hist RMSE 執行時間:0.00026226043701171875\n",
      "multi hist 執行時間:0.015603780746459961\n"
     ]
    },
    {
     "name": "stderr",
     "output_type": "stream",
     "text": [
      "總進度:  87%|████████▋ | 867/1000 [00:49<00:07, 17.87it/s]"
     ]
    },
    {
     "name": "stdout",
     "output_type": "stream",
     "text": [
      "multi hist hist 執行時間:0.015248775482177734\n",
      "multi hist RMSE 執行時間:0.00017261505126953125\n",
      "multi hist 執行時間:0.0156707763671875\n",
      "multi hist hist 執行時間:0.01550436019897461\n",
      "multi hist RMSE 執行時間:0.0001087188720703125\n",
      "multi hist 執行時間:0.015680789947509766\n",
      "multi hist hist 執行時間:0.014780282974243164\n",
      "multi hist RMSE 執行時間:9.894371032714844e-05\n",
      "multi hist 執行時間:0.014944791793823242\n"
     ]
    },
    {
     "name": "stderr",
     "output_type": "stream",
     "text": [
      "總進度:  87%|████████▋ | 869/1000 [00:49<00:07, 17.81it/s]"
     ]
    },
    {
     "name": "stdout",
     "output_type": "stream",
     "text": [
      "multi hist hist 執行時間:0.015883684158325195\n",
      "multi hist RMSE 執行時間:0.0001289844512939453\n",
      "multi hist 執行時間:0.01626896858215332\n"
     ]
    },
    {
     "name": "stderr",
     "output_type": "stream",
     "text": [
      "總進度:  87%|████████▋ | 871/1000 [00:49<00:07, 17.95it/s]"
     ]
    },
    {
     "name": "stdout",
     "output_type": "stream",
     "text": [
      "multi hist hist 執行時間:0.014851808547973633\n",
      "multi hist RMSE 執行時間:0.00027060508728027344\n",
      "multi hist 執行時間:0.015239238739013672\n",
      "multi hist hist 執行時間:0.015184402465820312\n",
      "multi hist RMSE 執行時間:0.00010323524475097656\n",
      "multi hist 執行時間:0.015354394912719727\n",
      "multi hist hist 執行時間:0.014635801315307617\n",
      "multi hist RMSE 執行時間:0.000102996826171875\n",
      "multi hist 執行時間:0.014807462692260742\n"
     ]
    },
    {
     "name": "stderr",
     "output_type": "stream",
     "text": [
      "總進度:  87%|████████▋ | 873/1000 [00:49<00:07, 18.08it/s]"
     ]
    },
    {
     "name": "stdout",
     "output_type": "stream",
     "text": [
      "multi hist hist 執行時間:0.01505279541015625\n",
      "multi hist RMSE 執行時間:0.0001862049102783203\n",
      "multi hist 執行時間:0.015502691268920898\n"
     ]
    },
    {
     "name": "stderr",
     "output_type": "stream",
     "text": [
      "總進度:  88%|████████▊ | 875/1000 [00:49<00:06, 17.87it/s]"
     ]
    },
    {
     "name": "stdout",
     "output_type": "stream",
     "text": [
      "multi hist hist 執行時間:0.015809059143066406\n",
      "multi hist RMSE 執行時間:0.0003452301025390625\n",
      "multi hist 執行時間:0.016316652297973633\n",
      "multi hist hist 執行時間:0.015495538711547852\n",
      "multi hist RMSE 執行時間:0.000102996826171875\n",
      "multi hist 執行時間:0.015665292739868164\n",
      "multi hist hist 執行時間:0.014772415161132812\n",
      "multi hist RMSE 執行時間:0.00010228157043457031\n",
      "multi hist 執行時間:0.014947652816772461\n"
     ]
    },
    {
     "name": "stderr",
     "output_type": "stream",
     "text": [
      "總進度:  88%|████████▊ | 877/1000 [00:49<00:06, 17.75it/s]"
     ]
    },
    {
     "name": "stdout",
     "output_type": "stream",
     "text": [
      "multi hist hist 執行時間:0.015381813049316406\n",
      "multi hist RMSE 執行時間:0.0004048347473144531\n",
      "multi hist 執行時間:0.015949726104736328\n"
     ]
    },
    {
     "name": "stderr",
     "output_type": "stream",
     "text": [
      "總進度:  88%|████████▊ | 879/1000 [00:49<00:06, 17.74it/s]"
     ]
    },
    {
     "name": "stdout",
     "output_type": "stream",
     "text": [
      "multi hist hist 執行時間:0.015222549438476562\n",
      "multi hist RMSE 執行時間:0.00015687942504882812\n",
      "multi hist 執行時間:0.015628814697265625\n",
      "multi hist hist 執行時間:0.015160083770751953\n",
      "multi hist RMSE 執行時間:0.00010585784912109375\n",
      "multi hist 執行時間:0.015332221984863281\n",
      "multi hist hist 執行時間:0.015971899032592773\n",
      "multi hist RMSE 執行時間:9.655952453613281e-05\n",
      "multi hist 執行時間:0.01613330841064453\n"
     ]
    },
    {
     "name": "stderr",
     "output_type": "stream",
     "text": [
      "總進度:  88%|████████▊ | 881/1000 [00:49<00:06, 17.65it/s]"
     ]
    },
    {
     "name": "stdout",
     "output_type": "stream",
     "text": [
      "multi hist hist 執行時間:0.015152931213378906\n",
      "multi hist RMSE 執行時間:0.00018167495727539062\n",
      "multi hist 執行時間:0.015595197677612305\n"
     ]
    },
    {
     "name": "stderr",
     "output_type": "stream",
     "text": [
      "總進度:  88%|████████▊ | 883/1000 [00:50<00:06, 17.75it/s]"
     ]
    },
    {
     "name": "stdout",
     "output_type": "stream",
     "text": [
      "multi hist hist 執行時間:0.01475381851196289\n",
      "multi hist RMSE 執行時間:0.0003032684326171875\n",
      "multi hist 執行時間:0.015366315841674805\n",
      "multi hist hist 執行時間:0.015341997146606445\n",
      "multi hist RMSE 執行時間:9.942054748535156e-05\n",
      "multi hist 執行時間:0.015506267547607422\n",
      "multi hist hist 執行時間:0.01516413688659668\n",
      "multi hist RMSE 執行時間:9.894371032714844e-05\n",
      "multi hist 執行時間:0.015329837799072266\n"
     ]
    },
    {
     "name": "stderr",
     "output_type": "stream",
     "text": [
      "總進度:  88%|████████▊ | 885/1000 [00:50<00:06, 17.78it/s]"
     ]
    },
    {
     "name": "stdout",
     "output_type": "stream",
     "text": [
      "multi hist hist 執行時間:0.01527094841003418\n",
      "multi hist RMSE 執行時間:0.00029730796813964844\n",
      "multi hist 執行時間:0.015709877014160156\n"
     ]
    },
    {
     "name": "stderr",
     "output_type": "stream",
     "text": [
      "總進度:  89%|████████▊ | 887/1000 [00:50<00:06, 16.94it/s]"
     ]
    },
    {
     "name": "stdout",
     "output_type": "stream",
     "text": [
      "multi hist hist 執行時間:0.01779961585998535\n",
      "multi hist RMSE 執行時間:0.00015664100646972656\n",
      "multi hist 執行時間:0.018133878707885742\n",
      "multi hist hist 執行時間:0.015609264373779297\n",
      "multi hist RMSE 執行時間:0.00015497207641601562\n",
      "multi hist 執行時間:0.015851497650146484\n",
      "multi hist hist 執行時間:0.014876604080200195\n",
      "multi hist RMSE 執行時間:9.5367431640625e-05\n",
      "multi hist 執行時間:0.01504063606262207\n"
     ]
    },
    {
     "name": "stderr",
     "output_type": "stream",
     "text": [
      "總進度:  89%|████████▉ | 889/1000 [00:50<00:06, 17.05it/s]"
     ]
    },
    {
     "name": "stdout",
     "output_type": "stream",
     "text": [
      "multi hist hist 執行時間:0.014214515686035156\n",
      "multi hist RMSE 執行時間:0.00012445449829101562\n",
      "multi hist 執行時間:0.014586925506591797\n"
     ]
    },
    {
     "name": "stderr",
     "output_type": "stream",
     "text": [
      "總進度:  89%|████████▉ | 891/1000 [00:50<00:06, 17.27it/s]"
     ]
    },
    {
     "name": "stdout",
     "output_type": "stream",
     "text": [
      "multi hist hist 執行時間:0.014995336532592773\n",
      "multi hist RMSE 執行時間:0.0002884864807128906\n",
      "multi hist 執行時間:0.015436649322509766\n",
      "multi hist hist 執行時間:0.014863967895507812\n",
      "multi hist RMSE 執行時間:9.608268737792969e-05\n",
      "multi hist 執行時間:0.01501917839050293\n",
      "multi hist hist 執行時間:0.014847517013549805\n",
      "multi hist RMSE 執行時間:0.00010776519775390625\n",
      "multi hist 執行時間:0.015022039413452148\n"
     ]
    },
    {
     "name": "stderr",
     "output_type": "stream",
     "text": [
      "總進度:  89%|████████▉ | 893/1000 [00:50<00:06, 17.38it/s]"
     ]
    },
    {
     "name": "stdout",
     "output_type": "stream",
     "text": [
      "multi hist hist 執行時間:0.015060663223266602\n",
      "multi hist RMSE 執行時間:0.00017261505126953125\n",
      "multi hist 執行時間:0.015478134155273438\n"
     ]
    },
    {
     "name": "stderr",
     "output_type": "stream",
     "text": [
      "總進度:  90%|████████▉ | 895/1000 [00:50<00:06, 17.45it/s]"
     ]
    },
    {
     "name": "stdout",
     "output_type": "stream",
     "text": [
      "multi hist hist 執行時間:0.015494823455810547\n",
      "multi hist RMSE 執行時間:0.00025844573974609375\n",
      "multi hist 執行時間:0.01588749885559082\n",
      "multi hist hist 執行時間:0.014807939529418945\n",
      "multi hist RMSE 執行時間:9.512901306152344e-05\n",
      "multi hist 執行時間:0.014967203140258789\n",
      "multi hist hist 執行時間:0.01606893539428711\n",
      "multi hist RMSE 執行時間:0.00010609626770019531\n",
      "multi hist 執行時間:0.01624298095703125\n"
     ]
    },
    {
     "name": "stderr",
     "output_type": "stream",
     "text": [
      "總進度:  90%|████████▉ | 897/1000 [00:50<00:05, 17.54it/s]"
     ]
    },
    {
     "name": "stdout",
     "output_type": "stream",
     "text": [
      "multi hist hist 執行時間:0.014745473861694336\n",
      "multi hist RMSE 執行時間:0.00015997886657714844\n",
      "multi hist 執行時間:0.015193462371826172\n"
     ]
    },
    {
     "name": "stderr",
     "output_type": "stream",
     "text": [
      "總進度:  90%|████████▉ | 899/1000 [00:51<00:05, 17.22it/s]"
     ]
    },
    {
     "name": "stdout",
     "output_type": "stream",
     "text": [
      "multi hist hist 執行時間:0.019621610641479492\n",
      "multi hist RMSE 執行時間:0.00030159950256347656\n",
      "multi hist 執行時間:0.020372867584228516\n",
      "multi hist hist 執行時間:0.015042543411254883\n",
      "multi hist RMSE 執行時間:0.00010561943054199219\n",
      "multi hist 執行時間:0.015213489532470703\n",
      "multi hist hist 執行時間:0.014810562133789062\n",
      "multi hist RMSE 執行時間:9.560585021972656e-05\n",
      "multi hist 執行時間:0.014970541000366211\n"
     ]
    },
    {
     "name": "stderr",
     "output_type": "stream",
     "text": [
      "總進度:  90%|█████████ | 901/1000 [00:51<00:05, 17.45it/s]"
     ]
    },
    {
     "name": "stdout",
     "output_type": "stream",
     "text": [
      "multi hist hist 執行時間:0.014129877090454102\n",
      "multi hist RMSE 執行時間:0.00016307830810546875\n",
      "multi hist 執行時間:0.014534473419189453\n"
     ]
    },
    {
     "name": "stderr",
     "output_type": "stream",
     "text": [
      "總進度:  90%|█████████ | 903/1000 [00:51<00:05, 17.68it/s]"
     ]
    },
    {
     "name": "stdout",
     "output_type": "stream",
     "text": [
      "multi hist hist 執行時間:0.014917612075805664\n",
      "multi hist RMSE 執行時間:0.00017976760864257812\n",
      "multi hist 執行時間:0.015333890914916992\n",
      "multi hist hist 執行時間:0.015688180923461914\n",
      "multi hist RMSE 執行時間:0.00012063980102539062\n",
      "multi hist 執行時間:0.015891313552856445\n",
      "multi hist hist 執行時間:0.015029191970825195\n",
      "multi hist RMSE 執行時間:9.965896606445312e-05\n",
      "multi hist 執行時間:0.015193939208984375\n"
     ]
    },
    {
     "name": "stderr",
     "output_type": "stream",
     "text": [
      "總進度:  90%|█████████ | 905/1000 [00:51<00:05, 17.82it/s]"
     ]
    },
    {
     "name": "stdout",
     "output_type": "stream",
     "text": [
      "multi hist hist 執行時間:0.015110492706298828\n",
      "multi hist RMSE 執行時間:0.00016736984252929688\n",
      "multi hist 執行時間:0.01548624038696289\n"
     ]
    },
    {
     "name": "stderr",
     "output_type": "stream",
     "text": [
      "總進度:  91%|█████████ | 907/1000 [00:51<00:05, 17.94it/s]"
     ]
    },
    {
     "name": "stdout",
     "output_type": "stream",
     "text": [
      "multi hist hist 執行時間:0.01528024673461914\n",
      "multi hist RMSE 執行時間:0.0001399517059326172\n",
      "multi hist 執行時間:0.01564812660217285\n",
      "multi hist hist 執行時間:0.016268253326416016\n",
      "multi hist RMSE 執行時間:9.72747802734375e-05\n",
      "multi hist 執行時間:0.01642894744873047\n",
      "multi hist hist 執行時間:0.01457834243774414\n",
      "multi hist RMSE 執行時間:0.00011086463928222656\n",
      "multi hist 執行時間:0.014762639999389648\n"
     ]
    },
    {
     "name": "stderr",
     "output_type": "stream",
     "text": [
      "總進度:  91%|█████████ | 909/1000 [00:51<00:05, 18.02it/s]"
     ]
    },
    {
     "name": "stdout",
     "output_type": "stream",
     "text": [
      "multi hist hist 執行時間:0.015146255493164062\n",
      "multi hist RMSE 執行時間:0.00018548965454101562\n",
      "multi hist 執行時間:0.015581846237182617\n"
     ]
    },
    {
     "name": "stderr",
     "output_type": "stream",
     "text": [
      "總進度:  91%|█████████ | 911/1000 [00:51<00:04, 17.91it/s]"
     ]
    },
    {
     "name": "stdout",
     "output_type": "stream",
     "text": [
      "multi hist hist 執行時間:0.016407251358032227\n",
      "multi hist RMSE 執行時間:0.0001289844512939453\n",
      "multi hist 執行時間:0.016780376434326172\n",
      "multi hist hist 執行時間:0.018225669860839844\n",
      "multi hist RMSE 執行時間:0.00011110305786132812\n",
      "multi hist 執行時間:0.018407344818115234\n",
      "multi hist hist 執行時間:0.016191720962524414\n",
      "multi hist RMSE 執行時間:0.00012874603271484375\n",
      "multi hist 執行時間:0.016404390335083008\n"
     ]
    },
    {
     "name": "stderr",
     "output_type": "stream",
     "text": [
      "總進度:  91%|█████████▏| 913/1000 [00:51<00:04, 17.84it/s]"
     ]
    },
    {
     "name": "stdout",
     "output_type": "stream",
     "text": [
      "multi hist hist 執行時間:0.015180587768554688\n",
      "multi hist RMSE 執行時間:0.00030493736267089844\n",
      "multi hist 執行時間:0.015644311904907227\n"
     ]
    },
    {
     "name": "stderr",
     "output_type": "stream",
     "text": [
      "總進度:  92%|█████████▏| 915/1000 [00:51<00:04, 17.93it/s]"
     ]
    },
    {
     "name": "stdout",
     "output_type": "stream",
     "text": [
      "multi hist hist 執行時間:0.014863729476928711\n",
      "multi hist RMSE 執行時間:0.0001316070556640625\n",
      "multi hist 執行時間:0.015207052230834961\n",
      "multi hist hist 執行時間:0.01523900032043457\n",
      "multi hist RMSE 執行時間:0.000102996826171875\n",
      "multi hist 執行時間:0.015406131744384766\n",
      "multi hist hist 執行時間:0.016372203826904297\n",
      "multi hist RMSE 執行時間:0.00010514259338378906\n",
      "multi hist 執行時間:0.016546249389648438\n"
     ]
    },
    {
     "name": "stderr",
     "output_type": "stream",
     "text": [
      "總進度:  92%|█████████▏| 917/1000 [00:52<00:04, 17.92it/s]"
     ]
    },
    {
     "name": "stdout",
     "output_type": "stream",
     "text": [
      "multi hist hist 執行時間:0.015917301177978516\n",
      "multi hist RMSE 執行時間:0.0001995563507080078\n",
      "multi hist 執行時間:0.01638627052307129\n"
     ]
    },
    {
     "name": "stderr",
     "output_type": "stream",
     "text": [
      "總進度:  92%|█████████▏| 919/1000 [00:52<00:04, 18.06it/s]"
     ]
    },
    {
     "name": "stdout",
     "output_type": "stream",
     "text": [
      "multi hist hist 執行時間:0.014989376068115234\n",
      "multi hist RMSE 執行時間:0.0001704692840576172\n",
      "multi hist 執行時間:0.015366077423095703\n",
      "multi hist hist 執行時間:0.01524043083190918\n",
      "multi hist RMSE 執行時間:9.894371032714844e-05\n",
      "multi hist 執行時間:0.015403985977172852\n",
      "multi hist hist 執行時間:0.014992952346801758\n",
      "multi hist RMSE 執行時間:9.608268737792969e-05\n",
      "multi hist 執行時間:0.01515340805053711\n"
     ]
    },
    {
     "name": "stderr",
     "output_type": "stream",
     "text": [
      "總進度:  92%|█████████▏| 921/1000 [00:52<00:04, 18.17it/s]"
     ]
    },
    {
     "name": "stdout",
     "output_type": "stream",
     "text": [
      "multi hist hist 執行時間:0.015067338943481445\n",
      "multi hist RMSE 執行時間:0.00023317337036132812\n",
      "multi hist 執行時間:0.015538215637207031\n"
     ]
    },
    {
     "name": "stderr",
     "output_type": "stream",
     "text": [
      "總進度:  92%|█████████▏| 923/1000 [00:52<00:04, 18.21it/s]"
     ]
    },
    {
     "name": "stdout",
     "output_type": "stream",
     "text": [
      "multi hist hist 執行時間:0.014866113662719727\n",
      "multi hist RMSE 執行時間:0.0003654956817626953\n",
      "multi hist 執行時間:0.015351533889770508\n",
      "multi hist hist 執行時間:0.015136241912841797\n",
      "multi hist RMSE 執行時間:9.870529174804688e-05\n",
      "multi hist 執行時間:0.015299558639526367\n",
      "multi hist hist 執行時間:0.015032529830932617\n",
      "multi hist RMSE 執行時間:0.00010418891906738281\n",
      "multi hist 執行時間:0.015201091766357422\n"
     ]
    },
    {
     "name": "stderr",
     "output_type": "stream",
     "text": [
      "總進度:  92%|█████████▎| 925/1000 [00:52<00:04, 18.21it/s]"
     ]
    },
    {
     "name": "stdout",
     "output_type": "stream",
     "text": [
      "multi hist hist 執行時間:0.015326738357543945\n",
      "multi hist RMSE 執行時間:0.00018596649169921875\n",
      "multi hist 執行時間:0.015757322311401367\n"
     ]
    },
    {
     "name": "stderr",
     "output_type": "stream",
     "text": [
      "總進度:  93%|█████████▎| 927/1000 [00:52<00:04, 17.65it/s]"
     ]
    },
    {
     "name": "stdout",
     "output_type": "stream",
     "text": [
      "multi hist hist 執行時間:0.015588045120239258\n",
      "multi hist RMSE 執行時間:0.0001804828643798828\n",
      "multi hist 執行時間:0.016022443771362305\n",
      "multi hist hist 執行時間:0.014946699142456055\n",
      "multi hist RMSE 執行時間:0.00011277198791503906\n",
      "multi hist 執行時間:0.015133380889892578\n",
      "multi hist hist 執行時間:0.015271186828613281\n",
      "multi hist RMSE 執行時間:9.799003601074219e-05\n",
      "multi hist 執行時間:0.015436887741088867\n"
     ]
    },
    {
     "name": "stderr",
     "output_type": "stream",
     "text": [
      "總進度:  93%|█████████▎| 929/1000 [00:52<00:03, 17.86it/s]"
     ]
    },
    {
     "name": "stdout",
     "output_type": "stream",
     "text": [
      "multi hist hist 執行時間:0.014956235885620117\n",
      "multi hist RMSE 執行時間:0.0001780986785888672\n",
      "multi hist 執行時間:0.015409469604492188\n"
     ]
    },
    {
     "name": "stderr",
     "output_type": "stream",
     "text": [
      "總進度:  93%|█████████▎| 931/1000 [00:52<00:03, 17.93it/s]"
     ]
    },
    {
     "name": "stdout",
     "output_type": "stream",
     "text": [
      "multi hist hist 執行時間:0.014910697937011719\n",
      "multi hist RMSE 執行時間:0.00028324127197265625\n",
      "multi hist 執行時間:0.015325069427490234\n",
      "multi hist hist 執行時間:0.015036582946777344\n",
      "multi hist RMSE 執行時間:9.584426879882812e-05\n",
      "multi hist 執行時間:0.015207052230834961\n",
      "multi hist hist 執行時間:0.015037059783935547\n",
      "multi hist RMSE 執行時間:0.00010538101196289062\n",
      "multi hist 執行時間:0.015213251113891602\n"
     ]
    },
    {
     "name": "stderr",
     "output_type": "stream",
     "text": [
      "總進度:  93%|█████████▎| 933/1000 [00:52<00:03, 17.91it/s]"
     ]
    },
    {
     "name": "stdout",
     "output_type": "stream",
     "text": [
      "multi hist hist 執行時間:0.015488624572753906\n",
      "multi hist RMSE 執行時間:0.00017547607421875\n",
      "multi hist 執行時間:0.015963077545166016\n"
     ]
    },
    {
     "name": "stderr",
     "output_type": "stream",
     "text": [
      "總進度:  94%|█████████▎| 935/1000 [00:53<00:03, 17.90it/s]"
     ]
    },
    {
     "name": "stdout",
     "output_type": "stream",
     "text": [
      "multi hist hist 執行時間:0.015386104583740234\n",
      "multi hist RMSE 執行時間:0.00018668174743652344\n",
      "multi hist 執行時間:0.015836000442504883\n",
      "multi hist hist 執行時間:0.015233755111694336\n",
      "multi hist RMSE 執行時間:0.000110626220703125\n",
      "multi hist 執行時間:0.015416145324707031\n",
      "multi hist hist 執行時間:0.015117883682250977\n",
      "multi hist RMSE 執行時間:0.00010061264038085938\n",
      "multi hist 執行時間:0.015286684036254883\n"
     ]
    },
    {
     "name": "stderr",
     "output_type": "stream",
     "text": [
      "總進度:  94%|█████████▎| 937/1000 [00:53<00:03, 18.01it/s]"
     ]
    },
    {
     "name": "stdout",
     "output_type": "stream",
     "text": [
      "multi hist hist 執行時間:0.016223430633544922\n",
      "multi hist RMSE 執行時間:0.00017523765563964844\n",
      "multi hist 執行時間:0.01663994789123535\n"
     ]
    },
    {
     "name": "stderr",
     "output_type": "stream",
     "text": [
      "總進度:  94%|█████████▍| 939/1000 [00:53<00:03, 18.11it/s]"
     ]
    },
    {
     "name": "stdout",
     "output_type": "stream",
     "text": [
      "multi hist hist 執行時間:0.014281272888183594\n",
      "multi hist RMSE 執行時間:0.0001804828643798828\n",
      "multi hist 執行時間:0.014714479446411133\n",
      "multi hist hist 執行時間:0.01529693603515625\n",
      "multi hist RMSE 執行時間:0.0001010894775390625\n",
      "multi hist 執行時間:0.015463829040527344\n",
      "multi hist hist 執行時間:0.014836311340332031\n",
      "multi hist RMSE 執行時間:0.00012564659118652344\n",
      "multi hist 執行時間:0.015040397644042969\n"
     ]
    },
    {
     "name": "stderr",
     "output_type": "stream",
     "text": [
      "總進度:  94%|█████████▍| 941/1000 [00:53<00:03, 17.55it/s]"
     ]
    },
    {
     "name": "stdout",
     "output_type": "stream",
     "text": [
      "multi hist hist 執行時間:0.017235755920410156\n",
      "multi hist RMSE 執行時間:0.0002090930938720703\n",
      "multi hist 執行時間:0.017720937728881836\n"
     ]
    },
    {
     "name": "stderr",
     "output_type": "stream",
     "text": [
      "總進度:  94%|█████████▍| 943/1000 [00:53<00:03, 17.68it/s]"
     ]
    },
    {
     "name": "stdout",
     "output_type": "stream",
     "text": [
      "multi hist hist 執行時間:0.015190362930297852\n",
      "multi hist RMSE 執行時間:0.00013184547424316406\n",
      "multi hist 執行時間:0.015562057495117188\n",
      "multi hist hist 執行時間:0.015233993530273438\n",
      "multi hist RMSE 執行時間:0.00010156631469726562\n",
      "multi hist 執行時間:0.015401363372802734\n",
      "multi hist hist 執行時間:0.016088008880615234\n",
      "multi hist RMSE 執行時間:0.00011038780212402344\n",
      "multi hist 執行時間:0.016265153884887695\n"
     ]
    },
    {
     "name": "stderr",
     "output_type": "stream",
     "text": [
      "總進度:  94%|█████████▍| 945/1000 [00:53<00:03, 17.74it/s]"
     ]
    },
    {
     "name": "stdout",
     "output_type": "stream",
     "text": [
      "multi hist hist 執行時間:0.015424013137817383\n",
      "multi hist RMSE 執行時間:0.0001480579376220703\n",
      "multi hist 執行時間:0.015806198120117188\n"
     ]
    },
    {
     "name": "stderr",
     "output_type": "stream",
     "text": [
      "總進度:  95%|█████████▍| 947/1000 [00:53<00:02, 17.89it/s]"
     ]
    },
    {
     "name": "stdout",
     "output_type": "stream",
     "text": [
      "multi hist hist 執行時間:0.015083074569702148\n",
      "multi hist RMSE 執行時間:0.00017404556274414062\n",
      "multi hist 執行時間:0.015540838241577148\n",
      "multi hist hist 執行時間:0.015261411666870117\n",
      "multi hist RMSE 執行時間:0.00010991096496582031\n",
      "multi hist 執行時間:0.015442132949829102\n",
      "multi hist hist 執行時間:0.015248775482177734\n",
      "multi hist RMSE 執行時間:0.000102996826171875\n",
      "multi hist 執行時間:0.015422821044921875\n"
     ]
    },
    {
     "name": "stderr",
     "output_type": "stream",
     "text": [
      "總進度:  95%|█████████▍| 949/1000 [00:53<00:02, 17.96it/s]"
     ]
    },
    {
     "name": "stdout",
     "output_type": "stream",
     "text": [
      "multi hist hist 執行時間:0.015906333923339844\n",
      "multi hist RMSE 執行時間:0.00020265579223632812\n",
      "multi hist 執行時間:0.016376972198486328\n"
     ]
    },
    {
     "name": "stderr",
     "output_type": "stream",
     "text": [
      "總進度:  95%|█████████▌| 951/1000 [00:53<00:02, 17.95it/s]"
     ]
    },
    {
     "name": "stdout",
     "output_type": "stream",
     "text": [
      "multi hist hist 執行時間:0.015403032302856445\n",
      "multi hist RMSE 執行時間:0.0003294944763183594\n",
      "multi hist 執行時間:0.01587653160095215\n",
      "multi hist hist 執行時間:0.015769243240356445\n",
      "multi hist RMSE 執行時間:0.00011587142944335938\n",
      "multi hist 執行時間:0.01595616340637207\n",
      "multi hist hist 執行時間:0.015125274658203125\n",
      "multi hist RMSE 執行時間:0.00011658668518066406\n",
      "multi hist 執行時間:0.015318155288696289\n"
     ]
    },
    {
     "name": "stderr",
     "output_type": "stream",
     "text": [
      "總進度:  95%|█████████▌| 953/1000 [00:54<00:02, 17.87it/s]"
     ]
    },
    {
     "name": "stdout",
     "output_type": "stream",
     "text": [
      "multi hist hist 執行時間:0.015615224838256836\n",
      "multi hist RMSE 執行時間:0.0005085468292236328\n",
      "multi hist 執行時間:0.01630997657775879\n"
     ]
    },
    {
     "name": "stderr",
     "output_type": "stream",
     "text": [
      "總進度:  96%|█████████▌| 955/1000 [00:54<00:02, 17.41it/s]"
     ]
    },
    {
     "name": "stdout",
     "output_type": "stream",
     "text": [
      "multi hist hist 執行時間:0.017079591751098633\n",
      "multi hist RMSE 執行時間:0.0005002021789550781\n",
      "multi hist 執行時間:0.017862558364868164\n",
      "multi hist hist 執行時間:0.017818927764892578\n",
      "multi hist RMSE 執行時間:0.00014281272888183594\n",
      "multi hist 執行時間:0.018064022064208984\n",
      "multi hist hist 執行時間:0.014701366424560547\n",
      "multi hist RMSE 執行時間:0.00010395050048828125\n",
      "multi hist 執行時間:0.014874696731567383\n"
     ]
    },
    {
     "name": "stderr",
     "output_type": "stream",
     "text": [
      "總進度:  96%|█████████▌| 957/1000 [00:54<00:02, 17.39it/s]"
     ]
    },
    {
     "name": "stdout",
     "output_type": "stream",
     "text": [
      "multi hist hist 執行時間:0.015047788619995117\n",
      "multi hist RMSE 執行時間:0.00012636184692382812\n",
      "multi hist 執行時間:0.015426397323608398\n"
     ]
    },
    {
     "name": "stderr",
     "output_type": "stream",
     "text": [
      "總進度:  96%|█████████▌| 959/1000 [00:54<00:02, 17.53it/s]"
     ]
    },
    {
     "name": "stdout",
     "output_type": "stream",
     "text": [
      "multi hist hist 執行時間:0.014991283416748047\n",
      "multi hist RMSE 執行時間:0.00020313262939453125\n",
      "multi hist 執行時間:0.015574455261230469\n",
      "multi hist hist 執行時間:0.016197919845581055\n",
      "multi hist RMSE 執行時間:9.751319885253906e-05\n",
      "multi hist 執行時間:0.01636195182800293\n",
      "multi hist hist 執行時間:0.016265392303466797\n",
      "multi hist RMSE 執行時間:0.0001957416534423828\n",
      "multi hist 執行時間:0.016556978225708008\n"
     ]
    },
    {
     "name": "stderr",
     "output_type": "stream",
     "text": [
      "總進度:  96%|█████████▌| 961/1000 [00:54<00:02, 17.59it/s]"
     ]
    },
    {
     "name": "stdout",
     "output_type": "stream",
     "text": [
      "multi hist hist 執行時間:0.014751911163330078\n",
      "multi hist RMSE 執行時間:0.0001266002655029297\n",
      "multi hist 執行時間:0.015119075775146484\n"
     ]
    },
    {
     "name": "stderr",
     "output_type": "stream",
     "text": [
      "總進度:  96%|█████████▋| 963/1000 [00:54<00:02, 17.75it/s]"
     ]
    },
    {
     "name": "stdout",
     "output_type": "stream",
     "text": [
      "multi hist hist 執行時間:0.015162944793701172\n",
      "multi hist RMSE 執行時間:0.00012874603271484375\n",
      "multi hist 執行時間:0.01552128791809082\n",
      "multi hist hist 執行時間:0.014246463775634766\n",
      "multi hist RMSE 執行時間:9.751319885253906e-05\n",
      "multi hist 執行時間:0.014410972595214844\n",
      "multi hist hist 執行時間:0.014603137969970703\n",
      "multi hist RMSE 執行時間:0.00010156631469726562\n",
      "multi hist 執行時間:0.014770984649658203\n"
     ]
    },
    {
     "name": "stderr",
     "output_type": "stream",
     "text": [
      "總進度:  96%|█████████▋| 965/1000 [00:54<00:01, 17.97it/s]"
     ]
    },
    {
     "name": "stdout",
     "output_type": "stream",
     "text": [
      "multi hist hist 執行時間:0.015017986297607422\n",
      "multi hist RMSE 執行時間:0.0002658367156982422\n",
      "multi hist 執行時間:0.015394926071166992\n"
     ]
    },
    {
     "name": "stderr",
     "output_type": "stream",
     "text": [
      "總進度:  97%|█████████▋| 967/1000 [00:54<00:01, 17.47it/s]"
     ]
    },
    {
     "name": "stdout",
     "output_type": "stream",
     "text": [
      "multi hist hist 執行時間:0.01516103744506836\n",
      "multi hist RMSE 執行時間:0.00033020973205566406\n",
      "multi hist 執行時間:0.015619277954101562\n",
      "multi hist hist 執行時間:0.015014410018920898\n",
      "multi hist RMSE 執行時間:0.00010156631469726562\n",
      "multi hist 執行時間:0.015183448791503906\n",
      "multi hist hist 執行時間:0.015067338943481445\n",
      "multi hist RMSE 執行時間:9.894371032714844e-05\n",
      "multi hist 執行時間:0.01523280143737793\n"
     ]
    },
    {
     "name": "stderr",
     "output_type": "stream",
     "text": [
      "總進度:  97%|█████████▋| 969/1000 [00:54<00:01, 17.59it/s]"
     ]
    },
    {
     "name": "stdout",
     "output_type": "stream",
     "text": [
      "multi hist hist 執行時間:0.015583276748657227\n",
      "multi hist RMSE 執行時間:0.0001742839813232422\n",
      "multi hist 執行時間:0.016072750091552734\n"
     ]
    },
    {
     "name": "stderr",
     "output_type": "stream",
     "text": [
      "總進度:  97%|█████████▋| 971/1000 [00:55<00:01, 17.68it/s]"
     ]
    },
    {
     "name": "stdout",
     "output_type": "stream",
     "text": [
      "multi hist hist 執行時間:0.015020132064819336\n",
      "multi hist RMSE 執行時間:0.00026535987854003906\n",
      "multi hist 執行時間:0.015455484390258789\n",
      "multi hist hist 執行時間:0.015549421310424805\n",
      "multi hist RMSE 執行時間:0.00012826919555664062\n",
      "multi hist 執行時間:0.015752553939819336\n",
      "multi hist hist 執行時間:0.015312910079956055\n",
      "multi hist RMSE 執行時間:0.0001087188720703125\n",
      "multi hist 執行時間:0.015494346618652344\n"
     ]
    },
    {
     "name": "stderr",
     "output_type": "stream",
     "text": [
      "總進度:  97%|█████████▋| 973/1000 [00:55<00:01, 17.72it/s]"
     ]
    },
    {
     "name": "stdout",
     "output_type": "stream",
     "text": [
      "multi hist hist 執行時間:0.015258073806762695\n",
      "multi hist RMSE 執行時間:0.0002713203430175781\n",
      "multi hist 執行時間:0.015661001205444336\n"
     ]
    },
    {
     "name": "stderr",
     "output_type": "stream",
     "text": [
      "總進度:  98%|█████████▊| 975/1000 [00:55<00:01, 17.85it/s]"
     ]
    },
    {
     "name": "stdout",
     "output_type": "stream",
     "text": [
      "multi hist hist 執行時間:0.014584064483642578\n",
      "multi hist RMSE 執行時間:0.0001647472381591797\n",
      "multi hist 執行時間:0.015022516250610352\n",
      "multi hist hist 執行時間:0.015062570571899414\n",
      "multi hist RMSE 執行時間:0.0001010894775390625\n",
      "multi hist 執行時間:0.015224933624267578\n",
      "multi hist hist 執行時間:0.01526331901550293\n",
      "multi hist RMSE 執行時間:0.0001049041748046875\n",
      "multi hist 執行時間:0.01544046401977539\n"
     ]
    },
    {
     "name": "stderr",
     "output_type": "stream",
     "text": [
      "總進度:  98%|█████████▊| 977/1000 [00:55<00:01, 17.89it/s]"
     ]
    },
    {
     "name": "stdout",
     "output_type": "stream",
     "text": [
      "multi hist hist 執行時間:0.015795469284057617\n",
      "multi hist RMSE 執行時間:0.00035500526428222656\n",
      "multi hist 執行時間:0.01642751693725586\n"
     ]
    },
    {
     "name": "stderr",
     "output_type": "stream",
     "text": [
      "總進度:  98%|█████████▊| 979/1000 [00:55<00:01, 17.36it/s]"
     ]
    },
    {
     "name": "stdout",
     "output_type": "stream",
     "text": [
      "multi hist hist 執行時間:0.015395641326904297\n",
      "multi hist RMSE 執行時間:0.00020074844360351562\n",
      "multi hist 執行時間:0.015860795974731445\n",
      "multi hist hist 執行時間:0.015018224716186523\n",
      "multi hist RMSE 執行時間:0.00010609626770019531\n",
      "multi hist 執行時間:0.015192985534667969\n",
      "multi hist hist 執行時間:0.015230655670166016\n",
      "multi hist RMSE 執行時間:0.00013065338134765625\n",
      "multi hist 執行時間:0.015436172485351562\n"
     ]
    },
    {
     "name": "stderr",
     "output_type": "stream",
     "text": [
      "總進度:  98%|█████████▊| 981/1000 [00:55<00:01, 17.58it/s]"
     ]
    },
    {
     "name": "stdout",
     "output_type": "stream",
     "text": [
      "multi hist hist 執行時間:0.014539718627929688\n",
      "multi hist RMSE 執行時間:0.0002307891845703125\n",
      "multi hist 執行時間:0.015085458755493164\n"
     ]
    },
    {
     "name": "stderr",
     "output_type": "stream",
     "text": [
      "總進度:  98%|█████████▊| 983/1000 [00:55<00:00, 17.82it/s]"
     ]
    },
    {
     "name": "stdout",
     "output_type": "stream",
     "text": [
      "multi hist hist 執行時間:0.015119791030883789\n",
      "multi hist RMSE 執行時間:0.0001766681671142578\n",
      "multi hist 執行時間:0.015568733215332031\n",
      "multi hist hist 執行時間:0.014996051788330078\n",
      "multi hist RMSE 執行時間:9.989738464355469e-05\n",
      "multi hist 執行時間:0.015156030654907227\n",
      "multi hist hist 執行時間:0.01473236083984375\n",
      "multi hist RMSE 執行時間:9.655952453613281e-05\n",
      "multi hist 執行時間:0.01489567756652832\n"
     ]
    },
    {
     "name": "stderr",
     "output_type": "stream",
     "text": [
      "總進度:  98%|█████████▊| 985/1000 [00:55<00:00, 17.94it/s]"
     ]
    },
    {
     "name": "stdout",
     "output_type": "stream",
     "text": [
      "multi hist hist 執行時間:0.014844179153442383\n",
      "multi hist RMSE 執行時間:0.0002989768981933594\n",
      "multi hist 執行時間:0.015277624130249023\n"
     ]
    },
    {
     "name": "stderr",
     "output_type": "stream",
     "text": [
      "總進度:  99%|█████████▊| 987/1000 [00:55<00:00, 17.99it/s]"
     ]
    },
    {
     "name": "stdout",
     "output_type": "stream",
     "text": [
      "multi hist hist 執行時間:0.014148235321044922\n",
      "multi hist RMSE 執行時間:0.00020313262939453125\n",
      "multi hist 執行時間:0.014582395553588867\n",
      "multi hist hist 執行時間:0.015018939971923828\n",
      "multi hist RMSE 執行時間:0.00010919570922851562\n",
      "multi hist 執行時間:0.015191078186035156\n",
      "multi hist hist 執行時間:0.015081167221069336\n",
      "multi hist RMSE 執行時間:0.0001239776611328125\n",
      "multi hist 執行時間:0.01527857780456543\n"
     ]
    },
    {
     "name": "stderr",
     "output_type": "stream",
     "text": [
      "總進度:  99%|█████████▉| 989/1000 [00:56<00:00, 18.01it/s]"
     ]
    },
    {
     "name": "stdout",
     "output_type": "stream",
     "text": [
      "multi hist hist 執行時間:0.014905929565429688\n",
      "multi hist RMSE 執行時間:0.00012922286987304688\n",
      "multi hist 執行時間:0.01525259017944336\n"
     ]
    },
    {
     "name": "stderr",
     "output_type": "stream",
     "text": [
      "總進度:  99%|█████████▉| 991/1000 [00:56<00:00, 17.87it/s]"
     ]
    },
    {
     "name": "stdout",
     "output_type": "stream",
     "text": [
      "multi hist hist 執行時間:0.016396284103393555\n",
      "multi hist RMSE 執行時間:0.0003254413604736328\n",
      "multi hist 執行時間:0.01689434051513672\n",
      "multi hist hist 執行時間:0.016137123107910156\n",
      "multi hist RMSE 執行時間:0.00010037422180175781\n",
      "multi hist 執行時間:0.016300439834594727\n",
      "multi hist hist 執行時間:0.01633000373840332\n",
      "multi hist RMSE 執行時間:0.0002887248992919922\n",
      "multi hist 執行時間:0.01676177978515625\n"
     ]
    },
    {
     "name": "stderr",
     "output_type": "stream",
     "text": [
      "總進度:  99%|█████████▉| 993/1000 [00:56<00:00, 17.86it/s]"
     ]
    },
    {
     "name": "stdout",
     "output_type": "stream",
     "text": [
      "multi hist hist 執行時間:0.014153242111206055\n",
      "multi hist RMSE 執行時間:0.0003070831298828125\n",
      "multi hist 執行時間:0.014776229858398438\n"
     ]
    },
    {
     "name": "stderr",
     "output_type": "stream",
     "text": [
      "總進度: 100%|█████████▉| 995/1000 [00:56<00:00, 18.01it/s]"
     ]
    },
    {
     "name": "stdout",
     "output_type": "stream",
     "text": [
      "multi hist hist 執行時間:0.016486406326293945\n",
      "multi hist RMSE 執行時間:0.0002944469451904297\n",
      "multi hist 執行時間:0.01691412925720215\n",
      "multi hist hist 執行時間:0.014093160629272461\n",
      "multi hist RMSE 執行時間:9.679794311523438e-05\n",
      "multi hist 執行時間:0.014253854751586914\n",
      "multi hist hist 執行時間:0.01502847671508789\n",
      "multi hist RMSE 執行時間:9.441375732421875e-05\n",
      "multi hist 執行時間:0.01519155502319336\n"
     ]
    },
    {
     "name": "stderr",
     "output_type": "stream",
     "text": [
      "總進度: 100%|█████████▉| 997/1000 [00:56<00:00, 18.06it/s]"
     ]
    },
    {
     "name": "stdout",
     "output_type": "stream",
     "text": [
      "multi hist hist 執行時間:0.015164375305175781\n",
      "multi hist RMSE 執行時間:0.0001227855682373047\n",
      "multi hist 執行時間:0.015483379364013672\n"
     ]
    },
    {
     "name": "stderr",
     "output_type": "stream",
     "text": [
      "總進度: 100%|██████████| 1000/1000 [00:56<00:00, 17.64it/s]"
     ]
    },
    {
     "name": "stdout",
     "output_type": "stream",
     "text": [
      "multi hist hist 執行時間:0.014978647232055664\n",
      "multi hist RMSE 執行時間:0.0001690387725830078\n",
      "multi hist 執行時間:0.01538538932800293\n",
      "multi hist hist 執行時間:0.015263080596923828\n",
      "multi hist RMSE 執行時間:0.00011920928955078125\n",
      "multi hist 執行時間:0.01545095443725586\n",
      "multi hist hist 執行時間:0.014996051788330078\n",
      "multi hist RMSE 執行時間:0.00010204315185546875\n",
      "multi hist 執行時間:0.015163898468017578\n"
     ]
    },
    {
     "name": "stderr",
     "output_type": "stream",
     "text": [
      "\n"
     ]
    }
   ],
   "source": [
    "from importlib import reload ,import_module\n",
    "import module.utilize as utilize\n",
    "import module.multiVariant as multiVariant\n",
    "import module.singleVariant as singleVariant\n",
    "import module.multiHistogramBase as multiHistogramBase\n",
    "import numpy as np\n",
    "from numba import njit,jit, float32\n",
    "import module.singleVariantCopulaBase as CopulaBase\n",
    "from tqdm import tqdm\n",
    "import time\n",
    "from multiprocessing import Pool\n",
    "from sklearn.metrics import root_mean_squared_error\n",
    "import cupy as cp\n",
    "reload(utilize)\n",
    "reload(multiVariant)\n",
    "reload(singleVariant)\n",
    "reload(multiHistogramBase)\n",
    "reload(CopulaBase)\n",
    "\n",
    "\n",
    "\n",
    "startTime=time.time()\n",
    "\n",
    "attribute_names=np.array([\"phi_grav\",\"particle_mass_density\",\"zmom\",\"ymom\"])\n",
    "incremental_number=300\n",
    "all_ensamble_data=np.empty([0,incremental_number,64,64,64])\n",
    "\n",
    "for name in attribute_names:\n",
    "    data=utilize.readFiles(name,incremental_number)\n",
    "    data=data.reshape(1,incremental_number,64,64,64)\n",
    "    all_ensamble_data=np.append(all_ensamble_data,data,axis=0)\n",
    "\n",
    "#print(all_ensamble_data.shape)\n",
    "#print(all_ensamble_data[0].shape)\n",
    "covBlockSize=5\n",
    "dataBlockSize=5\n",
    "binsNumber=128\n",
    "sizeZ=10\n",
    "sizeY=10\n",
    "sizeX=10\n",
    "minMaxBlockSize=2\n",
    "isMinMax=False\n",
    "\n",
    "print(\"start fit model\")\n",
    "with tqdm(total=4, desc=\"Model fitting\") as pbar:\n",
    "    #oursModel=multiVariant.multiDistCopula3D(all_ensamble_data,dataBlockSize,covBlockSize,binsNumber,[sizeZ,sizeY,sizeX],minMaxBlockSize,isMinMax)\n",
    "    oursModel=multiVariant.multiDistCopula3D.load(f\"Nyx_{attribute_names.shape[0]}varaibles_{incremental_number}members_128Bins_dBlock5_cBlock5_new\")\n",
    "    #conditions=np.array([[0,1e5],[3e10,5e10]])\n",
    "    #oursModel.fit()\n",
    "    print(\"ours complete fit\")\n",
    "    pbar.update(1)\n",
    "    copulaBlockSize=2\n",
    "    copulaBaseModel=CopulaBase.multiVariantCopulaBase(all_ensamble_data,copulaBlockSize)\n",
    "    copulaBaseModel.fit()\n",
    "    print(\"copula complete fit\")\n",
    "    pbar.update(1)\n",
    "    multiHistBlockSize=2\n",
    "    multiHistModel=multiHistogramBase.multiHistogramModel(all_ensamble_data,blockSize=multiHistBlockSize,binsNumber=binsNumber)\n",
    "    multiHistModel.fit()\n",
    "    print(\"multi-hist complete fit\")\n",
    "    pbar.update(1)\n",
    "    gtModel=multiHistogramBase.multiHistogramModel(all_ensamble_data,blockSize=1,binsNumber=binsNumber)\n",
    "    gtModel.fit()\n",
    "\n",
    "    multiBinEdges=gtModel.blocks[0].binEdges\n",
    "\n",
    "    print(\"complete fit\")\n",
    "    pbar.update(1)\n",
    "\n",
    "oursError=cp.zeros([sizeZ,sizeY,sizeX],dtype=cp.float32)\n",
    "copulaError=cp.zeros([sizeZ,sizeY,sizeX],dtype=cp.float32)\n",
    "mtError=cp.zeros([sizeZ,sizeY,sizeX],dtype=cp.float32)\n",
    "\n",
    "\n",
    "multiBinEdges=cp.asarray(multiBinEdges,dtype=cp.float32)\n",
    "\n",
    "\n",
    "with tqdm(total=sizeZ*sizeY*sizeX, desc=\"總進度\") as pbar:\n",
    "    for idx in range(sizeZ * sizeY * sizeX):\n",
    "        \n",
    "        z = idx // (sizeY * sizeX)\n",
    "        y = (idx // sizeX) % sizeY\n",
    "        x = idx % sizeX        \n",
    "        ### GroundTruth ###\n",
    "\n",
    "        gtMultiHist=gtModel.getHistByPosCp(z,y,x)\n",
    "        gtMultiHist=gtMultiHist/cp.sum(gtMultiHist)\n",
    "\n",
    "        ### ours method ###\n",
    "\n",
    "        oursSamples=oursModel.sampleByPos(z,y,x)\n",
    "        oursSamples=cp.asarray(oursSamples,dtype=cp.float32)\n",
    "        oursMultiHist,_=cp.histogramdd(oursSamples,bins=multiBinEdges)\n",
    "        oursMultiHist=oursMultiHist/cp.sum(oursMultiHist)\n",
    "\n",
    "        #rmse=np.sqrt(np.mean((gtMultiHist-oursMultiHist)**2))\n",
    "        rmse = cp.sqrt(cp.mean((gtMultiHist - oursMultiHist) ** 2))\n",
    "        oursError[z,y,x]=rmse\n",
    "        #oursError.append(rmse)\n",
    "\n",
    "       \n",
    "        ### copula Base ###\n",
    "    \n",
    "        copulaSamples=copulaBaseModel.sampleByPos(z,y,x)\n",
    "        copulaSamples=cp.asarray(copulaSamples,dtype=cp.float32)\n",
    "        copulaMultiHist,_=cp.histogramdd(copulaSamples,bins=multiBinEdges)\n",
    "        copulaMultiHist=copulaMultiHist/cp.sum(copulaMultiHist)\n",
    "      \n",
    "        rmse = cp.sqrt(cp.mean((gtMultiHist - copulaMultiHist) ** 2))\n",
    "        #rmse=np.sqrt(np.mean((gtMultiHist-copulaMultiHist)**2))\n",
    "        copulaError[z,y,x]=rmse\n",
    "        #copulaError.append(rmse)\n",
    "        \n",
    "\n",
    "        ### multiHist ###\n",
    "\n",
    "        ProcessTime=time.time()\n",
    "        ProcessHistTime=time.time()\n",
    "        mtMultiHist=multiHistModel.getHistByPosCp(z,y,x)\n",
    "        mtMultiHist=mtMultiHist/cp.sum(mtMultiHist)\n",
    "        processHistTimeEnd=time.time()\n",
    "        print(f\"multi hist hist 執行時間:{processHistTimeEnd-ProcessHistTime}\")\n",
    "        processRmseTime=time.time()\n",
    "        #rmse=root_mean_squared_error(gtMultiHist.flatten(),mtMultiHist.flatten())\n",
    "        #rmse=np.sqrt(np.mean((gtMultiHist-mtMultiHist)**2))\n",
    "        rmse = cp.sqrt(cp.mean((gtMultiHist - mtMultiHist) ** 2))\n",
    "        processRmseTimeEnd=time.time()\n",
    "        print(f\"multi hist RMSE 執行時間:{processRmseTimeEnd-processRmseTime}\")\n",
    "        mtError[z,y,x]=rmse\n",
    "        #mtError.append(rmse)\n",
    "\n",
    "        ProcessTimeEnd=time.time()\n",
    "        print(f\"multi hist 執行時間:{ProcessTimeEnd-ProcessTime}\")\n",
    "        \n",
    "        pbar.update(1)\n",
    "    \n",
    "\n",
    "#oursError=np.array(oursError)\n",
    "#copulaError=np.array(copulaError)\n",
    "#mtError=np.array(mtError)\n",
    "\n",
    "oursError=oursError.get()\n",
    "copulaError=copulaError.get()\n",
    "mtError=mtError.get()\n",
    "\n",
    "oursError=oursError.mean()\n",
    "copulaError=copulaError.mean()\n",
    "mtError=mtError.mean()\n",
    "\n",
    "from datetime import datetime\n",
    "timestamp = datetime.now().strftime(\"%Y%m%d_%H%M%S\")\n",
    "Outputfilename = f\"output_{timestamp}.txt\"\n",
    "end_Time=time.time()\n",
    "\n",
    "with open(Outputfilename , \"w\", encoding=\"utf-8\") as f:\n",
    "    print(f\"ours error:{oursError.mean()}\",file=f)\n",
    "    print(f\"copula error:{copulaError.mean()}\",file=f)\n",
    "    print(f\"mt error: {mtError.mean()}\",file=f)\n",
    "    print(f\"執行時間:{end_Time-startTime}\",file=f)\n"
   ]
  }
 ],
 "metadata": {
  "kernelspec": {
   "display_name": "Python 3",
   "language": "python",
   "name": "python3"
  },
  "language_info": {
   "codemirror_mode": {
    "name": "ipython",
    "version": 3
   },
   "file_extension": ".py",
   "mimetype": "text/x-python",
   "name": "python",
   "nbconvert_exporter": "python",
   "pygments_lexer": "ipython3",
   "version": "3.13.5"
  }
 },
 "nbformat": 4,
 "nbformat_minor": 5
}
