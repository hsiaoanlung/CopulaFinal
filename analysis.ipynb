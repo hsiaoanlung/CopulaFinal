{
 "cells": [
  {
   "cell_type": "code",
   "execution_count": 2,
   "id": "9da1a364",
   "metadata": {},
   "outputs": [
    {
     "name": "stdout",
     "output_type": "stream",
     "text": [
      "start fit model\n"
     ]
    },
    {
     "name": "stderr",
     "output_type": "stream",
     "text": [
      "Model fitting:  25%|██▌       | 1/4 [00:00<00:00,  9.96it/s]"
     ]
    },
    {
     "name": "stdout",
     "output_type": "stream",
     "text": [
      "ours complete fit\n"
     ]
    },
    {
     "name": "stderr",
     "output_type": "stream",
     "text": [
      "Model fitting:  50%|█████     | 2/4 [01:07<01:19, 39.95s/it]"
     ]
    },
    {
     "name": "stdout",
     "output_type": "stream",
     "text": [
      "copula complete fit\n"
     ]
    },
    {
     "name": "stderr",
     "output_type": "stream",
     "text": [
      "Model fitting:  75%|███████▌  | 3/4 [01:14<00:24, 24.59s/it]"
     ]
    },
    {
     "name": "stdout",
     "output_type": "stream",
     "text": [
      "multi-hist complete fit\n"
     ]
    },
    {
     "name": "stderr",
     "output_type": "stream",
     "text": [
      "Model fitting: 100%|██████████| 4/4 [01:16<00:00, 19.12s/it]\n"
     ]
    },
    {
     "name": "stdout",
     "output_type": "stream",
     "text": [
      "complete fit\n"
     ]
    },
    {
     "name": "stderr",
     "output_type": "stream",
     "text": [
      "總進度:   0%|          | 0/1000 [00:01<?, ?it/s]"
     ]
    },
    {
     "name": "stdout",
     "output_type": "stream",
     "text": [
      "[GPU Sampling] Free mem: 0.53 GB, batch_size ≈ 1,000\n"
     ]
    },
    {
     "name": "stderr",
     "output_type": "stream",
     "text": [
      "\n"
     ]
    },
    {
     "ename": "ValueError",
     "evalue": "probabilities do not sum to 1",
     "output_type": "error",
     "traceback": [
      "\u001b[31m---------------------------------------------------------------------------\u001b[39m",
      "\u001b[31mValueError\u001b[39m                                Traceback (most recent call last)",
      "\u001b[36mCell\u001b[39m\u001b[36m \u001b[39m\u001b[32mIn[2]\u001b[39m\u001b[32m, line 86\u001b[39m\n\u001b[32m     83\u001b[39m ProcessTime=time.time()\n\u001b[32m     85\u001b[39m ProcessSampleTime=time.time()\n\u001b[32m---> \u001b[39m\u001b[32m86\u001b[39m gtSamples=\u001b[43mgtModel\u001b[49m\u001b[43m.\u001b[49m\u001b[43msampleByPos\u001b[49m\u001b[43m(\u001b[49m\u001b[43mz\u001b[49m\u001b[43m,\u001b[49m\u001b[43my\u001b[49m\u001b[43m,\u001b[49m\u001b[43mx\u001b[49m\u001b[43m)\u001b[49m\n\u001b[32m     87\u001b[39m ProcessSampleTimeEnd=time.time()\n\u001b[32m     88\u001b[39m \u001b[38;5;28mprint\u001b[39m(\u001b[33mf\u001b[39m\u001b[33m\"\u001b[39m\u001b[33mGT_Sample執行時間:\u001b[39m\u001b[38;5;132;01m{\u001b[39;00mProcessSampleTimeEnd-ProcessSampleTime\u001b[38;5;132;01m}\u001b[39;00m\u001b[33m\"\u001b[39m)\n",
      "\u001b[36mFile \u001b[39m\u001b[32mc:\\andy\\Final\\module\\multiHistogramBase.py:173\u001b[39m, in \u001b[36mmultiHistogramModel.sampleByPos\u001b[39m\u001b[34m(self, z, y, x, size)\u001b[39m\n\u001b[32m    171\u001b[39m \u001b[38;5;28mself\u001b[39m.blocks[blockIdx].fit()\n\u001b[32m    172\u001b[39m \u001b[38;5;66;03m#samples=self.blocks[blockIdx].sample_from_histogramdd(n_samples=size)\u001b[39;00m\n\u001b[32m--> \u001b[39m\u001b[32m173\u001b[39m samples=\u001b[38;5;28;43mself\u001b[39;49m\u001b[43m.\u001b[49m\u001b[43mblocks\u001b[49m\u001b[43m[\u001b[49m\u001b[43mblockIdx\u001b[49m\u001b[43m]\u001b[49m\u001b[43m.\u001b[49m\u001b[43msample_from_histogramdd_gpu\u001b[49m\u001b[43m(\u001b[49m\u001b[43mn_samples\u001b[49m\u001b[43m=\u001b[49m\u001b[43msize\u001b[49m\u001b[43m)\u001b[49m\n\u001b[32m    174\u001b[39m \u001b[38;5;28mself\u001b[39m.blocks[blockIdx].clear()\n\u001b[32m    175\u001b[39m \u001b[38;5;28;01mreturn\u001b[39;00m samples\n",
      "\u001b[36mFile \u001b[39m\u001b[32mc:\\andy\\Final\\module\\multiHistogramBase.py:98\u001b[39m, in \u001b[36mmultiHistogramBlock.sample_from_histogramdd_gpu\u001b[39m\u001b[34m(self, n_samples, safety_factor)\u001b[39m\n\u001b[32m     96\u001b[39m \u001b[38;5;28;01mwhile\u001b[39;00m remaining > \u001b[32m0\u001b[39m:\n\u001b[32m     97\u001b[39m     bs = \u001b[38;5;28mmin\u001b[39m(batch_size, remaining)\n\u001b[32m---> \u001b[39m\u001b[32m98\u001b[39m     chosen_flat_idx = \u001b[43mcp\u001b[49m\u001b[43m.\u001b[49m\u001b[43mrandom\u001b[49m\u001b[43m.\u001b[49m\u001b[43mchoice\u001b[49m\u001b[43m(\u001b[49m\u001b[38;5;28;43mlen\u001b[39;49m\u001b[43m(\u001b[49m\u001b[43mpdf\u001b[49m\u001b[43m)\u001b[49m\u001b[43m,\u001b[49m\u001b[43m \u001b[49m\u001b[43msize\u001b[49m\u001b[43m=\u001b[49m\u001b[43mbs\u001b[49m\u001b[43m,\u001b[49m\u001b[43m \u001b[49m\u001b[43mp\u001b[49m\u001b[43m=\u001b[49m\u001b[43mpdf\u001b[49m\u001b[43m)\u001b[49m\n\u001b[32m     99\u001b[39m     multi_indices = cp.array(cp.unravel_index(chosen_flat_idx, hist_gpu.shape)).T  \u001b[38;5;66;03m# shape = (bs, ndim)\u001b[39;00m\n\u001b[32m    101\u001b[39m     lows = cp.stack([edges_gpu[i][multi_indices[:, i]] \u001b[38;5;28;01mfor\u001b[39;00m i \u001b[38;5;129;01min\u001b[39;00m \u001b[38;5;28mrange\u001b[39m(ndim)], axis=\u001b[32m1\u001b[39m)\n",
      "\u001b[36mFile \u001b[39m\u001b[32mc:\\Users\\alhsi\\AppData\\Local\\Programs\\Python\\Python313\\Lib\\site-packages\\cupy\\random\\_sample.py:190\u001b[39m, in \u001b[36mchoice\u001b[39m\u001b[34m(a, size, replace, p)\u001b[39m\n\u001b[32m    160\u001b[39m \u001b[38;5;250m\u001b[39m\u001b[33;03m\"\"\"Returns an array of random values from a given 1-D array.\u001b[39;00m\n\u001b[32m    161\u001b[39m \n\u001b[32m    162\u001b[39m \u001b[33;03mEach element of the returned array is independently sampled\u001b[39;00m\n\u001b[32m   (...)\u001b[39m\u001b[32m    187\u001b[39m \n\u001b[32m    188\u001b[39m \u001b[33;03m\"\"\"\u001b[39;00m\n\u001b[32m    189\u001b[39m rs = _generator.get_random_state()\n\u001b[32m--> \u001b[39m\u001b[32m190\u001b[39m \u001b[38;5;28;01mreturn\u001b[39;00m \u001b[43mrs\u001b[49m\u001b[43m.\u001b[49m\u001b[43mchoice\u001b[49m\u001b[43m(\u001b[49m\u001b[43ma\u001b[49m\u001b[43m,\u001b[49m\u001b[43m \u001b[49m\u001b[43msize\u001b[49m\u001b[43m,\u001b[49m\u001b[43m \u001b[49m\u001b[43mreplace\u001b[49m\u001b[43m,\u001b[49m\u001b[43m \u001b[49m\u001b[43mp\u001b[49m\u001b[43m)\u001b[49m\n",
      "\u001b[36mFile \u001b[39m\u001b[32mc:\\Users\\alhsi\\AppData\\Local\\Programs\\Python\\Python313\\Lib\\site-packages\\cupy\\random\\_generator.py:1107\u001b[39m, in \u001b[36mRandomState.choice\u001b[39m\u001b[34m(self, a, size, replace, p)\u001b[39m\n\u001b[32m   1105\u001b[39m     p_sum = cupy.sum(p).get()\n\u001b[32m   1106\u001b[39m     \u001b[38;5;28;01mif\u001b[39;00m \u001b[38;5;129;01mnot\u001b[39;00m numpy.allclose(p_sum, \u001b[32m1\u001b[39m):\n\u001b[32m-> \u001b[39m\u001b[32m1107\u001b[39m         \u001b[38;5;28;01mraise\u001b[39;00m \u001b[38;5;167;01mValueError\u001b[39;00m(\u001b[33m'\u001b[39m\u001b[33mprobabilities do not sum to 1\u001b[39m\u001b[33m'\u001b[39m)\n\u001b[32m   1109\u001b[39m \u001b[38;5;28;01mif\u001b[39;00m size \u001b[38;5;129;01mis\u001b[39;00m \u001b[38;5;28;01mNone\u001b[39;00m:\n\u001b[32m   1110\u001b[39m     \u001b[38;5;28;01mraise\u001b[39;00m \u001b[38;5;167;01mNotImplementedError\u001b[39;00m(\n\u001b[32m   1111\u001b[39m         \u001b[33m'\u001b[39m\u001b[33mchoice() without specifying size is not supported yet\u001b[39m\u001b[33m'\u001b[39m)\n",
      "\u001b[31mValueError\u001b[39m: probabilities do not sum to 1"
     ]
    }
   ],
   "source": [
    "from importlib import reload ,import_module\n",
    "import module.utilize as utilize\n",
    "import module.multiVariant as multiVariant\n",
    "import module.singleVariant as singleVariant\n",
    "import module.multiHistogramBase as multiHistogramBase\n",
    "import numpy as np\n",
    "from numba import njit,jit, float32\n",
    "import module.singleVariantCopulaBase as CopulaBase\n",
    "from tqdm import tqdm\n",
    "import time\n",
    "from multiprocessing import Pool\n",
    "reload(utilize)\n",
    "reload(multiVariant)\n",
    "reload(singleVariant)\n",
    "reload(multiHistogramBase)\n",
    "reload(CopulaBase)\n",
    "\n",
    "\n",
    "\n",
    "startTime=time.time()\n",
    "\n",
    "attribute_names=np.array([\"phi_grav\",\"particle_mass_density\",\"zmom\",\"ymom\"])\n",
    "incremental_number=300\n",
    "all_ensamble_data=np.empty([0,incremental_number,64,64,64])\n",
    "\n",
    "for name in attribute_names:\n",
    "    data=utilize.readFiles(name,incremental_number)\n",
    "    data=data.reshape(1,incremental_number,64,64,64)\n",
    "    all_ensamble_data=np.append(all_ensamble_data,data,axis=0)\n",
    "\n",
    "#print(all_ensamble_data.shape)\n",
    "#print(all_ensamble_data[0].shape)\n",
    "covBlockSize=5\n",
    "dataBlockSize=5\n",
    "binsNumber=128\n",
    "sizeZ=10\n",
    "sizeY=10\n",
    "sizeX=10\n",
    "minMaxBlockSize=2\n",
    "isMinMax=False\n",
    "\n",
    "print(\"start fit model\")\n",
    "with tqdm(total=4, desc=\"Model fitting\") as pbar:\n",
    "    #oursModel=multiVariant.multiDistCopula3D(all_ensamble_data,dataBlockSize,covBlockSize,binsNumber,[sizeZ,sizeY,sizeX],minMaxBlockSize,isMinMax)\n",
    "    oursModel=multiVariant.multiDistCopula3D.load(f\"Nyx_{attribute_names.shape[0]}varaibles_{incremental_number}members_128Bins_dBlock5_cBlock5_new\")\n",
    "    #conditions=np.array([[0,1e5],[3e10,5e10]])\n",
    "    #oursModel.fit()\n",
    "    print(\"ours complete fit\")\n",
    "    pbar.update(1)\n",
    "    copulaBlockSize=2\n",
    "    copulaBaseModel=CopulaBase.multiVariantCopulaBase(all_ensamble_data,copulaBlockSize)\n",
    "    copulaBaseModel.fit()\n",
    "    print(\"copula complete fit\")\n",
    "    pbar.update(1)\n",
    "    multiHistBlockSize=2\n",
    "    multiHistModel=multiHistogramBase.multiHistogramModel(all_ensamble_data,blockSize=multiHistBlockSize,binsNumber=binsNumber)\n",
    "    multiHistModel.fit()\n",
    "    print(\"multi-hist complete fit\")\n",
    "    pbar.update(1)\n",
    "    gtModel=multiHistogramBase.multiHistogramModel(all_ensamble_data,blockSize=1,binsNumber=binsNumber)\n",
    "    gtModel.fit()\n",
    "\n",
    "    multiBinEdges=gtModel.blocks[0].binEdges\n",
    "\n",
    "    print(\"complete fit\")\n",
    "    pbar.update(1)\n",
    "\n",
    "oursError=[]\n",
    "copulaError=[]\n",
    "mtError=[]\n",
    "\n",
    "\n",
    "\n",
    "\n",
    "\n",
    "with tqdm(total=sizeZ*sizeY*sizeX, desc=\"總進度\") as pbar:\n",
    "    for idx in range(sizeZ * sizeY * sizeX):\n",
    "        \n",
    "        z = idx // (sizeY * sizeX)\n",
    "        y = (idx // sizeX) % sizeY\n",
    "        x = idx % sizeX        \n",
    "        ### GroundTruth ###\n",
    "        ProcessTime=time.time()\n",
    "\n",
    "        ProcessSampleTime=time.time()\n",
    "        gtSamples=gtModel.sampleByPos(z,y,x)\n",
    "        ProcessSampleTimeEnd=time.time()\n",
    "        print(f\"GT_Sample執行時間:{ProcessSampleTimeEnd-ProcessSampleTime}\")\n",
    "        gtMultiHist,_=np.histogramdd(gtSamples,bins=multiBinEdges)\n",
    "        gtMultiHist=gtMultiHist/np.sum(gtMultiHist)\n",
    "        ProcessTimeEnd=time.time()\n",
    "        print(f\"GT執行時間:{ProcessTimeEnd-ProcessTime}\")\n",
    "\n",
    "        ### ours method ###\n",
    "        ProcessTime=time.time()\n",
    "\n",
    "        ProcessSampleTime=time.time()\n",
    "        oursSamples=oursModel.sampleByPos(z,y,x)\n",
    "        ProcessSampleTimeEnd=time.time()\n",
    "        print(f\"ours_Sample執行時間:{ProcessSampleTimeEnd-ProcessSampleTime}\")\n",
    "\n",
    "        oursMultiHist,_=np.histogramdd(oursSamples,bins=multiBinEdges)\n",
    "        oursMultiHist=oursMultiHist/np.sum(oursMultiHist)\n",
    "        \n",
    "        rmse=np.sqrt(np.mean((gtMultiHist-oursMultiHist)**2))\n",
    "        oursError.append(rmse)\n",
    "\n",
    "        ProcessTimeEnd=time.time()\n",
    "        print(f\"ours 執行時間:{ProcessTimeEnd-ProcessTime}\")\n",
    "        ### copula Base ###\n",
    "        ProcessTime=time.time()\n",
    "\n",
    "        ProcessSampleTime=time.time()\n",
    "        copulaSamples=copulaBaseModel.sampleByPos(z,y,x)\n",
    "        ProcessSampleTimeEnd=time.time()\n",
    "        print(f\"copulaBase_Sample執行時間:{ProcessSampleTimeEnd-ProcessSampleTime}\")\n",
    "\n",
    "        copulaMultiHist,_=np.histogramdd(copulaSamples,bins=multiBinEdges)\n",
    "        copulaMultiHist=copulaMultiHist/np.sum(copulaMultiHist)\n",
    "\n",
    "        rmse=np.sqrt(np.mean((gtMultiHist-copulaMultiHist)**2))\n",
    "        copulaError.append(rmse)\n",
    "\n",
    "        ProcessTimeEnd=time.time()\n",
    "        print(f\"copula base 執行時間:{ProcessTimeEnd-ProcessTime}\")\n",
    "        ### multiHist ###\n",
    "        ProcessTime=time.time()\n",
    "        ProcessSampleTime=time.time()\n",
    "        mtSamples=multiHistModel.sampleByPos(z,y,x)\n",
    "        ProcessSampleTimeEnd=time.time()\n",
    "        print(f\"copulaBase_Sample執行時間:{ProcessSampleTimeEnd-ProcessSampleTime}\")\n",
    "        \n",
    "        mtMultiHist,_=np.histogramdd(mtSamples,bins=multiBinEdges)\n",
    "        mtMultiHist=mtMultiHist/np.sum(mtMultiHist)\n",
    "\n",
    "        rmse=np.sqrt(np.mean((gtMultiHist-mtMultiHist)**2))\n",
    "        mtError.append(rmse)\n",
    "\n",
    "        ProcessTimeEnd=time.time()\n",
    "        print(f\"multi hist 執行時間:{ProcessTimeEnd-ProcessTime}\")\n",
    "        \n",
    "        pbar.update(1)\n",
    "    \n",
    "\n",
    "oursError=np.array(oursError)\n",
    "copulaError=np.array(copulaError)\n",
    "mtError=np.array(mtError)\n",
    "\n",
    "\n",
    "from datetime import datetime\n",
    "timestamp = datetime.now().strftime(\"%Y%m%d_%H%M%S\")\n",
    "Outputfilename = f\"output_{timestamp}.txt\"\n",
    "end_Time=time.time()\n",
    "\n",
    "with open(Outputfilename , \"w\", encoding=\"utf-8\") as f:\n",
    "    print(f\"ours error:{oursError.mean()}\",file=f)\n",
    "    print(f\"copula error:{copulaError.mean()}\",file=f)\n",
    "    print(f\"mt error: {mtError.mean()}\",file=f)\n",
    "    print(f\"執行時間:{end_Time-startTime}\",file=f)\n"
   ]
  }
 ],
 "metadata": {
  "kernelspec": {
   "display_name": "Python 3",
   "language": "python",
   "name": "python3"
  },
  "language_info": {
   "codemirror_mode": {
    "name": "ipython",
    "version": 3
   },
   "file_extension": ".py",
   "mimetype": "text/x-python",
   "name": "python",
   "nbconvert_exporter": "python",
   "pygments_lexer": "ipython3",
   "version": "3.13.5"
  }
 },
 "nbformat": 4,
 "nbformat_minor": 5
}
