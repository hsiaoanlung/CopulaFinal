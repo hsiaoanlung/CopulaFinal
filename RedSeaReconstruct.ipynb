{
 "cells": [
  {
   "cell_type": "code",
   "execution_count": null,
   "id": "969873e9",
   "metadata": {},
   "outputs": [
    {
     "name": "stdout",
     "output_type": "stream",
     "text": [
      "start fit model\n"
     ]
    },
    {
     "name": "stderr",
     "output_type": "stream",
     "text": [
      "Model fitting:  25%|██▌       | 1/4 [00:00<00:00,  3.97it/s]"
     ]
    },
    {
     "name": "stdout",
     "output_type": "stream",
     "text": [
      "ours complete fit\n"
     ]
    },
    {
     "name": "stderr",
     "output_type": "stream",
     "text": [
      "Model fitting:  50%|█████     | 2/4 [04:40<05:29, 164.99s/it]"
     ]
    },
    {
     "name": "stdout",
     "output_type": "stream",
     "text": [
      "copula complete fit\n"
     ]
    },
    {
     "name": "stderr",
     "output_type": "stream",
     "text": [
      "Model fitting:  75%|███████▌  | 3/4 [09:24<03:39, 219.25s/it]"
     ]
    },
    {
     "name": "stdout",
     "output_type": "stream",
     "text": [
      "multi-hist complete fit\n"
     ]
    },
    {
     "name": "stderr",
     "output_type": "stream",
     "text": [
      "Model fitting: 100%|██████████| 4/4 [15:10<00:00, 227.52s/it]\n"
     ]
    },
    {
     "name": "stdout",
     "output_type": "stream",
     "text": [
      "complete fit\n"
     ]
    },
    {
     "name": "stderr",
     "output_type": "stream",
     "text": [
      "總進度: 100%|██████████| 1250000/1250000 [1:26:00<00:00, 242.25it/s]\n"
     ]
    }
   ],
   "source": [
    "from importlib import reload ,import_module\n",
    "import module.utilize as utilize\n",
    "import module.singleVariant as singleVariant\n",
    "import module.multiVariant as multiVariant\n",
    "import numpy as np\n",
    "from numba import njit,jit, float32\n",
    "from tqdm import tqdm\n",
    "import module.multiHistogramSparse as multiHistogramSparse\n",
    "import module.ananlysisFuncion as analysisFunction\n",
    "import module.singleVariantCopulaBase as CopulaBase\n",
    "import math\n",
    "reload(multiHistogramSparse)\n",
    "reload(utilize)\n",
    "reload(multiVariant)\n",
    "reload(singleVariant)\n",
    "reload(analysisFunction)\n",
    "reload(CopulaBase)\n",
    "\n",
    "#attribute_names=np.array([\"SALT\",\"TEMP\",\"U\",\"V\",\"W\"])\n",
    "attribute_names=np.array([\"SALT\",\"TEMP\",\"U\"])\n",
    "all_ensamble_data=np.empty([0,180,20,250,250])\n",
    "incremental_number=180\n",
    "\n",
    "for name in attribute_names:\n",
    "    data=utilize.readRedSeaFile(name)\n",
    "    data=data.reshape(1,180,20,250,250)\n",
    "    all_ensamble_data=np.append(all_ensamble_data,data,axis=0)\n",
    "\n",
    "\n",
    "\n",
    "\n",
    "\n",
    "covBlockSize=5\n",
    "dataBlockSize=5\n",
    "binsNumber=128\n",
    "sizeZ=20\n",
    "sizeY=250\n",
    "sizeX=250\n",
    "minMaxBlockSize=2\n",
    "isMinMax=False\n",
    "\n",
    "conditions=np.array([[36,40],[26,30],[-math.inf,0]])\n",
    "\n",
    "print(\"start fit model\")\n",
    "with tqdm(total=4, desc=\"Model fitting\") as pbar:\n",
    "    #oursModel=multiVariant.multiDistCopula3D(all_ensamble_data,dataBlockSize,covBlockSize,binsNumber,[sizeZ,sizeY,sizeX],minMaxBlockSize,isMinMax)\n",
    "    oursModel=multiVariant.multiDistCopula3D.load(f\"RedSea_{attribute_names.shape[0]}varaibles_{incremental_number}members_128Bins_dBlock5_cBlock5\")\n",
    "    #conditions=np.array([[0,1e5],[3e10,5e10]])\n",
    "    #oursModel.fit()\n",
    "    print(\"ours complete fit\")\n",
    "    pbar.update(1)\n",
    "    copulaBlockSize=2\n",
    "    copulaBaseModel=CopulaBase.multiVariantCopulaBase(all_ensamble_data,copulaBlockSize)\n",
    "    copulaBaseModel.fit()\n",
    "    print(\"copula complete fit\")\n",
    "    pbar.update(1)\n",
    "    multiHistBlockSize=2\n",
    "    multiHistModel=multiHistogramSparse.multiHistogramSpaseModel(all_ensamble_data,blockSize=multiHistBlockSize,binsNumber=binsNumber)\n",
    "    multiHistModel.fit()\n",
    "    print(\"multi-hist complete fit\")\n",
    "    pbar.update(1)\n",
    "    gtModel=multiHistogramSparse.multiHistogramSpaseModel(all_ensamble_data,blockSize=1,binsNumber=binsNumber)\n",
    "    gtModel.fit()\n",
    "\n",
    "    multiBinEdges=gtModel.vBinEdges\n",
    "\n",
    "    print(\"complete fit\")\n",
    "    pbar.update(1)\n",
    "\n",
    "\n",
    "\n",
    "result=np.zeros([sizeZ,sizeY,sizeX],dtype=np.float32)\n",
    "oursResult=np.zeros([sizeZ,sizeY,sizeX],dtype=np.float32)\n",
    "copulaBaseResult=np.zeros([sizeZ,sizeY,sizeX],dtype=np.float32)\n",
    "mtResult=np.zeros([sizeZ,sizeY,sizeX],dtype=np.float32)\n",
    "\n",
    "\n",
    "#oursModel=multiVariant.multiDistCopula3D.load(f\"RedSea_{attribute_names.shape[0]}varaibles_{incremental_number}members_128Bins_dBlock5_cBlock5\")\n",
    "with tqdm(total=sizeZ*sizeY*sizeX, desc=\"總進度\") as pbar:\n",
    "    for idx in range(sizeZ * sizeY * sizeX):\n",
    "        \n",
    "        z = idx // (sizeY * sizeX)\n",
    "        y = (idx // sizeX) % sizeY\n",
    "        x = idx % sizeX      \n",
    "\n",
    "        #Ground Truth\n",
    "        samples=gtModel.sampleByPos(z,y,x) \n",
    "        prob=analysisFunction.probability_in_range_numba(samples,conditions)\n",
    "        result[z,y,x]=prob\n",
    "\n",
    "        #Ours\n",
    "        samples=oursModel.sampleByPos(z,y,x)\n",
    "        prob=analysisFunction.probability_in_range_numba(samples,conditions)\n",
    "        oursResult[z,y,x]=prob\n",
    "        \n",
    "        \n",
    "        #Copula base\n",
    "        samples=copulaBaseModel.sampleByPos(z,y,x)\n",
    "        prob=analysisFunction.probability_in_range_numba(samples,conditions)\n",
    "        copulaBaseResult[z,y,x]=prob\n",
    "\n",
    "        samples=multiHistModel.sampleByPos(z,y,x)\n",
    "        prob=analysisFunction.probability_in_range_numba(samples,conditions)\n",
    "        mtResult[z,y,x]=prob\n",
    "\n",
    "        pbar.update(1)\n",
    "        \n",
    "\n",
    "\n",
    "result.tofile(f\"RedSeaGT_{attribute_names.shape[0]}varaibles.bin\")\n",
    "oursResult.tofile(f\"RedSeaOus_{attribute_names.shape[0]}varaibles.bin\")\n",
    "copulaBaseResult.tofile(f\"RedSeaCopulaBase_{attribute_names.shape[0]}varaibles.bin\")\n",
    "mtResult.tofile(f\"RedSeaMtResult_{attribute_names.shape[0]}varaibles.bin\")"
   ]
  }
 ],
 "metadata": {
  "kernelspec": {
   "display_name": "Python 3",
   "language": "python",
   "name": "python3"
  },
  "language_info": {
   "codemirror_mode": {
    "name": "ipython",
    "version": 3
   },
   "file_extension": ".py",
   "mimetype": "text/x-python",
   "name": "python",
   "nbconvert_exporter": "python",
   "pygments_lexer": "ipython3",
   "version": "3.13.5"
  }
 },
 "nbformat": 4,
 "nbformat_minor": 5
}
