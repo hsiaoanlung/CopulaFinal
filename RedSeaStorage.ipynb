{
 "cells": [
  {
   "cell_type": "code",
   "execution_count": 15,
   "id": "2273b433",
   "metadata": {},
   "outputs": [
    {
     "name": "stdout",
     "output_type": "stream",
     "text": [
      "start fit model\n"
     ]
    },
    {
     "name": "stderr",
     "output_type": "stream",
     "text": [
      "Model fitting:  33%|███▎      | 1/3 [00:01<00:02,  1.03s/it]"
     ]
    },
    {
     "name": "stdout",
     "output_type": "stream",
     "text": [
      "ours complete fit\n"
     ]
    },
    {
     "name": "stderr",
     "output_type": "stream",
     "text": [
      "Model fitting:  67%|██████▋   | 2/3 [05:17<03:06, 186.66s/it]"
     ]
    },
    {
     "name": "stdout",
     "output_type": "stream",
     "text": [
      "copula complete fit\n"
     ]
    },
    {
     "name": "stderr",
     "output_type": "stream",
     "text": [
      "Model fitting: 100%|██████████| 3/3 [08:29<00:00, 170.00s/it]"
     ]
    },
    {
     "name": "stdout",
     "output_type": "stream",
     "text": [
      "multi-hist complete fit\n",
      "complete fit\n"
     ]
    },
    {
     "name": "stderr",
     "output_type": "stream",
     "text": [
      "\n"
     ]
    }
   ],
   "source": [
    "from importlib import reload ,import_module\n",
    "import module.utilize as utilize\n",
    "import module.singleVariant as singleVariant\n",
    "import module.multiVariant as multiVariant\n",
    "import numpy as np\n",
    "from numba import njit,jit, float32\n",
    "from tqdm import tqdm\n",
    "import module.multiHistogramSparse as multiHistogramSparse\n",
    "import module.ananlysisFuncion as analysisFunction\n",
    "import module.singleVariantCopulaBase as CopulaBase\n",
    "reload(multiHistogramSparse)\n",
    "reload(utilize)\n",
    "reload(multiVariant)\n",
    "reload(singleVariant)\n",
    "reload(analysisFunction)\n",
    "reload(CopulaBase)\n",
    "\n",
    "#attribute_names=np.array([\"SALT\",\"TEMP\",\"U\",\"V\",\"W\"])\n",
    "attribute_names=np.array([\"SALT\",\"TEMP\",\"U\",\"V\",])\n",
    "all_ensamble_data=np.empty([0,180,20,250,250])\n",
    "incremental_number=180\n",
    "\n",
    "for name in attribute_names:\n",
    "    data=utilize.readRedSeaFile(name)\n",
    "    data=data.reshape(1,180,20,250,250)\n",
    "    all_ensamble_data=np.append(all_ensamble_data,data,axis=0)\n",
    "\n",
    "\n",
    "\n",
    "\n",
    "\n",
    "covBlockSize=5\n",
    "dataBlockSize=5\n",
    "binsNumber=128\n",
    "sizeZ=20\n",
    "sizeY=250\n",
    "sizeX=250\n",
    "minMaxBlockSize=2\n",
    "isMinMax=False\n",
    "\n",
    "conditions=np.array([[36,40],[26,30]])\n",
    "\n",
    "print(\"start fit model\")\n",
    "with tqdm(total=3, desc=\"Model fitting\") as pbar:\n",
    "    #oursModel=multiVariant.multiDistCopula3D(all_ensamble_data,dataBlockSize,covBlockSize,binsNumber,[sizeZ,sizeY,sizeX],minMaxBlockSize,isMinMax)\n",
    "    oursModel=multiVariant.multiDistCopula3D.load(f\"RedSea_{attribute_names.shape[0]}varaibles_{incremental_number}members_128Bins_dBlock5_cBlock5\")\n",
    "    #conditions=np.array([[0,1e5],[3e10,5e10]])\n",
    "    #oursModel.fit()\n",
    "    print(\"ours complete fit\")\n",
    "    pbar.update(1)\n",
    "    copulaBlockSize=2\n",
    "    copulaBaseModel=CopulaBase.multiVariantCopulaBase(all_ensamble_data,copulaBlockSize)\n",
    "    copulaBaseModel.fit()\n",
    "    print(\"copula complete fit\")\n",
    "    pbar.update(1)\n",
    "    multiHistBlockSize=2\n",
    "    multiHistModel=multiHistogramSparse.multiHistogramSpaseModel(all_ensamble_data,blockSize=multiHistBlockSize,binsNumber=binsNumber)\n",
    "    multiHistModel.fit()\n",
    "    print(\"multi-hist complete fit\")\n",
    "   \n",
    "    print(\"complete fit\")\n",
    "    pbar.update(1)"
   ]
  },
  {
   "cell_type": "code",
   "execution_count": 16,
   "id": "d9e62d5c",
   "metadata": {},
   "outputs": [
    {
     "name": "stdout",
     "output_type": "stream",
     "text": [
      "v0: 267636\n",
      "v1: 561120\n",
      "v2: 957624\n",
      "v3: 1157856\n",
      "cov:150000.0\n",
      "sum:3094236.0\n",
      "copula base storage:12968750.0\n",
      "sparse sum: 94130475\n",
      "sparse non zeros counts:120.487008\n"
     ]
    }
   ],
   "source": [
    "oursModel.getStorageSize()\n",
    "counts=np.array([1.9, 4.1, 7.9, 9.6, ])\n",
    "copulaBaseModel.getStorageSize(counts)\n",
    "multiHistModel.getStorageSize()\n",
    "\n",
    "nonZeros=[]\n",
    "for i in range(len(multiHistModel.blocks)):\n",
    "    nonZeros.append(len(multiHistModel.blocks[i].hist))\n",
    "\n",
    "nonZeros=np.array(nonZeros)\n",
    "print(f\"sparse non zeros counts:{nonZeros.mean()}\")"
   ]
  }
 ],
 "metadata": {
  "kernelspec": {
   "display_name": "Python 3",
   "language": "python",
   "name": "python3"
  },
  "language_info": {
   "codemirror_mode": {
    "name": "ipython",
    "version": 3
   },
   "file_extension": ".py",
   "mimetype": "text/x-python",
   "name": "python",
   "nbconvert_exporter": "python",
   "pygments_lexer": "ipython3",
   "version": "3.13.5"
  }
 },
 "nbformat": 4,
 "nbformat_minor": 5
}
