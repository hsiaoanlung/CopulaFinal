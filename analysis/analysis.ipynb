{
 "cells": [
  {
   "cell_type": "code",
   "execution_count": 2,
   "id": "8690b329",
   "metadata": {},
   "outputs": [
    {
     "name": "stdout",
     "output_type": "stream",
     "text": [
      "multi hist rmse: 0.10149170458316803\n",
      "copula rmse: 0.09101589024066925\n",
      "ours rmse: 0.09214671701192856\n"
     ]
    }
   ],
   "source": [
    "import numpy as np\n",
    "f=open(\"multiHistProb128.bin\")\n",
    "multiHistProb=np.fromfile(f,dtype=np.float32,count=-1)\n",
    "multiHistProb=multiHistProb.reshape(60,60,60)\n",
    "f.close()\n",
    "\n",
    "f=open(\"prob_copulas2.bin\")\n",
    "copulaProb=np.fromfile(f,dtype=np.float32,count=-1)\n",
    "copulaProb=copulaProb.reshape(60,60,60)\n",
    "f.close()\n",
    "\n",
    "f=open(\"probGT59x59x59.bin\")\n",
    "probGT=np.fromfile(f,dtype=np.float32,count=-1)\n",
    "probGT=probGT.reshape(60,60,60)\n",
    "f.close()\n",
    "\n",
    "f=open(\"prob128.bin\")\n",
    "oursProb=np.fromfile(f,dtype=np.float32,count=-1)\n",
    "oursProb=oursProb.reshape(60,60,60)\n",
    "f.close()\n",
    "\n",
    "rmse=np.sqrt(np.mean((probGT-multiHistProb)**2))\n",
    "print(f\"multi hist rmse: {rmse}\")\n",
    "\n",
    "rmse=np.sqrt(np.mean((probGT-copulaProb)**2))\n",
    "print(f\"copula rmse: {rmse}\")\n",
    "\n",
    "rmse=np.sqrt(np.mean((probGT-oursProb)**2))\n",
    "print(f\"ours rmse: {rmse}\")\n",
    "\n",
    "\n"
   ]
  },
  {
   "cell_type": "code",
   "execution_count": null,
   "id": "073c459d",
   "metadata": {},
   "outputs": [
    {
     "ename": "ModuleNotFoundError",
     "evalue": "No module named 'module'",
     "output_type": "error",
     "traceback": [
      "\u001b[31m---------------------------------------------------------------------------\u001b[39m",
      "\u001b[31mModuleNotFoundError\u001b[39m                       Traceback (most recent call last)",
      "\u001b[36mCell\u001b[39m\u001b[36m \u001b[39m\u001b[32mIn[1]\u001b[39m\u001b[32m, line 2\u001b[39m\n\u001b[32m      1\u001b[39m \u001b[38;5;28;01mfrom\u001b[39;00m\u001b[38;5;250m \u001b[39m\u001b[34;01mimportlib\u001b[39;00m\u001b[38;5;250m \u001b[39m\u001b[38;5;28;01mimport\u001b[39;00m reload ,import_module\n\u001b[32m----> \u001b[39m\u001b[32m2\u001b[39m \u001b[38;5;28;01mimport\u001b[39;00m\u001b[38;5;250m \u001b[39m\u001b[34;01mmodule\u001b[39;00m\u001b[34;01m.\u001b[39;00m\u001b[34;01mutilize\u001b[39;00m\u001b[38;5;250m \u001b[39m\u001b[38;5;28;01mas\u001b[39;00m\u001b[38;5;250m \u001b[39m\u001b[34;01mutilize\u001b[39;00m\n\u001b[32m      3\u001b[39m \u001b[38;5;28;01mimport\u001b[39;00m\u001b[38;5;250m \u001b[39m\u001b[34;01mmodule\u001b[39;00m\u001b[34;01m.\u001b[39;00m\u001b[34;01mmultiVariant\u001b[39;00m\u001b[38;5;250m \u001b[39m\u001b[38;5;28;01mas\u001b[39;00m\u001b[38;5;250m \u001b[39m\u001b[34;01mmultiVariant\u001b[39;00m\n\u001b[32m      4\u001b[39m \u001b[38;5;28;01mimport\u001b[39;00m\u001b[38;5;250m \u001b[39m\u001b[34;01mmodule\u001b[39;00m\u001b[34;01m.\u001b[39;00m\u001b[34;01msingleVariant\u001b[39;00m\u001b[38;5;250m \u001b[39m\u001b[38;5;28;01mas\u001b[39;00m\u001b[38;5;250m \u001b[39m\u001b[34;01msingleVariant\u001b[39;00m\n",
      "\u001b[31mModuleNotFoundError\u001b[39m: No module named 'module'"
     ]
    }
   ],
   "source": [
    "\n",
    "            \n",
    "\n",
    "            "
   ]
  }
 ],
 "metadata": {
  "kernelspec": {
   "display_name": "Python 3",
   "language": "python",
   "name": "python3"
  },
  "language_info": {
   "codemirror_mode": {
    "name": "ipython",
    "version": 3
   },
   "file_extension": ".py",
   "mimetype": "text/x-python",
   "name": "python",
   "nbconvert_exporter": "python",
   "pygments_lexer": "ipython3",
   "version": "3.13.5"
  }
 },
 "nbformat": 4,
 "nbformat_minor": 5
}
